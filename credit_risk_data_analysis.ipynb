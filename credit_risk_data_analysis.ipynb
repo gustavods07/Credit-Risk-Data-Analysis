{
  "nbformat": 4,
  "nbformat_minor": 0,
  "metadata": {
    "colab": {
      "name": "credit risk data analysis.ipynb",
      "provenance": [],
      "authorship_tag": "ABX9TyPgmkpGl+2U5qsJRKHgbrMy",
      "include_colab_link": true
    },
    "kernelspec": {
      "name": "python3",
      "display_name": "Python 3"
    },
    "language_info": {
      "name": "python"
    }
  },
  "cells": [
    {
      "cell_type": "markdown",
      "metadata": {
        "id": "view-in-github",
        "colab_type": "text"
      },
      "source": [
        "<a href=\"https://colab.research.google.com/github/gustavods07/Credit-Risk-Data-Analysis/blob/master/credit_risk_data_analysis.ipynb\" target=\"_parent\"><img src=\"https://colab.research.google.com/assets/colab-badge.svg\" alt=\"Open In Colab\"/></a>"
      ]
    },
    {
      "cell_type": "markdown",
      "source": [
        ""
      ],
      "metadata": {
        "id": "X9r7YM3epEw6"
      }
    },
    {
      "cell_type": "markdown",
      "source": [
        "**IMPORTING LIBRIRIES:**"
      ],
      "metadata": {
        "id": "hAeR4SJfpHAR"
      }
    },
    {
      "cell_type": "code",
      "source": [
        "import pandas as pd\n",
        "import numpy as np\n",
        "import seaborn as sns\n",
        "import matplotlib.pyplot as plt\n",
        "import plotly.express as px\n",
        "from sklearn.preprocessing import StandardScaler, OrdinalEncoder, OneHotEncoder\n",
        "from sklearn.model_selection import train_test_split\n",
        "from sklearn.tree import DecisionTreeRegressor, DecisionTreeClassifier\n",
        "from sklearn.ensemble import RandomForestRegressor , RandomForestClassifier\n",
        "from sklearn.metrics import mean_absolute_error, accuracy_score\n",
        "from sklearn.feature_selection import mutual_info_regression\n",
        "import pickle\n",
        "from xgboost import XGBRegressor"
      ],
      "metadata": {
        "id": "skcnIHzupJMp"
      },
      "execution_count": 151,
      "outputs": []
    },
    {
      "cell_type": "markdown",
      "source": [
        "**APPLIED DATASET:** https://www.kaggle.com/laotse/credit-risk-dataset"
      ],
      "metadata": {
        "id": "d-1nUBVwrmda"
      }
    },
    {
      "cell_type": "markdown",
      "source": [
        "**READING THE .CSV FILE AND DISPLAYING THE DATA DISPOSITION:**"
      ],
      "metadata": {
        "id": "bpfFQzrry-gN"
      }
    },
    {
      "cell_type": "markdown",
      "source": [
        "**DATA DESCRIPTION:**\n",
        "\n",
        "* person_age\t= Age \n",
        "* person_income\tAnnual = Income\n",
        "* personhomeownership\t= Home ownership\n",
        "* personemplength\t= Employment length (in years)\n",
        "* loan_intent\t= Loan intent\n",
        "* loan_grade =\tLoan grade\n",
        "* loan_amnt =\tLoan amount\n",
        "* loanintrate =\tInterest rate\n",
        "* loan_status\t= Loan status (0 is non default 1 is default)\n",
        "* loanpercentincome =\tPercent income\n",
        "* cbpersondefaultonfile =\tHistorical default\n",
        "* cbpresoncredhistlength =\tCredit history length"
      ],
      "metadata": {
        "id": "dhSLMSMZimsX"
      }
    },
    {
      "cell_type": "code",
      "source": [
        "data = pd.read_csv('/content/sample_data/credit_risk_dataset.csv')\n",
        "data ## displays the data disposition"
      ],
      "metadata": {
        "id": "nUg-adgMyw5m",
        "colab": {
          "base_uri": "https://localhost:8080/",
          "height": 488
        },
        "outputId": "7d49d41d-cb8a-4197-f5cf-047aa5d78c6d"
      },
      "execution_count": 152,
      "outputs": [
        {
          "output_type": "execute_result",
          "data": {
            "text/plain": [
              "       person_age  person_income person_home_ownership  person_emp_length  \\\n",
              "0              22          59000                  RENT              123.0   \n",
              "1              21           9600                   OWN                5.0   \n",
              "2              25           9600              MORTGAGE                1.0   \n",
              "3              23          65500                  RENT                4.0   \n",
              "4              24          54400                  RENT                8.0   \n",
              "...           ...            ...                   ...                ...   \n",
              "32576          57          53000              MORTGAGE                1.0   \n",
              "32577          54         120000              MORTGAGE                4.0   \n",
              "32578          65          76000                  RENT                3.0   \n",
              "32579          56         150000              MORTGAGE                5.0   \n",
              "32580          66          42000                  RENT                2.0   \n",
              "\n",
              "           loan_intent loan_grade  loan_amnt  loan_int_rate  loan_status  \\\n",
              "0             PERSONAL          D      35000          16.02            1   \n",
              "1            EDUCATION          B       1000          11.14            0   \n",
              "2              MEDICAL          C       5500          12.87            1   \n",
              "3              MEDICAL          C      35000          15.23            1   \n",
              "4              MEDICAL          C      35000          14.27            1   \n",
              "...                ...        ...        ...            ...          ...   \n",
              "32576         PERSONAL          C       5800          13.16            0   \n",
              "32577         PERSONAL          A      17625           7.49            0   \n",
              "32578  HOMEIMPROVEMENT          B      35000          10.99            1   \n",
              "32579         PERSONAL          B      15000          11.48            0   \n",
              "32580          MEDICAL          B       6475           9.99            0   \n",
              "\n",
              "       loan_percent_income cb_person_default_on_file  \\\n",
              "0                     0.59                         Y   \n",
              "1                     0.10                         N   \n",
              "2                     0.57                         N   \n",
              "3                     0.53                         N   \n",
              "4                     0.55                         Y   \n",
              "...                    ...                       ...   \n",
              "32576                 0.11                         N   \n",
              "32577                 0.15                         N   \n",
              "32578                 0.46                         N   \n",
              "32579                 0.10                         N   \n",
              "32580                 0.15                         N   \n",
              "\n",
              "       cb_person_cred_hist_length  \n",
              "0                               3  \n",
              "1                               2  \n",
              "2                               3  \n",
              "3                               2  \n",
              "4                               4  \n",
              "...                           ...  \n",
              "32576                          30  \n",
              "32577                          19  \n",
              "32578                          28  \n",
              "32579                          26  \n",
              "32580                          30  \n",
              "\n",
              "[32581 rows x 12 columns]"
            ],
            "text/html": [
              "\n",
              "  <div id=\"df-54babe1f-552f-4f06-a1a7-ebe090a85f9c\">\n",
              "    <div class=\"colab-df-container\">\n",
              "      <div>\n",
              "<style scoped>\n",
              "    .dataframe tbody tr th:only-of-type {\n",
              "        vertical-align: middle;\n",
              "    }\n",
              "\n",
              "    .dataframe tbody tr th {\n",
              "        vertical-align: top;\n",
              "    }\n",
              "\n",
              "    .dataframe thead th {\n",
              "        text-align: right;\n",
              "    }\n",
              "</style>\n",
              "<table border=\"1\" class=\"dataframe\">\n",
              "  <thead>\n",
              "    <tr style=\"text-align: right;\">\n",
              "      <th></th>\n",
              "      <th>person_age</th>\n",
              "      <th>person_income</th>\n",
              "      <th>person_home_ownership</th>\n",
              "      <th>person_emp_length</th>\n",
              "      <th>loan_intent</th>\n",
              "      <th>loan_grade</th>\n",
              "      <th>loan_amnt</th>\n",
              "      <th>loan_int_rate</th>\n",
              "      <th>loan_status</th>\n",
              "      <th>loan_percent_income</th>\n",
              "      <th>cb_person_default_on_file</th>\n",
              "      <th>cb_person_cred_hist_length</th>\n",
              "    </tr>\n",
              "  </thead>\n",
              "  <tbody>\n",
              "    <tr>\n",
              "      <th>0</th>\n",
              "      <td>22</td>\n",
              "      <td>59000</td>\n",
              "      <td>RENT</td>\n",
              "      <td>123.0</td>\n",
              "      <td>PERSONAL</td>\n",
              "      <td>D</td>\n",
              "      <td>35000</td>\n",
              "      <td>16.02</td>\n",
              "      <td>1</td>\n",
              "      <td>0.59</td>\n",
              "      <td>Y</td>\n",
              "      <td>3</td>\n",
              "    </tr>\n",
              "    <tr>\n",
              "      <th>1</th>\n",
              "      <td>21</td>\n",
              "      <td>9600</td>\n",
              "      <td>OWN</td>\n",
              "      <td>5.0</td>\n",
              "      <td>EDUCATION</td>\n",
              "      <td>B</td>\n",
              "      <td>1000</td>\n",
              "      <td>11.14</td>\n",
              "      <td>0</td>\n",
              "      <td>0.10</td>\n",
              "      <td>N</td>\n",
              "      <td>2</td>\n",
              "    </tr>\n",
              "    <tr>\n",
              "      <th>2</th>\n",
              "      <td>25</td>\n",
              "      <td>9600</td>\n",
              "      <td>MORTGAGE</td>\n",
              "      <td>1.0</td>\n",
              "      <td>MEDICAL</td>\n",
              "      <td>C</td>\n",
              "      <td>5500</td>\n",
              "      <td>12.87</td>\n",
              "      <td>1</td>\n",
              "      <td>0.57</td>\n",
              "      <td>N</td>\n",
              "      <td>3</td>\n",
              "    </tr>\n",
              "    <tr>\n",
              "      <th>3</th>\n",
              "      <td>23</td>\n",
              "      <td>65500</td>\n",
              "      <td>RENT</td>\n",
              "      <td>4.0</td>\n",
              "      <td>MEDICAL</td>\n",
              "      <td>C</td>\n",
              "      <td>35000</td>\n",
              "      <td>15.23</td>\n",
              "      <td>1</td>\n",
              "      <td>0.53</td>\n",
              "      <td>N</td>\n",
              "      <td>2</td>\n",
              "    </tr>\n",
              "    <tr>\n",
              "      <th>4</th>\n",
              "      <td>24</td>\n",
              "      <td>54400</td>\n",
              "      <td>RENT</td>\n",
              "      <td>8.0</td>\n",
              "      <td>MEDICAL</td>\n",
              "      <td>C</td>\n",
              "      <td>35000</td>\n",
              "      <td>14.27</td>\n",
              "      <td>1</td>\n",
              "      <td>0.55</td>\n",
              "      <td>Y</td>\n",
              "      <td>4</td>\n",
              "    </tr>\n",
              "    <tr>\n",
              "      <th>...</th>\n",
              "      <td>...</td>\n",
              "      <td>...</td>\n",
              "      <td>...</td>\n",
              "      <td>...</td>\n",
              "      <td>...</td>\n",
              "      <td>...</td>\n",
              "      <td>...</td>\n",
              "      <td>...</td>\n",
              "      <td>...</td>\n",
              "      <td>...</td>\n",
              "      <td>...</td>\n",
              "      <td>...</td>\n",
              "    </tr>\n",
              "    <tr>\n",
              "      <th>32576</th>\n",
              "      <td>57</td>\n",
              "      <td>53000</td>\n",
              "      <td>MORTGAGE</td>\n",
              "      <td>1.0</td>\n",
              "      <td>PERSONAL</td>\n",
              "      <td>C</td>\n",
              "      <td>5800</td>\n",
              "      <td>13.16</td>\n",
              "      <td>0</td>\n",
              "      <td>0.11</td>\n",
              "      <td>N</td>\n",
              "      <td>30</td>\n",
              "    </tr>\n",
              "    <tr>\n",
              "      <th>32577</th>\n",
              "      <td>54</td>\n",
              "      <td>120000</td>\n",
              "      <td>MORTGAGE</td>\n",
              "      <td>4.0</td>\n",
              "      <td>PERSONAL</td>\n",
              "      <td>A</td>\n",
              "      <td>17625</td>\n",
              "      <td>7.49</td>\n",
              "      <td>0</td>\n",
              "      <td>0.15</td>\n",
              "      <td>N</td>\n",
              "      <td>19</td>\n",
              "    </tr>\n",
              "    <tr>\n",
              "      <th>32578</th>\n",
              "      <td>65</td>\n",
              "      <td>76000</td>\n",
              "      <td>RENT</td>\n",
              "      <td>3.0</td>\n",
              "      <td>HOMEIMPROVEMENT</td>\n",
              "      <td>B</td>\n",
              "      <td>35000</td>\n",
              "      <td>10.99</td>\n",
              "      <td>1</td>\n",
              "      <td>0.46</td>\n",
              "      <td>N</td>\n",
              "      <td>28</td>\n",
              "    </tr>\n",
              "    <tr>\n",
              "      <th>32579</th>\n",
              "      <td>56</td>\n",
              "      <td>150000</td>\n",
              "      <td>MORTGAGE</td>\n",
              "      <td>5.0</td>\n",
              "      <td>PERSONAL</td>\n",
              "      <td>B</td>\n",
              "      <td>15000</td>\n",
              "      <td>11.48</td>\n",
              "      <td>0</td>\n",
              "      <td>0.10</td>\n",
              "      <td>N</td>\n",
              "      <td>26</td>\n",
              "    </tr>\n",
              "    <tr>\n",
              "      <th>32580</th>\n",
              "      <td>66</td>\n",
              "      <td>42000</td>\n",
              "      <td>RENT</td>\n",
              "      <td>2.0</td>\n",
              "      <td>MEDICAL</td>\n",
              "      <td>B</td>\n",
              "      <td>6475</td>\n",
              "      <td>9.99</td>\n",
              "      <td>0</td>\n",
              "      <td>0.15</td>\n",
              "      <td>N</td>\n",
              "      <td>30</td>\n",
              "    </tr>\n",
              "  </tbody>\n",
              "</table>\n",
              "<p>32581 rows × 12 columns</p>\n",
              "</div>\n",
              "      <button class=\"colab-df-convert\" onclick=\"convertToInteractive('df-54babe1f-552f-4f06-a1a7-ebe090a85f9c')\"\n",
              "              title=\"Convert this dataframe to an interactive table.\"\n",
              "              style=\"display:none;\">\n",
              "        \n",
              "  <svg xmlns=\"http://www.w3.org/2000/svg\" height=\"24px\"viewBox=\"0 0 24 24\"\n",
              "       width=\"24px\">\n",
              "    <path d=\"M0 0h24v24H0V0z\" fill=\"none\"/>\n",
              "    <path d=\"M18.56 5.44l.94 2.06.94-2.06 2.06-.94-2.06-.94-.94-2.06-.94 2.06-2.06.94zm-11 1L8.5 8.5l.94-2.06 2.06-.94-2.06-.94L8.5 2.5l-.94 2.06-2.06.94zm10 10l.94 2.06.94-2.06 2.06-.94-2.06-.94-.94-2.06-.94 2.06-2.06.94z\"/><path d=\"M17.41 7.96l-1.37-1.37c-.4-.4-.92-.59-1.43-.59-.52 0-1.04.2-1.43.59L10.3 9.45l-7.72 7.72c-.78.78-.78 2.05 0 2.83L4 21.41c.39.39.9.59 1.41.59.51 0 1.02-.2 1.41-.59l7.78-7.78 2.81-2.81c.8-.78.8-2.07 0-2.86zM5.41 20L4 18.59l7.72-7.72 1.47 1.35L5.41 20z\"/>\n",
              "  </svg>\n",
              "      </button>\n",
              "      \n",
              "  <style>\n",
              "    .colab-df-container {\n",
              "      display:flex;\n",
              "      flex-wrap:wrap;\n",
              "      gap: 12px;\n",
              "    }\n",
              "\n",
              "    .colab-df-convert {\n",
              "      background-color: #E8F0FE;\n",
              "      border: none;\n",
              "      border-radius: 50%;\n",
              "      cursor: pointer;\n",
              "      display: none;\n",
              "      fill: #1967D2;\n",
              "      height: 32px;\n",
              "      padding: 0 0 0 0;\n",
              "      width: 32px;\n",
              "    }\n",
              "\n",
              "    .colab-df-convert:hover {\n",
              "      background-color: #E2EBFA;\n",
              "      box-shadow: 0px 1px 2px rgba(60, 64, 67, 0.3), 0px 1px 3px 1px rgba(60, 64, 67, 0.15);\n",
              "      fill: #174EA6;\n",
              "    }\n",
              "\n",
              "    [theme=dark] .colab-df-convert {\n",
              "      background-color: #3B4455;\n",
              "      fill: #D2E3FC;\n",
              "    }\n",
              "\n",
              "    [theme=dark] .colab-df-convert:hover {\n",
              "      background-color: #434B5C;\n",
              "      box-shadow: 0px 1px 3px 1px rgba(0, 0, 0, 0.15);\n",
              "      filter: drop-shadow(0px 1px 2px rgba(0, 0, 0, 0.3));\n",
              "      fill: #FFFFFF;\n",
              "    }\n",
              "  </style>\n",
              "\n",
              "      <script>\n",
              "        const buttonEl =\n",
              "          document.querySelector('#df-54babe1f-552f-4f06-a1a7-ebe090a85f9c button.colab-df-convert');\n",
              "        buttonEl.style.display =\n",
              "          google.colab.kernel.accessAllowed ? 'block' : 'none';\n",
              "\n",
              "        async function convertToInteractive(key) {\n",
              "          const element = document.querySelector('#df-54babe1f-552f-4f06-a1a7-ebe090a85f9c');\n",
              "          const dataTable =\n",
              "            await google.colab.kernel.invokeFunction('convertToInteractive',\n",
              "                                                     [key], {});\n",
              "          if (!dataTable) return;\n",
              "\n",
              "          const docLinkHtml = 'Like what you see? Visit the ' +\n",
              "            '<a target=\"_blank\" href=https://colab.research.google.com/notebooks/data_table.ipynb>data table notebook</a>'\n",
              "            + ' to learn more about interactive tables.';\n",
              "          element.innerHTML = '';\n",
              "          dataTable['output_type'] = 'display_data';\n",
              "          await google.colab.output.renderOutput(dataTable, element);\n",
              "          const docLink = document.createElement('div');\n",
              "          docLink.innerHTML = docLinkHtml;\n",
              "          element.appendChild(docLink);\n",
              "        }\n",
              "      </script>\n",
              "    </div>\n",
              "  </div>\n",
              "  "
            ]
          },
          "metadata": {},
          "execution_count": 152
        }
      ]
    },
    {
      "cell_type": "markdown",
      "source": [
        "**COUNTING THE UNIQUE VALUES OF A COLUMN (IN THIS CASE, THE 'person_age' COLUMN) FROM A FILTERED AMOUNT OF DATA:**\n",
        "\n",
        "\n"
      ],
      "metadata": {
        "id": "9uiClnj--BKF"
      }
    },
    {
      "cell_type": "code",
      "source": [
        "loan_people = np.unique(data['loan_status'], return_counts = True) ## it is possible to comprehend how much people of this dataset are or aren't in debts\n",
        "default = data[data['loan_status'] == 1] ## here the data is filtered to group only the data from people with debts (loan_status = 1) into the default variable\n",
        "age_diversity = np.unique(default['person_age']) ## it is possible to understand how diverse is this dataset in terms of age\n",
        "print(loan_people)\n",
        "print(age_diversity)"
      ],
      "metadata": {
        "id": "mWUnIdUY-Jf8",
        "colab": {
          "base_uri": "https://localhost:8080/"
        },
        "outputId": "6a07aea4-bd87-48ff-f12e-a1d3af9ebbaa"
      },
      "execution_count": 153,
      "outputs": [
        {
          "output_type": "stream",
          "name": "stdout",
          "text": [
            "(array([0, 1]), array([25473,  7108]))\n",
            "[20 21 22 23 24 25 26 27 28 29 30 31 32 33 34 35 36 37 38 39 40 41 42 43\n",
            " 44 45 46 47 48 49 50 51 52 53 54 55 56 57 58 60 61 62 63 64 65 66 70]\n"
          ]
        }
      ]
    },
    {
      "cell_type": "markdown",
      "source": [
        "**PLOTING THE OBTAINED DATA FROM THE PREVIOUS COMMAND INTO GRAPHS:**"
      ],
      "metadata": {
        "id": "ytEOKWAvANe9"
      }
    },
    {
      "cell_type": "code",
      "source": [
        "sns.countplot(x = data['loan_status']);\n",
        "## it is possible to comprehend the loan status disposition of the people monitored in this dataset\n",
        "## 0 = without debts, 1 = in debts"
      ],
      "metadata": {
        "id": "KSPJTEmlMQ-r",
        "colab": {
          "base_uri": "https://localhost:8080/",
          "height": 275
        },
        "outputId": "820bf8fc-158f-4e90-a0da-fc1e1ff7c7fd"
      },
      "execution_count": 154,
      "outputs": [
        {
          "output_type": "display_data",
          "data": {
            "text/plain": [
              "<Figure size 1512x432 with 1 Axes>"
            ],
            "image/png": "[encoded data removed]"
          },
          "metadata": {}
        }
      ]
    },
    {
      "cell_type": "code",
      "source": [
        "sns.set(rc = {'figure.figsize':(21,6)}) ## changes the plot dimensions to display correctly the parameters\n",
        "sns.countplot(x = default['person_age']); ## shows how much people have the documented ages\n",
        "## it is possible to comprehend the age disposition of the people monitored in this dataset"
      ],
      "metadata": {
        "id": "yJIWrtjNA1Fv",
        "colab": {
          "base_uri": "https://localhost:8080/",
          "height": 278
        },
        "outputId": "c627e27b-db2a-4286-fe1c-de96ca067ac6"
      },
      "execution_count": 155,
      "outputs": [
        {
          "output_type": "display_data",
          "data": {
            "text/plain": [
              "<Figure size 1512x432 with 1 Axes>"
            ],
            "image/png": "[encoded data removed]"
          },
          "metadata": {}
        }
      ]
    },
    {
      "cell_type": "code",
      "source": [
        "plt.hist(x = default['person_age']); \n",
        "## shows the distribuition of the people in debts in age intervals (using a histogram)\n",
        "## it's important to say that the values at the bottom represent the age and the values at the right size represent the number of people\n",
        "## since the number of people with more than 60 years is low, the values cannot be observed in this plot"
      ],
      "metadata": {
        "id": "8ajZfgHbBhET",
        "colab": {
          "base_uri": "https://localhost:8080/",
          "height": 270
        },
        "outputId": "a844487a-1e70-4182-df89-81d30fd12064"
      },
      "execution_count": 156,
      "outputs": [
        {
          "output_type": "display_data",
          "data": {
            "text/plain": [
              "<Figure size 1512x432 with 1 Axes>"
            ],
            "image/png": "[encoded data removed]"
          },
          "metadata": {}
        }
      ]
    },
    {
      "cell_type": "code",
      "source": [
        "plt.hist(x = default['person_income']);\n",
        "## shows the distribuition of the people in debts in income intervals (using a histogram)\n"
      ],
      "metadata": {
        "id": "bA_XU-hNNqEP",
        "colab": {
          "base_uri": "https://localhost:8080/",
          "height": 268
        },
        "outputId": "998d9d34-2768-4847-ad87-2fc3ab454f42"
      },
      "execution_count": 157,
      "outputs": [
        {
          "output_type": "display_data",
          "data": {
            "text/plain": [
              "<Figure size 1512x432 with 1 Axes>"
            ],
            "image/png": "[encoded data removed]"
          },
          "metadata": {}
        }
      ]
    },
    {
      "cell_type": "code",
      "source": [
        "sns.countplot(x = default['loan_intent']);\n",
        "## shows the distribuition of loan intent between people in debts\n"
      ],
      "metadata": {
        "id": "pRxJHXB9Oq60",
        "colab": {
          "base_uri": "https://localhost:8080/",
          "height": 277
        },
        "outputId": "444cab88-4a46-485b-bfb8-9eb711dbdd15"
      },
      "execution_count": 158,
      "outputs": [
        {
          "output_type": "display_data",
          "data": {
            "text/plain": [
              "<Figure size 1512x432 with 1 Axes>"
            ],
            "image/png": "[encoded data removed]"
          },
          "metadata": {}
        }
      ]
    },
    {
      "cell_type": "markdown",
      "source": [
        "**PARTIAL CONCLUSIONS 1:**\n",
        "* At this moment is possible comprehend that young people are \n",
        "substentialy more in debts than older people.\n",
        "* It is also possible to understand that the proportion of people with debts per people without debts is $7108/25473$.\n",
        "* The 4th graph shows how people in debts usually have lower incomes.\n",
        "* The 5th graph shows that Medical and Debit Consolidation loans are the most commom debts.\n"
      ],
      "metadata": {
        "id": "ZYku7E0Tk1Fo"
      }
    },
    {
      "cell_type": "markdown",
      "source": [
        "**FILTERING AND CLUSTERING DATA**:"
      ],
      "metadata": {
        "id": "5Ahfh2hcQbCi"
      }
    },
    {
      "cell_type": "code",
      "source": [
        "higher_income = default[default['person_income']>= 10000 ] ## people in debts with income higher than 99999\n",
        "lower_income = default[default['person_income']< 10000 ] ## people in debts with lower higher than 10000"
      ],
      "metadata": {
        "id": "nvo7ym4BUyjx"
      },
      "execution_count": 159,
      "outputs": []
    },
    {
      "cell_type": "markdown",
      "source": [
        "**GRAPHS BASED IN THESE TWO CLUSTERED PARAMETERS:**"
      ],
      "metadata": {
        "id": "bPSM0z4dVgWj"
      }
    },
    {
      "cell_type": "code",
      "source": [
        "parameter_order = ['PERSONAL','MEDICAL','EDUCATION','VENTURE','HOMEIMPROVEMENT','DEBTCONSOLIDATION']\n",
        "sns.countplot(x = lower_income['loan_intent'], order = parameter_order);\n",
        "## shows the distribuition of loan intent between people in debts and income higher than 9999"
      ],
      "metadata": {
        "id": "13Qc-6ybZa56",
        "colab": {
          "base_uri": "https://localhost:8080/",
          "height": 280
        },
        "outputId": "09d6d921-f2ff-4d84-dd7d-dd3cac3aa654"
      },
      "execution_count": 160,
      "outputs": [
        {
          "output_type": "display_data",
          "data": {
            "text/plain": [
              "<Figure size 1512x432 with 1 Axes>"
            ],
            "image/png": "[encoded data removed]"
          },
          "metadata": {}
        }
      ]
    },
    {
      "cell_type": "code",
      "source": [
        "parameter_order = ['PERSONAL','MEDICAL','EDUCATION','VENTURE','HOMEIMPROVEMENT','DEBTCONSOLIDATION']\n",
        "sns.countplot(x = higher_income['loan_intent'], order = parameter_order);\n",
        "## shows the distribuition of loan intent between people in debts and income lower than 10000"
      ],
      "metadata": {
        "id": "uf5bxfxganoP",
        "colab": {
          "base_uri": "https://localhost:8080/",
          "height": 277
        },
        "outputId": "1b8bfcdc-fd2a-4b62-bfcc-687924085cd4"
      },
      "execution_count": 161,
      "outputs": [
        {
          "output_type": "display_data",
          "data": {
            "text/plain": [
              "<Figure size 1512x432 with 1 Axes>"
            ],
            "image/png": "[encoded data removed]"
          },
          "metadata": {}
        }
      ]
    },
    {
      "cell_type": "markdown",
      "source": [
        "**PARTIAL CONCLUSIONS 2:**\n",
        "* Now is possible to understand that people with lower income  and debts usually use more the loans to pay for venture and education purposes.\n",
        "* Although, people with higher income and debts use more the loans to pay for medical and debt consolidation purposes.\n",
        "* At a first look it is acceptable to think that, to people with lower income, loans destined to venture and education purposes are more risky. For people with higher income, loans destined to medical and debt consolidation purposes are more risky.\n"
      ],
      "metadata": {
        "id": "Unl7C9oifY8n"
      }
    },
    {
      "cell_type": "markdown",
      "source": [
        "**MEAN VALUES OF SELECTED PARAMETERS IN A CHOSEN INTERVAL:**"
      ],
      "metadata": {
        "id": "qF6PcuhcZVEs"
      }
    },
    {
      "cell_type": "code",
      "source": [
        "from numpy.core.fromnumeric import mean\n",
        "mean_debt = default['loan_amnt'][default['person_age']> 25][default['person_age']< 40].mean()\n",
        "## filtering the data and obtaining the mean amount in debt of people between 26 and 39 years old.]\n",
        "print(mean_debt) "
      ],
      "metadata": {
        "id": "G9_o31T7dyH7",
        "colab": {
          "base_uri": "https://localhost:8080/"
        },
        "outputId": "82e1cdb9-2238-4d4d-84bb-f3e8a388ce60"
      },
      "execution_count": 162,
      "outputs": [
        {
          "output_type": "stream",
          "name": "stdout",
          "text": [
            "11262.934000625586\n"
          ]
        }
      ]
    },
    {
      "cell_type": "markdown",
      "source": [
        "**TREATING DATA INCONSISTENCIES:**"
      ],
      "metadata": {
        "id": "rdZyIDhYVL3v"
      }
    },
    {
      "cell_type": "markdown",
      "source": [
        "**EXPECTED RESULTS (LOAN STATUS):** the expected output of the machine learning algorithm"
      ],
      "metadata": {
        "id": "5OCwx0Q4pn91"
      }
    },
    {
      "cell_type": "code",
      "source": [
        "## Here we capture the loan status (paid or in debt) related to every person in the dataset\n",
        "y = data.loan_status"
      ],
      "metadata": {
        "id": "TW7GWd1zpz9l"
      },
      "execution_count": 163,
      "outputs": []
    },
    {
      "cell_type": "markdown",
      "source": [
        "**PREDICTIVE ATTRIBUTES:**\n",
        "\n",
        "* It is fundamental to comprehend the variables before select the colmns to perform as predictive attributes.\n",
        "* In this scenario, we need to understand the categorical variables.\n",
        "\n"
      ],
      "metadata": {
        "id": "3Zu3Vm2rhlO4"
      }
    },
    {
      "cell_type": "markdown",
      "source": [
        "**UNDERSTANDING THE CATEGORICAL VARIABLES:**\n",
        "This dataset have 4 categorical variables:\n",
        "* person_home_ownership\t\n",
        "* loan_intent\n",
        "* loan_grade\n",
        "* cb_person_default_on_file\n",
        "\n",
        "To understand this variables after reading the dataset description, i will print all unique values of each variable:\n"
      ],
      "metadata": {
        "id": "54VptthOmqcu"
      }
    },
    {
      "cell_type": "code",
      "source": [
        "variables = ['person_home_ownership' , 'loan_intent' , 'loan_grade' , 'cb_person_default_on_file']\n",
        "for variable in variables:\n",
        "  print(variable,data[variable].unique(),'\\n')"
      ],
      "metadata": {
        "colab": {
          "base_uri": "https://localhost:8080/"
        },
        "id": "v2MFuMfkoTdn",
        "outputId": "3916a564-d460-4340-96e8-e05e7b1de8e9"
      },
      "execution_count": 164,
      "outputs": [
        {
          "output_type": "stream",
          "name": "stdout",
          "text": [
            "person_home_ownership ['RENT' 'OWN' 'MORTGAGE' 'OTHER'] \n",
            "\n",
            "loan_intent ['PERSONAL' 'EDUCATION' 'MEDICAL' 'VENTURE' 'HOMEIMPROVEMENT'\n",
            " 'DEBTCONSOLIDATION'] \n",
            "\n",
            "loan_grade ['D' 'B' 'C' 'A' 'E' 'F' 'G'] \n",
            "\n",
            "cb_person_default_on_file ['Y' 'N'] \n",
            "\n"
          ]
        }
      ]
    },
    {
      "cell_type": "markdown",
      "source": [
        "* This dataset apparently have some strange values: the number 27.718043958742633 is appearing even in the place of categorical data.\n",
        "* We can use mechanisms to treat this inconsistence with data filtering and treatment:"
      ],
      "metadata": {
        "id": "l0_u-UMErAfL"
      }
    },
    {
      "cell_type": "code",
      "source": [
        "errors = data.loc[data.person_home_ownership == 27.718043958742633]"
      ],
      "metadata": {
        "id": "zby-ssmpPdXa"
      },
      "execution_count": 165,
      "outputs": []
    },
    {
      "cell_type": "markdown",
      "source": [
        "* Above we can see how these rows are corrupted: the same value is represented in all columns.\n",
        "* Since all the values are the same, the better option is to drop the respective rows:"
      ],
      "metadata": {
        "id": "F4KArc21qkWY"
      }
    },
    {
      "cell_type": "code",
      "source": [
        "data.drop(errors.index,axis=0,inplace=True) #erasing the rows"
      ],
      "metadata": {
        "id": "u3Nl3L8luuQi"
      },
      "execution_count": 166,
      "outputs": []
    },
    {
      "cell_type": "markdown",
      "source": [
        "* checking again the unique values of each categorical variable:"
      ],
      "metadata": {
        "id": "c7OxQG6ewI5n"
      }
    },
    {
      "cell_type": "code",
      "source": [
        "variables = ['person_home_ownership' , 'loan_intent' , 'loan_grade' , 'cb_person_default_on_file']\n",
        "for variable in variables:\n",
        "  print(variable,data[variable].unique(),'\\n')"
      ],
      "metadata": {
        "colab": {
          "base_uri": "https://localhost:8080/"
        },
        "id": "7mOpP4GDwOHH",
        "outputId": "1a92b73b-b516-49e9-fb35-b6221b7fbcb1"
      },
      "execution_count": 167,
      "outputs": [
        {
          "output_type": "stream",
          "name": "stdout",
          "text": [
            "person_home_ownership ['RENT' 'OWN' 'MORTGAGE' 'OTHER'] \n",
            "\n",
            "loan_intent ['PERSONAL' 'EDUCATION' 'MEDICAL' 'VENTURE' 'HOMEIMPROVEMENT'\n",
            " 'DEBTCONSOLIDATION'] \n",
            "\n",
            "loan_grade ['D' 'B' 'C' 'A' 'E' 'F' 'G'] \n",
            "\n",
            "cb_person_default_on_file ['Y' 'N'] \n",
            "\n"
          ]
        }
      ]
    },
    {
      "cell_type": "markdown",
      "source": [
        "* Now, to comprehend the categorical data we can plot the **loan_status** per each category (i am trying to comprehend the inclination to loan_status per category, so i need to normalize the data by the number of people since, as we observed in the first graphs, the dataset have much more people without depts then in debts):"
      ],
      "metadata": {
        "id": "WLLWyYxWv_cZ"
      }
    },
    {
      "cell_type": "code",
      "source": [
        "x= len(data[data.loan_status == 0])\n",
        "y= len(data[data.loan_status == 1])\n",
        "for feature in data:\n",
        "  if data[feature].dtype == object and feature != 'loan_status':\n",
        "    print(feature)\n",
        "    df = data.groupby('loan_status')[feature].value_counts()\n",
        "    df = data.groupby('loan_status')[feature].value_counts()\n",
        "    df2 = df[0].divide(x)\n",
        "    df3 = df[1].divide(y)\n",
        "    df4 = pd.concat([df2, df3], keys=['0', '1'])\n",
        "    ##yep i did all of this because i did not founf a 'inplace' parameter in the documentation of pandas divide for series\n",
        "    df4.unstack().plot.barh()\n"
      ],
      "metadata": {
        "colab": {
          "base_uri": "https://localhost:8080/",
          "height": 1000
        },
        "id": "PW3qyIhOzyrI",
        "outputId": "d9466cd5-a0f2-4acb-e133-90f041eb89b8"
      },
      "execution_count": 168,
      "outputs": [
        {
          "output_type": "stream",
          "name": "stdout",
          "text": [
            "person_home_ownership\n",
            "loan_intent\n",
            "loan_grade\n",
            "cb_person_default_on_file\n"
          ]
        },
        {
          "output_type": "display_data",
          "data": {
            "text/plain": [
              "<Figure size 1512x432 with 1 Axes>"
            ],
            "image/png": "[encoded data removed]"
          },
          "metadata": {}
        },
        {
          "output_type": "display_data",
          "data": {
            "text/plain": [
              "<Figure size 1512x432 with 1 Axes>"
            ],
            "image/png": "[encoded data removed]"
          },
          "metadata": {}
        },
        {
          "output_type": "display_data",
          "data": {
            "text/plain": [
              "<Figure size 1512x432 with 1 Axes>"
            ],
            "image/png": "[encoded data removed]"
          },
          "metadata": {}
        },
        {
          "output_type": "display_data",
          "data": {
            "text/plain": [
              "<Figure size 1512x432 with 1 Axes>"
            ],
            "image/png": "[encoded data removed]"
          },
          "metadata": {}
        }
      ]
    },
    {
      "cell_type": "markdown",
      "source": [
        "* As we can see, some variables have clearly different trends for situations with debts and without debts. This could represent something to a machine learning model. So, the best categorical values to our machine learning models seems to be :\n",
        "\n",
        "\n",
        "\n",
        "> * **Person home ownership**\n",
        "> * **loan grade**\n",
        "> * **Loan intent**\n",
        "\n",
        "\n",
        "\n",
        "\n"
      ],
      "metadata": {
        "id": "c4Zh1N1cM4Da"
      }
    },
    {
      "cell_type": "markdown",
      "source": [
        "**MUTUAL INFORMATION ANALYSIS:**\n",
        "\n",
        "* Now we can use Mutual Information looking for the best predictive features.\n",
        "\n",
        "* Mutual information describes relationships in terms of uncertainty. The mutual information (MI) between two quantities is a measure of the extent to which knowledge of one quantity reduces uncertainty about the other.\n",
        "* The first step is encoding the categorical variables (For this step, i am using label encoding, since we just want to check the Mutual Information, later i will encode these variables properly):\n"
      ],
      "metadata": {
        "id": "bmBq0VH3LEDn"
      }
    },
    {
      "cell_type": "code",
      "source": [
        "X = data.copy() ##copying the dataframe to preserve the actual condition of the original one\n",
        "y = X.pop(\"loan_status\")\n",
        "\n",
        "for colname in X.select_dtypes(\"object\"):\n",
        "    X[colname], _ = X[colname].factorize() ##label encoding \n",
        "\n",
        "discrete_features = X.dtypes == int # double-checking if all discrete features now have integer dtypes before using Mutual Information\n",
        "discrete_features\n",
        "\n",
        "\n"
      ],
      "metadata": {
        "id": "4oxjcnn_XmFa",
        "colab": {
          "base_uri": "https://localhost:8080/"
        },
        "outputId": "e0489108-21d5-4c0d-a611-731fab61c17e"
      },
      "execution_count": 169,
      "outputs": [
        {
          "output_type": "execute_result",
          "data": {
            "text/plain": [
              "person_age                     True\n",
              "person_income                  True\n",
              "person_home_ownership          True\n",
              "person_emp_length             False\n",
              "loan_intent                    True\n",
              "loan_grade                     True\n",
              "loan_amnt                      True\n",
              "loan_int_rate                 False\n",
              "loan_percent_income           False\n",
              "cb_person_default_on_file      True\n",
              "cb_person_cred_hist_length     True\n",
              "dtype: bool"
            ]
          },
          "metadata": {},
          "execution_count": 169
        }
      ]
    },
    {
      "cell_type": "markdown",
      "source": [
        "* Honestly here i'm not so sure about why we need to use garantee only integer dtypes, but i discovered that NaN values were causing errors in the MI process, so i will remove the columns with NaN values of the process and mantain the float ones."
      ],
      "metadata": {
        "id": "a95DbtyF2pdn"
      }
    },
    {
      "cell_type": "markdown",
      "source": [
        "* Since we can't have NaN (missing) values to obtain the Mutual Information (and since they can couse accuracy loss to a machine larning algorithm), i am checking the presence of it:"
      ],
      "metadata": {
        "id": "BUFG1tjF5iQP"
      }
    },
    {
      "cell_type": "code",
      "source": [
        "data.isnull().sum() ##getting all missing values per column"
      ],
      "metadata": {
        "colab": {
          "base_uri": "https://localhost:8080/"
        },
        "id": "em5zGxpG5Agl",
        "outputId": "55d6efaa-6ee6-4242-9f37-34a5692a7556"
      },
      "execution_count": 170,
      "outputs": [
        {
          "output_type": "execute_result",
          "data": {
            "text/plain": [
              "person_age                       0\n",
              "person_income                    0\n",
              "person_home_ownership            0\n",
              "person_emp_length              895\n",
              "loan_intent                      0\n",
              "loan_grade                       0\n",
              "loan_amnt                        0\n",
              "loan_int_rate                 3116\n",
              "loan_status                      0\n",
              "loan_percent_income              0\n",
              "cb_person_default_on_file        0\n",
              "cb_person_cred_hist_length       0\n",
              "dtype: int64"
            ]
          },
          "metadata": {},
          "execution_count": 170
        }
      ]
    },
    {
      "cell_type": "code",
      "source": [
        "data.shape[0] ##getting the number of rows to understand the percentage of the missing values between all data"
      ],
      "metadata": {
        "colab": {
          "base_uri": "https://localhost:8080/"
        },
        "id": "XOjZu2oE7zqg",
        "outputId": "9508d50e-ca69-4ddb-ba0b-82997d4a3a8a"
      },
      "execution_count": 171,
      "outputs": [
        {
          "output_type": "execute_result",
          "data": {
            "text/plain": [
              "32581"
            ]
          },
          "metadata": {},
          "execution_count": 171
        }
      ]
    },
    {
      "cell_type": "markdown",
      "source": [
        "* Unfortunally we have a lot of missing values between the 'person_emp_length' and 'loan_int_rate' values.\n",
        "* We could replace them with the means but this could provide a wrong bias for Mutual information.\n",
        "* We have some options: **drop these two columns** , **dropping the missing values to get the Mutual Information based only in the existent ones**, **assign a new value for the NaN entries**, **drop the rows with NaN values**(since we have more than 3000 rows with NaN values we could just have accuracy loss). \n",
        "* For now i think we can just drop the two columns(i am trying to prove myself and do a good job but for now i'm gonna stay in the basics and leave the performance and accuracy improvements to the future)."
      ],
      "metadata": {
        "id": "rdk1Dx9_7kcH"
      }
    },
    {
      "cell_type": "code",
      "source": [
        "X.drop(['person_emp_length','loan_int_rate'],axis=1,inplace=True)"
      ],
      "metadata": {
        "id": "wauEs6pmGht8"
      },
      "execution_count": 172,
      "outputs": []
    },
    {
      "cell_type": "code",
      "source": [
        "\n",
        "def make_mi_scores(X, y, discrete_features):\n",
        "    mi_scores = mutual_info_regression(X, y)\n",
        "    mi_scores = pd.Series(mi_scores, name=\"MI Scores\", index=X.columns)\n",
        "    mi_scores = mi_scores.sort_values(ascending=False)\n",
        "    return mi_scores\n",
        "\n",
        "mi_scores = make_mi_scores(X, y, discrete_features)\n",
        "mi_scores"
      ],
      "metadata": {
        "colab": {
          "base_uri": "https://localhost:8080/"
        },
        "id": "zsFB6gUq6IXY",
        "outputId": "29e541be-eb2f-49dc-b543-8db01ea7316f"
      },
      "execution_count": 173,
      "outputs": [
        {
          "output_type": "execute_result",
          "data": {
            "text/plain": [
              "person_income                 0.110819\n",
              "loan_percent_income           0.085616\n",
              "loan_grade                    0.072630\n",
              "person_home_ownership         0.027424\n",
              "cb_person_default_on_file     0.018459\n",
              "loan_amnt                     0.014783\n",
              "loan_intent                   0.012565\n",
              "person_age                    0.000000\n",
              "cb_person_cred_hist_length    0.000000\n",
              "Name: MI Scores, dtype: float64"
            ]
          },
          "metadata": {},
          "execution_count": 173
        }
      ]
    },
    {
      "cell_type": "markdown",
      "source": [
        "* According to Mutual Value calculation, the best variables to use as predictive features are **person_income ,loan_percent_income , loan_grade , and person_home_ownership**\n",
        "* The mutual information offer us a clue about what features take as predictive variables, but it's important to not rely only on MI to decide.\n",
        "* Sometimes, features can have interaction effects about each other, and we can look to this using plots for exemple.\n"
      ],
      "metadata": {
        "id": "162A3ok_38Ik"
      }
    },
    {
      "cell_type": "code",
      "source": [
        "for feature in data:\n",
        "  if data[feature].dtype != object and feature != 'loan_status':\n",
        "          data.plot.scatter(x = 'loan_status' , y = feature)"
      ],
      "metadata": {
        "colab": {
          "base_uri": "https://localhost:8080/",
          "height": 1000
        },
        "id": "_sls6jPVexC0",
        "outputId": "92d60a5c-59fd-4464-e260-8a6f84f63adb"
      },
      "execution_count": 174,
      "outputs": [
        {
          "output_type": "stream",
          "name": "stderr",
          "text": [
            "*c* argument looks like a single numeric RGB or RGBA sequence, which should be avoided as value-mapping will have precedence in case its length matches with *x* & *y*.  Please use the *color* keyword-argument or provide a 2-D array with a single row if you intend to specify the same RGB or RGBA value for all points.\n",
            "*c* argument looks like a single numeric RGB or RGBA sequence, which should be avoided as value-mapping will have precedence in case its length matches with *x* & *y*.  Please use the *color* keyword-argument or provide a 2-D array with a single row if you intend to specify the same RGB or RGBA value for all points.\n",
            "*c* argument looks like a single numeric RGB or RGBA sequence, which should be avoided as value-mapping will have precedence in case its length matches with *x* & *y*.  Please use the *color* keyword-argument or provide a 2-D array with a single row if you intend to specify the same RGB or RGBA value for all points.\n",
            "*c* argument looks like a single numeric RGB or RGBA sequence, which should be avoided as value-mapping will have precedence in case its length matches with *x* & *y*.  Please use the *color* keyword-argument or provide a 2-D array with a single row if you intend to specify the same RGB or RGBA value for all points.\n",
            "*c* argument looks like a single numeric RGB or RGBA sequence, which should be avoided as value-mapping will have precedence in case its length matches with *x* & *y*.  Please use the *color* keyword-argument or provide a 2-D array with a single row if you intend to specify the same RGB or RGBA value for all points.\n",
            "*c* argument looks like a single numeric RGB or RGBA sequence, which should be avoided as value-mapping will have precedence in case its length matches with *x* & *y*.  Please use the *color* keyword-argument or provide a 2-D array with a single row if you intend to specify the same RGB or RGBA value for all points.\n",
            "*c* argument looks like a single numeric RGB or RGBA sequence, which should be avoided as value-mapping will have precedence in case its length matches with *x* & *y*.  Please use the *color* keyword-argument or provide a 2-D array with a single row if you intend to specify the same RGB or RGBA value for all points.\n"
          ]
        },
        {
          "output_type": "display_data",
          "data": {
            "text/plain": [
              "<Figure size 1512x432 with 1 Axes>"
            ],
            "image/png": "[encoded data removed]"
          },
          "metadata": {}
        },
        {
          "output_type": "display_data",
          "data": {
            "text/plain": [
              "<Figure size 1512x432 with 1 Axes>"
            ],
            "image/png": "[encoded data removed]"
          },
          "metadata": {}
        },
        {
          "output_type": "display_data",
          "data": {
            "text/plain": [
              "<Figure size 1512x432 with 1 Axes>"
            ],
            "image/png": "[encoded data removed]"
          },
          "metadata": {}
        },
        {
          "output_type": "display_data",
          "data": {
            "text/plain": [
              "<Figure size 1512x432 with 1 Axes>"
            ],
            "image/png": "[encoded data removed]"
          },
          "metadata": {}
        },
        {
          "output_type": "display_data",
          "data": {
            "text/plain": [
              "<Figure size 1512x432 with 1 Axes>"
            ],
            "image/png": "[encoded data removed]"
          },
          "metadata": {}
        },
        {
          "output_type": "display_data",
          "data": {
            "text/plain": [
              "<Figure size 1512x432 with 1 Axes>"
            ],
            "image/png": "[encoded data removed]"
          },
          "metadata": {}
        },
        {
          "output_type": "display_data",
          "data": {
            "text/plain": [
              "<Figure size 1512x432 with 1 Axes>"
            ],
            "image/png": "[encoded data removed]"
          },
          "metadata": {}
        }
      ]
    },
    {
      "cell_type": "markdown",
      "source": [
        "* My methodology after seeing these plots was think about features with restricted presences to certain ranges:\n",
        "* As an example, after certain **person_income** point, there are no people in debts, but still people without loan debts, so income must represent a good variable to implement as a predictive variable. the same occurs to **pearson_age**\n",
        "* Although, graphs can also show some possible problems in the data, and in our case We see that, since we have a few people with more than 100 years old, and that could represent an error with the age in some rows. we have to analyze it:"
      ],
      "metadata": {
        "id": "CfQikJonC1NX"
      }
    },
    {
      "cell_type": "code",
      "source": [
        "data[data.person_age >100]"
      ],
      "metadata": {
        "id": "nZrqqTELTSLB",
        "colab": {
          "base_uri": "https://localhost:8080/",
          "height": 270
        },
        "outputId": "01730f09-94bb-416f-b59f-26716208d42b"
      },
      "execution_count": 175,
      "outputs": [
        {
          "output_type": "execute_result",
          "data": {
            "text/plain": [
              "       person_age  person_income person_home_ownership  person_emp_length  \\\n",
              "81            144         250000                  RENT                4.0   \n",
              "183           144         200000              MORTGAGE                4.0   \n",
              "575           123          80004                  RENT                2.0   \n",
              "747           123          78000                  RENT                7.0   \n",
              "32297         144        6000000              MORTGAGE               12.0   \n",
              "\n",
              "      loan_intent loan_grade  loan_amnt  loan_int_rate  loan_status  \\\n",
              "81        VENTURE          C       4800          13.57            0   \n",
              "183     EDUCATION          B       6000          11.86            0   \n",
              "575     EDUCATION          B      20400          10.25            0   \n",
              "747       VENTURE          B      20000            NaN            0   \n",
              "32297    PERSONAL          C       5000          12.73            0   \n",
              "\n",
              "       loan_percent_income cb_person_default_on_file  \\\n",
              "81                    0.02                         N   \n",
              "183                   0.03                         N   \n",
              "575                   0.25                         N   \n",
              "747                   0.26                         N   \n",
              "32297                 0.00                         N   \n",
              "\n",
              "       cb_person_cred_hist_length  \n",
              "81                              3  \n",
              "183                             2  \n",
              "575                             3  \n",
              "747                             4  \n",
              "32297                          25  "
            ],
            "text/html": [
              "\n",
              "  <div id=\"df-fc0032ab-2741-4de3-8455-f3131023ff1d\">\n",
              "    <div class=\"colab-df-container\">\n",
              "      <div>\n",
              "<style scoped>\n",
              "    .dataframe tbody tr th:only-of-type {\n",
              "        vertical-align: middle;\n",
              "    }\n",
              "\n",
              "    .dataframe tbody tr th {\n",
              "        vertical-align: top;\n",
              "    }\n",
              "\n",
              "    .dataframe thead th {\n",
              "        text-align: right;\n",
              "    }\n",
              "</style>\n",
              "<table border=\"1\" class=\"dataframe\">\n",
              "  <thead>\n",
              "    <tr style=\"text-align: right;\">\n",
              "      <th></th>\n",
              "      <th>person_age</th>\n",
              "      <th>person_income</th>\n",
              "      <th>person_home_ownership</th>\n",
              "      <th>person_emp_length</th>\n",
              "      <th>loan_intent</th>\n",
              "      <th>loan_grade</th>\n",
              "      <th>loan_amnt</th>\n",
              "      <th>loan_int_rate</th>\n",
              "      <th>loan_status</th>\n",
              "      <th>loan_percent_income</th>\n",
              "      <th>cb_person_default_on_file</th>\n",
              "      <th>cb_person_cred_hist_length</th>\n",
              "    </tr>\n",
              "  </thead>\n",
              "  <tbody>\n",
              "    <tr>\n",
              "      <th>81</th>\n",
              "      <td>144</td>\n",
              "      <td>250000</td>\n",
              "      <td>RENT</td>\n",
              "      <td>4.0</td>\n",
              "      <td>VENTURE</td>\n",
              "      <td>C</td>\n",
              "      <td>4800</td>\n",
              "      <td>13.57</td>\n",
              "      <td>0</td>\n",
              "      <td>0.02</td>\n",
              "      <td>N</td>\n",
              "      <td>3</td>\n",
              "    </tr>\n",
              "    <tr>\n",
              "      <th>183</th>\n",
              "      <td>144</td>\n",
              "      <td>200000</td>\n",
              "      <td>MORTGAGE</td>\n",
              "      <td>4.0</td>\n",
              "      <td>EDUCATION</td>\n",
              "      <td>B</td>\n",
              "      <td>6000</td>\n",
              "      <td>11.86</td>\n",
              "      <td>0</td>\n",
              "      <td>0.03</td>\n",
              "      <td>N</td>\n",
              "      <td>2</td>\n",
              "    </tr>\n",
              "    <tr>\n",
              "      <th>575</th>\n",
              "      <td>123</td>\n",
              "      <td>80004</td>\n",
              "      <td>RENT</td>\n",
              "      <td>2.0</td>\n",
              "      <td>EDUCATION</td>\n",
              "      <td>B</td>\n",
              "      <td>20400</td>\n",
              "      <td>10.25</td>\n",
              "      <td>0</td>\n",
              "      <td>0.25</td>\n",
              "      <td>N</td>\n",
              "      <td>3</td>\n",
              "    </tr>\n",
              "    <tr>\n",
              "      <th>747</th>\n",
              "      <td>123</td>\n",
              "      <td>78000</td>\n",
              "      <td>RENT</td>\n",
              "      <td>7.0</td>\n",
              "      <td>VENTURE</td>\n",
              "      <td>B</td>\n",
              "      <td>20000</td>\n",
              "      <td>NaN</td>\n",
              "      <td>0</td>\n",
              "      <td>0.26</td>\n",
              "      <td>N</td>\n",
              "      <td>4</td>\n",
              "    </tr>\n",
              "    <tr>\n",
              "      <th>32297</th>\n",
              "      <td>144</td>\n",
              "      <td>6000000</td>\n",
              "      <td>MORTGAGE</td>\n",
              "      <td>12.0</td>\n",
              "      <td>PERSONAL</td>\n",
              "      <td>C</td>\n",
              "      <td>5000</td>\n",
              "      <td>12.73</td>\n",
              "      <td>0</td>\n",
              "      <td>0.00</td>\n",
              "      <td>N</td>\n",
              "      <td>25</td>\n",
              "    </tr>\n",
              "  </tbody>\n",
              "</table>\n",
              "</div>\n",
              "      <button class=\"colab-df-convert\" onclick=\"convertToInteractive('df-fc0032ab-2741-4de3-8455-f3131023ff1d')\"\n",
              "              title=\"Convert this dataframe to an interactive table.\"\n",
              "              style=\"display:none;\">\n",
              "        \n",
              "  <svg xmlns=\"http://www.w3.org/2000/svg\" height=\"24px\"viewBox=\"0 0 24 24\"\n",
              "       width=\"24px\">\n",
              "    <path d=\"M0 0h24v24H0V0z\" fill=\"none\"/>\n",
              "    <path d=\"M18.56 5.44l.94 2.06.94-2.06 2.06-.94-2.06-.94-.94-2.06-.94 2.06-2.06.94zm-11 1L8.5 8.5l.94-2.06 2.06-.94-2.06-.94L8.5 2.5l-.94 2.06-2.06.94zm10 10l.94 2.06.94-2.06 2.06-.94-2.06-.94-.94-2.06-.94 2.06-2.06.94z\"/><path d=\"M17.41 7.96l-1.37-1.37c-.4-.4-.92-.59-1.43-.59-.52 0-1.04.2-1.43.59L10.3 9.45l-7.72 7.72c-.78.78-.78 2.05 0 2.83L4 21.41c.39.39.9.59 1.41.59.51 0 1.02-.2 1.41-.59l7.78-7.78 2.81-2.81c.8-.78.8-2.07 0-2.86zM5.41 20L4 18.59l7.72-7.72 1.47 1.35L5.41 20z\"/>\n",
              "  </svg>\n",
              "      </button>\n",
              "      \n",
              "  <style>\n",
              "    .colab-df-container {\n",
              "      display:flex;\n",
              "      flex-wrap:wrap;\n",
              "      gap: 12px;\n",
              "    }\n",
              "\n",
              "    .colab-df-convert {\n",
              "      background-color: #E8F0FE;\n",
              "      border: none;\n",
              "      border-radius: 50%;\n",
              "      cursor: pointer;\n",
              "      display: none;\n",
              "      fill: #1967D2;\n",
              "      height: 32px;\n",
              "      padding: 0 0 0 0;\n",
              "      width: 32px;\n",
              "    }\n",
              "\n",
              "    .colab-df-convert:hover {\n",
              "      background-color: #E2EBFA;\n",
              "      box-shadow: 0px 1px 2px rgba(60, 64, 67, 0.3), 0px 1px 3px 1px rgba(60, 64, 67, 0.15);\n",
              "      fill: #174EA6;\n",
              "    }\n",
              "\n",
              "    [theme=dark] .colab-df-convert {\n",
              "      background-color: #3B4455;\n",
              "      fill: #D2E3FC;\n",
              "    }\n",
              "\n",
              "    [theme=dark] .colab-df-convert:hover {\n",
              "      background-color: #434B5C;\n",
              "      box-shadow: 0px 1px 3px 1px rgba(0, 0, 0, 0.15);\n",
              "      filter: drop-shadow(0px 1px 2px rgba(0, 0, 0, 0.3));\n",
              "      fill: #FFFFFF;\n",
              "    }\n",
              "  </style>\n",
              "\n",
              "      <script>\n",
              "        const buttonEl =\n",
              "          document.querySelector('#df-fc0032ab-2741-4de3-8455-f3131023ff1d button.colab-df-convert');\n",
              "        buttonEl.style.display =\n",
              "          google.colab.kernel.accessAllowed ? 'block' : 'none';\n",
              "\n",
              "        async function convertToInteractive(key) {\n",
              "          const element = document.querySelector('#df-fc0032ab-2741-4de3-8455-f3131023ff1d');\n",
              "          const dataTable =\n",
              "            await google.colab.kernel.invokeFunction('convertToInteractive',\n",
              "                                                     [key], {});\n",
              "          if (!dataTable) return;\n",
              "\n",
              "          const docLinkHtml = 'Like what you see? Visit the ' +\n",
              "            '<a target=\"_blank\" href=https://colab.research.google.com/notebooks/data_table.ipynb>data table notebook</a>'\n",
              "            + ' to learn more about interactive tables.';\n",
              "          element.innerHTML = '';\n",
              "          dataTable['output_type'] = 'display_data';\n",
              "          await google.colab.output.renderOutput(dataTable, element);\n",
              "          const docLink = document.createElement('div');\n",
              "          docLink.innerHTML = docLinkHtml;\n",
              "          element.appendChild(docLink);\n",
              "        }\n",
              "      </script>\n",
              "    </div>\n",
              "  </div>\n",
              "  "
            ]
          },
          "metadata": {},
          "execution_count": 175
        }
      ]
    },
    {
      "cell_type": "markdown",
      "source": [
        "* As we can see, there are 5 registers of people older than 100 years old.\n",
        "* I cannot say for shore that they are wrong, but i can notice some aspects about that:\n",
        "** We have basically two unique values among this five registers, that seems kinda odd for people with more than 100 years.\n",
        "** **Education** and **Venture** seems to be strange values to **loan_intent** considering people so old.\n",
        "* The other values at the respective five rows apparently have no errors, so the best option is change the **person_age** values to the mean value for age"
      ],
      "metadata": {
        "id": "XOmugVL7K6to"
      }
    },
    {
      "cell_type": "code",
      "source": [
        "data.at[data[data.person_age>100].index,'person_age'] = data.person_age[data.person_age < 100].mean(axis=0) ##changing the values where the age is higher than 100 to the mean of the ages (ages higher than 100 were excluded from the mean calculus)\n"
      ],
      "metadata": {
        "id": "abU8t03Ne8ti"
      },
      "execution_count": 176,
      "outputs": []
    },
    {
      "cell_type": "markdown",
      "source": [
        "**CHOOSED FEATURES AS PREDICTIVE ATTRIBUTES:**\n",
        "*  As features for the machine learning process, i am choosing **person_income, person_age, loan_percent_income , loan_grade , and person_home_ownership.**\n",
        "* As a interesting point, i am not using loan amount parameter, since the **loan_percent_income** is a feature based in loan amount, so i don't need to use it directly as attribute. "
      ],
      "metadata": {
        "id": "o6svwBAkrHgc"
      }
    },
    {
      "cell_type": "markdown",
      "source": [
        "**PREDICTIVE ATTRIBUTES:**\n",
        "\n",
        "\n",
        "\n",
        "> **person_income, person_age, loan_percent_income , loan_grade ,** and **person_home_ownership.**\n",
        "\n",
        "\n"
      ],
      "metadata": {
        "id": "am044wpjrCxE"
      }
    },
    {
      "cell_type": "code",
      "source": [
        "X = data[[\"person_income\", \"person_age\", \"loan_percent_income\" , \"loan_grade\" , \"person_home_ownership\"]]\n",
        "y=data[\"loan_status\"]"
      ],
      "metadata": {
        "id": "hp5nFCQQxEbi"
      },
      "execution_count": 177,
      "outputs": []
    },
    {
      "cell_type": "markdown",
      "source": [
        "* Spliting into training and validation subsets"
      ],
      "metadata": {
        "id": "N_tyY75l-8sV"
      }
    },
    {
      "cell_type": "code",
      "source": [
        "X_train, X_valid, y_train, y_valid = train_test_split(X, y, train_size=0.8, test_size=0.2,random_state=0) ## it means that we have 80% of the dataset as training data and 20% as validation data"
      ],
      "metadata": {
        "id": "w-5sYAVE_E_8"
      },
      "execution_count": 178,
      "outputs": []
    },
    {
      "cell_type": "markdown",
      "source": [
        "* Now we have to encode the two categorical columns: **loan_grade** and **person_home_ownership**\n",
        "* Since **loan_grade** has a trend (A better than B, better than C and so on..) we can use ordinal encoder to that"
      ],
      "metadata": {
        "id": "Vr3cLprW853G"
      }
    },
    {
      "cell_type": "code",
      "source": [
        "X['loan_grade'].to_numpy()"
      ],
      "metadata": {
        "colab": {
          "base_uri": "https://localhost:8080/"
        },
        "id": "gpTgVzOy9zRp",
        "outputId": "59041e9c-dfc3-4e36-80bd-8cc658023e23"
      },
      "execution_count": 179,
      "outputs": [
        {
          "output_type": "execute_result",
          "data": {
            "text/plain": [
              "array(['D', 'B', 'C', ..., 'B', 'B', 'B'], dtype=object)"
            ]
          },
          "metadata": {},
          "execution_count": 179
        }
      ]
    },
    {
      "cell_type": "code",
      "source": [
        "ordinal_encoder = OrdinalEncoder()\n",
        "X_train[\"loan_grade\"] = ordinal_encoder.fit_transform(X_train[\"loan_grade\"].to_numpy().reshape(-1, 1))\n",
        "X_valid[\"loan_grade\"] = ordinal_encoder.transform(X_valid[\"loan_grade\"].to_numpy().reshape(-1, 1))"
      ],
      "metadata": {
        "id": "ftc6UyYP9T54"
      },
      "execution_count": 180,
      "outputs": []
    },
    {
      "cell_type": "code",
      "source": [
        "X_train[\"loan_grade\"]\n"
      ],
      "metadata": {
        "id": "jJGCyDDVil5s",
        "colab": {
          "base_uri": "https://localhost:8080/"
        },
        "outputId": "e2d6d46f-5281-4074-e0d1-318429eda9fc"
      },
      "execution_count": 181,
      "outputs": [
        {
          "output_type": "execute_result",
          "data": {
            "text/plain": [
              "2162     1.0\n",
              "7670     2.0\n",
              "24007    1.0\n",
              "25230    6.0\n",
              "4897     0.0\n",
              "        ... \n",
              "13123    1.0\n",
              "19648    2.0\n",
              "9845     1.0\n",
              "10799    2.0\n",
              "2732     0.0\n",
              "Name: loan_grade, Length: 26064, dtype: float64"
            ]
          },
          "metadata": {},
          "execution_count": 181
        }
      ]
    },
    {
      "cell_type": "markdown",
      "source": [
        "* **We can see that the ordination was done using the alphabet order to create numerical values:**\n",
        "  * **A = 0 , B = 1 , C = 2 ... G = 6**"
      ],
      "metadata": {
        "id": "zwXpElVSDQ3h"
      }
    },
    {
      "cell_type": "markdown",
      "source": [
        "* Now i will use one hot encoder to treat the categorical variables from the **person_home_ownership** column, since we cannot estipulate a ordering relashionship (**MORTGAGE** certainly is worse than **OWN** and **RENT**, but i cannot really say that **OWN** is better than **RENT** or **OTHER** or vice-versa)."
      ],
      "metadata": {
        "id": "7rzcAUovizSW"
      }
    },
    {
      "cell_type": "code",
      "source": [
        "X_train['person_home_ownership'].unique() ## the unique values for person_home_ownership"
      ],
      "metadata": {
        "colab": {
          "base_uri": "https://localhost:8080/"
        },
        "id": "d6oeVmp3jofA",
        "outputId": "42022459-f915-49a6-ccc6-371389321d0c"
      },
      "execution_count": 182,
      "outputs": [
        {
          "output_type": "execute_result",
          "data": {
            "text/plain": [
              "array(['MORTGAGE', 'OWN', 'RENT', 'OTHER'], dtype=object)"
            ]
          },
          "metadata": {},
          "execution_count": 182
        }
      ]
    },
    {
      "cell_type": "code",
      "source": [
        "ohe = OneHotEncoder(handle_unknown='ignore', sparse=False)\n",
        "\n",
        "encoded_train = ohe.fit_transform(X_train['person_home_ownership'].values.reshape(-1,1))\n",
        "encoded_valid = ohe.transform(X_valid['person_home_ownership'].values.reshape(-1,1))\n",
        "\n",
        "labels = np.array(ohe.categories_).ravel()\n",
        "\n",
        "train = pd.DataFrame(encoded_train,columns = labels)\n",
        "\n",
        "valid = pd.DataFrame(encoded_valid,columns = labels)\n",
        "\n"
      ],
      "metadata": {
        "id": "t_7uOdl4s7hh"
      },
      "execution_count": 183,
      "outputs": []
    },
    {
      "cell_type": "markdown",
      "source": [
        "\n",
        "* Now we just have to drop the original **person_home_ownership** colunms from the datasets and merge the resultant dataframes with the encoded ones\n",
        "\n"
      ],
      "metadata": {
        "id": "FxyzOLTIM9gU"
      }
    },
    {
      "cell_type": "markdown",
      "source": [
        "* I have noticed that the number of rows using the len() function was different of the last row's index, so i suspected of something.\n",
        "* After some research i discovered that the indexes don't change after dropping or erasing rows.\n",
        "* Since we didn't reseted the indexes for the rows after drop some of them in early stages of preprocessing, the concatenation could get wrong, so before concatenate we have to reset indexes:"
      ],
      "metadata": {
        "id": "qBVhvx7cWMzf"
      }
    },
    {
      "cell_type": "code",
      "source": [
        "X_train.reset_index(drop=True, inplace=True)\n",
        "\n",
        "X_valid.reset_index(drop=True, inplace=True)"
      ],
      "metadata": {
        "id": "IUj33_A1XLVQ"
      },
      "execution_count": 184,
      "outputs": []
    },
    {
      "cell_type": "code",
      "source": [
        "del X_train['person_home_ownership']\n",
        "del X_valid['person_home_ownership']\n",
        "\n",
        "pd.concat([X_train,train], axis=1)\n"
      ],
      "metadata": {
        "colab": {
          "base_uri": "https://localhost:8080/",
          "height": 424
        },
        "id": "FWPYYVQUNC8L",
        "outputId": "0b67a713-6e6a-41ca-8430-489911bd37ba"
      },
      "execution_count": 185,
      "outputs": [
        {
          "output_type": "execute_result",
          "data": {
            "text/plain": [
              "       person_income  person_age  loan_percent_income  loan_grade  MORTGAGE  \\\n",
              "0              30000        24.0                 0.17         1.0       1.0   \n",
              "1              54000        24.0                 0.02         2.0       0.0   \n",
              "2              29000        27.0                 0.34         1.0       0.0   \n",
              "3              75840        29.0                 0.33         6.0       0.0   \n",
              "4              39000        22.0                 0.13         0.0       0.0   \n",
              "...              ...         ...                  ...         ...       ...   \n",
              "26059          88494        24.0                 0.27         1.0       0.0   \n",
              "26060          35000        32.0                 0.11         2.0       1.0   \n",
              "26061          38500        22.0                 0.23         1.0       0.0   \n",
              "26062          42000        23.0                 0.24         2.0       0.0   \n",
              "26063          34000        23.0                 0.32         0.0       0.0   \n",
              "\n",
              "       OTHER  OWN  RENT  \n",
              "0        0.0  0.0   0.0  \n",
              "1        0.0  1.0   0.0  \n",
              "2        0.0  0.0   1.0  \n",
              "3        0.0  1.0   0.0  \n",
              "4        0.0  0.0   1.0  \n",
              "...      ...  ...   ...  \n",
              "26059    0.0  1.0   0.0  \n",
              "26060    0.0  0.0   0.0  \n",
              "26061    0.0  0.0   1.0  \n",
              "26062    0.0  0.0   1.0  \n",
              "26063    0.0  1.0   0.0  \n",
              "\n",
              "[26064 rows x 8 columns]"
            ],
            "text/html": [
              "\n",
              "  <div id=\"df-da3a9550-86b8-4e98-a8a1-0980ad93046b\">\n",
              "    <div class=\"colab-df-container\">\n",
              "      <div>\n",
              "<style scoped>\n",
              "    .dataframe tbody tr th:only-of-type {\n",
              "        vertical-align: middle;\n",
              "    }\n",
              "\n",
              "    .dataframe tbody tr th {\n",
              "        vertical-align: top;\n",
              "    }\n",
              "\n",
              "    .dataframe thead th {\n",
              "        text-align: right;\n",
              "    }\n",
              "</style>\n",
              "<table border=\"1\" class=\"dataframe\">\n",
              "  <thead>\n",
              "    <tr style=\"text-align: right;\">\n",
              "      <th></th>\n",
              "      <th>person_income</th>\n",
              "      <th>person_age</th>\n",
              "      <th>loan_percent_income</th>\n",
              "      <th>loan_grade</th>\n",
              "      <th>MORTGAGE</th>\n",
              "      <th>OTHER</th>\n",
              "      <th>OWN</th>\n",
              "      <th>RENT</th>\n",
              "    </tr>\n",
              "  </thead>\n",
              "  <tbody>\n",
              "    <tr>\n",
              "      <th>0</th>\n",
              "      <td>30000</td>\n",
              "      <td>24.0</td>\n",
              "      <td>0.17</td>\n",
              "      <td>1.0</td>\n",
              "      <td>1.0</td>\n",
              "      <td>0.0</td>\n",
              "      <td>0.0</td>\n",
              "      <td>0.0</td>\n",
              "    </tr>\n",
              "    <tr>\n",
              "      <th>1</th>\n",
              "      <td>54000</td>\n",
              "      <td>24.0</td>\n",
              "      <td>0.02</td>\n",
              "      <td>2.0</td>\n",
              "      <td>0.0</td>\n",
              "      <td>0.0</td>\n",
              "      <td>1.0</td>\n",
              "      <td>0.0</td>\n",
              "    </tr>\n",
              "    <tr>\n",
              "      <th>2</th>\n",
              "      <td>29000</td>\n",
              "      <td>27.0</td>\n",
              "      <td>0.34</td>\n",
              "      <td>1.0</td>\n",
              "      <td>0.0</td>\n",
              "      <td>0.0</td>\n",
              "      <td>0.0</td>\n",
              "      <td>1.0</td>\n",
              "    </tr>\n",
              "    <tr>\n",
              "      <th>3</th>\n",
              "      <td>75840</td>\n",
              "      <td>29.0</td>\n",
              "      <td>0.33</td>\n",
              "      <td>6.0</td>\n",
              "      <td>0.0</td>\n",
              "      <td>0.0</td>\n",
              "      <td>1.0</td>\n",
              "      <td>0.0</td>\n",
              "    </tr>\n",
              "    <tr>\n",
              "      <th>4</th>\n",
              "      <td>39000</td>\n",
              "      <td>22.0</td>\n",
              "      <td>0.13</td>\n",
              "      <td>0.0</td>\n",
              "      <td>0.0</td>\n",
              "      <td>0.0</td>\n",
              "      <td>0.0</td>\n",
              "      <td>1.0</td>\n",
              "    </tr>\n",
              "    <tr>\n",
              "      <th>...</th>\n",
              "      <td>...</td>\n",
              "      <td>...</td>\n",
              "      <td>...</td>\n",
              "      <td>...</td>\n",
              "      <td>...</td>\n",
              "      <td>...</td>\n",
              "      <td>...</td>\n",
              "      <td>...</td>\n",
              "    </tr>\n",
              "    <tr>\n",
              "      <th>26059</th>\n",
              "      <td>88494</td>\n",
              "      <td>24.0</td>\n",
              "      <td>0.27</td>\n",
              "      <td>1.0</td>\n",
              "      <td>0.0</td>\n",
              "      <td>0.0</td>\n",
              "      <td>1.0</td>\n",
              "      <td>0.0</td>\n",
              "    </tr>\n",
              "    <tr>\n",
              "      <th>26060</th>\n",
              "      <td>35000</td>\n",
              "      <td>32.0</td>\n",
              "      <td>0.11</td>\n",
              "      <td>2.0</td>\n",
              "      <td>1.0</td>\n",
              "      <td>0.0</td>\n",
              "      <td>0.0</td>\n",
              "      <td>0.0</td>\n",
              "    </tr>\n",
              "    <tr>\n",
              "      <th>26061</th>\n",
              "      <td>38500</td>\n",
              "      <td>22.0</td>\n",
              "      <td>0.23</td>\n",
              "      <td>1.0</td>\n",
              "      <td>0.0</td>\n",
              "      <td>0.0</td>\n",
              "      <td>0.0</td>\n",
              "      <td>1.0</td>\n",
              "    </tr>\n",
              "    <tr>\n",
              "      <th>26062</th>\n",
              "      <td>42000</td>\n",
              "      <td>23.0</td>\n",
              "      <td>0.24</td>\n",
              "      <td>2.0</td>\n",
              "      <td>0.0</td>\n",
              "      <td>0.0</td>\n",
              "      <td>0.0</td>\n",
              "      <td>1.0</td>\n",
              "    </tr>\n",
              "    <tr>\n",
              "      <th>26063</th>\n",
              "      <td>34000</td>\n",
              "      <td>23.0</td>\n",
              "      <td>0.32</td>\n",
              "      <td>0.0</td>\n",
              "      <td>0.0</td>\n",
              "      <td>0.0</td>\n",
              "      <td>1.0</td>\n",
              "      <td>0.0</td>\n",
              "    </tr>\n",
              "  </tbody>\n",
              "</table>\n",
              "<p>26064 rows × 8 columns</p>\n",
              "</div>\n",
              "      <button class=\"colab-df-convert\" onclick=\"convertToInteractive('df-da3a9550-86b8-4e98-a8a1-0980ad93046b')\"\n",
              "              title=\"Convert this dataframe to an interactive table.\"\n",
              "              style=\"display:none;\">\n",
              "        \n",
              "  <svg xmlns=\"http://www.w3.org/2000/svg\" height=\"24px\"viewBox=\"0 0 24 24\"\n",
              "       width=\"24px\">\n",
              "    <path d=\"M0 0h24v24H0V0z\" fill=\"none\"/>\n",
              "    <path d=\"M18.56 5.44l.94 2.06.94-2.06 2.06-.94-2.06-.94-.94-2.06-.94 2.06-2.06.94zm-11 1L8.5 8.5l.94-2.06 2.06-.94-2.06-.94L8.5 2.5l-.94 2.06-2.06.94zm10 10l.94 2.06.94-2.06 2.06-.94-2.06-.94-.94-2.06-.94 2.06-2.06.94z\"/><path d=\"M17.41 7.96l-1.37-1.37c-.4-.4-.92-.59-1.43-.59-.52 0-1.04.2-1.43.59L10.3 9.45l-7.72 7.72c-.78.78-.78 2.05 0 2.83L4 21.41c.39.39.9.59 1.41.59.51 0 1.02-.2 1.41-.59l7.78-7.78 2.81-2.81c.8-.78.8-2.07 0-2.86zM5.41 20L4 18.59l7.72-7.72 1.47 1.35L5.41 20z\"/>\n",
              "  </svg>\n",
              "      </button>\n",
              "      \n",
              "  <style>\n",
              "    .colab-df-container {\n",
              "      display:flex;\n",
              "      flex-wrap:wrap;\n",
              "      gap: 12px;\n",
              "    }\n",
              "\n",
              "    .colab-df-convert {\n",
              "      background-color: #E8F0FE;\n",
              "      border: none;\n",
              "      border-radius: 50%;\n",
              "      cursor: pointer;\n",
              "      display: none;\n",
              "      fill: #1967D2;\n",
              "      height: 32px;\n",
              "      padding: 0 0 0 0;\n",
              "      width: 32px;\n",
              "    }\n",
              "\n",
              "    .colab-df-convert:hover {\n",
              "      background-color: #E2EBFA;\n",
              "      box-shadow: 0px 1px 2px rgba(60, 64, 67, 0.3), 0px 1px 3px 1px rgba(60, 64, 67, 0.15);\n",
              "      fill: #174EA6;\n",
              "    }\n",
              "\n",
              "    [theme=dark] .colab-df-convert {\n",
              "      background-color: #3B4455;\n",
              "      fill: #D2E3FC;\n",
              "    }\n",
              "\n",
              "    [theme=dark] .colab-df-convert:hover {\n",
              "      background-color: #434B5C;\n",
              "      box-shadow: 0px 1px 3px 1px rgba(0, 0, 0, 0.15);\n",
              "      filter: drop-shadow(0px 1px 2px rgba(0, 0, 0, 0.3));\n",
              "      fill: #FFFFFF;\n",
              "    }\n",
              "  </style>\n",
              "\n",
              "      <script>\n",
              "        const buttonEl =\n",
              "          document.querySelector('#df-da3a9550-86b8-4e98-a8a1-0980ad93046b button.colab-df-convert');\n",
              "        buttonEl.style.display =\n",
              "          google.colab.kernel.accessAllowed ? 'block' : 'none';\n",
              "\n",
              "        async function convertToInteractive(key) {\n",
              "          const element = document.querySelector('#df-da3a9550-86b8-4e98-a8a1-0980ad93046b');\n",
              "          const dataTable =\n",
              "            await google.colab.kernel.invokeFunction('convertToInteractive',\n",
              "                                                     [key], {});\n",
              "          if (!dataTable) return;\n",
              "\n",
              "          const docLinkHtml = 'Like what you see? Visit the ' +\n",
              "            '<a target=\"_blank\" href=https://colab.research.google.com/notebooks/data_table.ipynb>data table notebook</a>'\n",
              "            + ' to learn more about interactive tables.';\n",
              "          element.innerHTML = '';\n",
              "          dataTable['output_type'] = 'display_data';\n",
              "          await google.colab.output.renderOutput(dataTable, element);\n",
              "          const docLink = document.createElement('div');\n",
              "          docLink.innerHTML = docLinkHtml;\n",
              "          element.appendChild(docLink);\n",
              "        }\n",
              "      </script>\n",
              "    </div>\n",
              "  </div>\n",
              "  "
            ]
          },
          "metadata": {},
          "execution_count": 185
        }
      ]
    },
    {
      "cell_type": "markdown",
      "source": [
        "**STANDARDISATION OR NORMALIZATION (TO BENEFIT LEARNING ALGORITHMS):**"
      ],
      "metadata": {
        "id": "O5TsQrkzvMg0"
      }
    },
    {
      "cell_type": "markdown",
      "source": [
        "Note: for predictive values with outlier values it's better to use standardisation;"
      ],
      "metadata": {
        "id": "eHyawWmgw--i"
      }
    },
    {
      "cell_type": "code",
      "source": [
        "## standardisation itself\n",
        "scaler_predictive = StandardScaler()\n",
        "X_train = scaler_predictive.fit_transform(X_train)"
      ],
      "metadata": {
        "id": "v_L-hB1Iw7MU"
      },
      "execution_count": 186,
      "outputs": []
    },
    {
      "cell_type": "markdown",
      "source": [
        "**USING DECISION TREE CLASSIFIER AS MACHINE LEARNING ALGORITHM:**"
      ],
      "metadata": {
        "id": "2NGLw9_Mcsre"
      }
    },
    {
      "cell_type": "markdown",
      "source": [
        "* For this purpose, we can use the random decision tree classifier instead of the decision tree regressor, since we are dealing with binary CLASSIFICATION.\n",
        "* In theory, we could use regressor and then convert the float values into 0s and 1s,l but this could lead to a missunderstanding about the importance of distinguish between regressors and classifiers."
      ],
      "metadata": {
        "id": "cH2gTnMAg_d6"
      }
    },
    {
      "cell_type": "code",
      "source": [
        "DTR_model = DecisionTreeClassifier(random_state=1)\n",
        "DTR_model.fit(X_train,y_train)\n",
        "DTR_predictions = DTR_model.predict(X_valid)\n",
        "\n",
        "accuracy_score(y_valid, DTR_predictions)"
      ],
      "metadata": {
        "id": "tl04uhQ8cztP",
        "colab": {
          "base_uri": "https://localhost:8080/"
        },
        "outputId": "0ff993b5-390d-4a4a-e164-954ae68ccdc8"
      },
      "execution_count": 187,
      "outputs": [
        {
          "output_type": "stream",
          "name": "stderr",
          "text": [
            "/usr/local/lib/python3.7/dist-packages/sklearn/base.py:444: UserWarning: X has feature names, but DecisionTreeClassifier was fitted without feature names\n",
            "  f\"X has feature names, but {self.__class__.__name__} was fitted without\"\n"
          ]
        },
        {
          "output_type": "execute_result",
          "data": {
            "text/plain": [
              "0.6957188890593832"
            ]
          },
          "metadata": {},
          "execution_count": 187
        }
      ]
    },
    {
      "cell_type": "markdown",
      "source": [
        "**USING RANDOM FOREST CLASSIFIER AS MACHINE LEARNING ALGORITHM:**"
      ],
      "metadata": {
        "id": "0NUoYv_zclqk"
      }
    },
    {
      "cell_type": "markdown",
      "source": [
        "* For this purpose, we can use the random forest classifier instead of the random forest regressor, since we are dealing with binary CLASSIFICATION.\n",
        "* In theory, we could use regressor and then convert the float values into 0s and 1s,l but this could lead to a missunderstanding about the importance of distinguish between regressors and classifiers."
      ],
      "metadata": {
        "id": "NcVT38CvdY3M"
      }
    },
    {
      "cell_type": "code",
      "source": [
        "RF2_model = RandomForestClassifier(n_estimators=100, random_state=0)\n",
        "RF2_model.fit(X_train, y_train)\n",
        "RF2_predictions = RF2_model.predict(X_valid)\n",
        "\n",
        "accuracy_score(y_valid, RF_predictions)"
      ],
      "metadata": {
        "colab": {
          "base_uri": "https://localhost:8080/"
        },
        "id": "rW35Bzc8c91w",
        "outputId": "6c5879df-41bb-48b6-ec71-d11750470e65"
      },
      "execution_count": 188,
      "outputs": [
        {
          "output_type": "stream",
          "name": "stderr",
          "text": [
            "/usr/local/lib/python3.7/dist-packages/sklearn/base.py:444: UserWarning: X has feature names, but RandomForestClassifier was fitted without feature names\n",
            "  f\"X has feature names, but {self.__class__.__name__} was fitted without\"\n"
          ]
        },
        {
          "output_type": "execute_result",
          "data": {
            "text/plain": [
              "0.8161730857756636"
            ]
          },
          "metadata": {},
          "execution_count": 188
        }
      ]
    },
    {
      "cell_type": "markdown",
      "source": [
        "**USING GRADIENT BOOSTING AS MACHINE LEARNING ALGORITHM:**"
      ],
      "metadata": {
        "id": "3YCx65kSmN9j"
      }
    },
    {
      "cell_type": "code",
      "source": [
        "XGB_model = XGBRegressor(n_estimators=1000, learning_rate=0.05, n_jobs=4)\n",
        "XGB_model.fit(X_train, y_train, \n",
        "             early_stopping_rounds=5, \n",
        "             eval_set=[(X_valid.values, y_valid.values)], \n",
        "             verbose=False)\n",
        "XGB_predictions = XGB_model.predict(X_valid.values)\n",
        "\n",
        "for i in range(len(XGB_predictions)):\n",
        "  if XGB_predictions[i]>0.5:\n",
        "    XGB_predictions[i] = 1\n",
        "  else:\n",
        "    XGB_predictions[i] = 0\n",
        "\n",
        "accuracy_score(y_valid, XGB_predictions)"
      ],
      "metadata": {
        "id": "Mv_e4ZVJmOxs",
        "colab": {
          "base_uri": "https://localhost:8080/"
        },
        "outputId": "f60e8dc9-9fa2-4bd1-faa4-1bd59b12b8c9"
      },
      "execution_count": 189,
      "outputs": [
        {
          "output_type": "stream",
          "name": "stdout",
          "text": [
            "[02:20:23] WARNING: /workspace/src/objective/regression_obj.cu:152: reg:linear is now deprecated in favor of reg:squarederror.\n"
          ]
        },
        {
          "output_type": "execute_result",
          "data": {
            "text/plain": [
              "0.8078870646002762"
            ]
          },
          "metadata": {},
          "execution_count": 189
        }
      ]
    }
  ]
}