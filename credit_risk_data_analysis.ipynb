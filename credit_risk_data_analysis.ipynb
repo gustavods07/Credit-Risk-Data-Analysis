{
  "nbformat": 4,
  "nbformat_minor": 0,
  "metadata": {
    "colab": {
      "name": "credit risk data analysis.ipynb",
      "provenance": [],
      "authorship_tag": "ABX9TyPncV5MhKI7D5Tj7iDo5wAI",
      "include_colab_link": true
    },
    "kernelspec": {
      "name": "python3",
      "display_name": "Python 3"
    },
    "language_info": {
      "name": "python"
    }
  },
  "cells": [
    {
      "cell_type": "markdown",
      "metadata": {
        "id": "view-in-github",
        "colab_type": "text"
      },
      "source": [
        "<a href=\"https://colab.research.google.com/github/gustavods07/Credit-Risk-Data-Analysis/blob/master/credit_risk_data_analysis.ipynb\" target=\"_parent\"><img src=\"https://colab.research.google.com/assets/colab-badge.svg\" alt=\"Open In Colab\"/></a>"
      ]
    },
    {
      "cell_type": "markdown",
      "source": [
        ""
      ],
      "metadata": {
        "id": "X9r7YM3epEw6"
      }
    },
    {
      "cell_type": "markdown",
      "source": [
        "**IMPORTING LIBRIRIES:**"
      ],
      "metadata": {
        "id": "hAeR4SJfpHAR"
      }
    },
    {
      "cell_type": "code",
      "source": [
        "import pandas as pd\n",
        "import numpy as np\n",
        "import seaborn as sns\n",
        "import matplotlib.pyplot as plt\n",
        "import plotly.express as px\n",
        "from sklearn.preprocessing import StandardScaler\n",
        "from sklearn.model_selection import train_test_split\n",
        "import pickle"
      ],
      "metadata": {
        "id": "skcnIHzupJMp"
      },
      "execution_count": null,
      "outputs": []
    },
    {
      "cell_type": "markdown",
      "source": [
        "**APPLIED DATASET:** https://www.kaggle.com/laotse/credit-risk-dataset"
      ],
      "metadata": {
        "id": "d-1nUBVwrmda"
      }
    },
    {
      "cell_type": "markdown",
      "source": [
        "**READING THE .CSV FILE AND DISPLAYING THE DATA DISPOSITION:**"
      ],
      "metadata": {
        "id": "bpfFQzrry-gN"
      }
    },
    {
      "cell_type": "code",
      "source": [
        "data = pd.read_csv('/content/sample_data/credit_risk_dataset.csv')\n",
        "data ## displays the data disposition"
      ],
      "metadata": {
        "id": "nUg-adgMyw5m",
        "colab": {
          "base_uri": "https://localhost:8080/",
          "height": 488
        },
        "outputId": "7aec2fc4-4c3d-4fb9-b66b-e23bf87ff41f"
      },
      "execution_count": null,
      "outputs": [
        {
          "output_type": "execute_result",
          "data": {
            "text/plain": [
              "       person_age  person_income person_home_ownership  person_emp_length  \\\n",
              "0              22          59000                  RENT              123.0   \n",
              "1              21           9600                   OWN                5.0   \n",
              "2              25           9600              MORTGAGE                1.0   \n",
              "3              23          65500                  RENT                4.0   \n",
              "4              24          54400                  RENT                8.0   \n",
              "...           ...            ...                   ...                ...   \n",
              "32576          57          53000              MORTGAGE                1.0   \n",
              "32577          54         120000              MORTGAGE                4.0   \n",
              "32578          65          76000                  RENT                3.0   \n",
              "32579          56         150000              MORTGAGE                5.0   \n",
              "32580          66          42000                  RENT                2.0   \n",
              "\n",
              "           loan_intent loan_grade  loan_amnt  loan_int_rate  loan_status  \\\n",
              "0             PERSONAL          D      35000          16.02            1   \n",
              "1            EDUCATION          B       1000          11.14            0   \n",
              "2              MEDICAL          C       5500          12.87            1   \n",
              "3              MEDICAL          C      35000          15.23            1   \n",
              "4              MEDICAL          C      35000          14.27            1   \n",
              "...                ...        ...        ...            ...          ...   \n",
              "32576         PERSONAL          C       5800          13.16            0   \n",
              "32577         PERSONAL          A      17625           7.49            0   \n",
              "32578  HOMEIMPROVEMENT          B      35000          10.99            1   \n",
              "32579         PERSONAL          B      15000          11.48            0   \n",
              "32580          MEDICAL          B       6475           9.99            0   \n",
              "\n",
              "       loan_percent_income cb_person_default_on_file  \\\n",
              "0                     0.59                         Y   \n",
              "1                     0.10                         N   \n",
              "2                     0.57                         N   \n",
              "3                     0.53                         N   \n",
              "4                     0.55                         Y   \n",
              "...                    ...                       ...   \n",
              "32576                 0.11                         N   \n",
              "32577                 0.15                         N   \n",
              "32578                 0.46                         N   \n",
              "32579                 0.10                         N   \n",
              "32580                 0.15                         N   \n",
              "\n",
              "       cb_person_cred_hist_length  \n",
              "0                               3  \n",
              "1                               2  \n",
              "2                               3  \n",
              "3                               2  \n",
              "4                               4  \n",
              "...                           ...  \n",
              "32576                          30  \n",
              "32577                          19  \n",
              "32578                          28  \n",
              "32579                          26  \n",
              "32580                          30  \n",
              "\n",
              "[32581 rows x 12 columns]"
            ],
            "text/html": [
              "\n",
              "  <div id=\"df-ff4f5034-9c9d-4614-b4fe-e2349eec678e\">\n",
              "    <div class=\"colab-df-container\">\n",
              "      <div>\n",
              "<style scoped>\n",
              "    .dataframe tbody tr th:only-of-type {\n",
              "        vertical-align: middle;\n",
              "    }\n",
              "\n",
              "    .dataframe tbody tr th {\n",
              "        vertical-align: top;\n",
              "    }\n",
              "\n",
              "    .dataframe thead th {\n",
              "        text-align: right;\n",
              "    }\n",
              "</style>\n",
              "<table border=\"1\" class=\"dataframe\">\n",
              "  <thead>\n",
              "    <tr style=\"text-align: right;\">\n",
              "      <th></th>\n",
              "      <th>person_age</th>\n",
              "      <th>person_income</th>\n",
              "      <th>person_home_ownership</th>\n",
              "      <th>person_emp_length</th>\n",
              "      <th>loan_intent</th>\n",
              "      <th>loan_grade</th>\n",
              "      <th>loan_amnt</th>\n",
              "      <th>loan_int_rate</th>\n",
              "      <th>loan_status</th>\n",
              "      <th>loan_percent_income</th>\n",
              "      <th>cb_person_default_on_file</th>\n",
              "      <th>cb_person_cred_hist_length</th>\n",
              "    </tr>\n",
              "  </thead>\n",
              "  <tbody>\n",
              "    <tr>\n",
              "      <th>0</th>\n",
              "      <td>22</td>\n",
              "      <td>59000</td>\n",
              "      <td>RENT</td>\n",
              "      <td>123.0</td>\n",
              "      <td>PERSONAL</td>\n",
              "      <td>D</td>\n",
              "      <td>35000</td>\n",
              "      <td>16.02</td>\n",
              "      <td>1</td>\n",
              "      <td>0.59</td>\n",
              "      <td>Y</td>\n",
              "      <td>3</td>\n",
              "    </tr>\n",
              "    <tr>\n",
              "      <th>1</th>\n",
              "      <td>21</td>\n",
              "      <td>9600</td>\n",
              "      <td>OWN</td>\n",
              "      <td>5.0</td>\n",
              "      <td>EDUCATION</td>\n",
              "      <td>B</td>\n",
              "      <td>1000</td>\n",
              "      <td>11.14</td>\n",
              "      <td>0</td>\n",
              "      <td>0.10</td>\n",
              "      <td>N</td>\n",
              "      <td>2</td>\n",
              "    </tr>\n",
              "    <tr>\n",
              "      <th>2</th>\n",
              "      <td>25</td>\n",
              "      <td>9600</td>\n",
              "      <td>MORTGAGE</td>\n",
              "      <td>1.0</td>\n",
              "      <td>MEDICAL</td>\n",
              "      <td>C</td>\n",
              "      <td>5500</td>\n",
              "      <td>12.87</td>\n",
              "      <td>1</td>\n",
              "      <td>0.57</td>\n",
              "      <td>N</td>\n",
              "      <td>3</td>\n",
              "    </tr>\n",
              "    <tr>\n",
              "      <th>3</th>\n",
              "      <td>23</td>\n",
              "      <td>65500</td>\n",
              "      <td>RENT</td>\n",
              "      <td>4.0</td>\n",
              "      <td>MEDICAL</td>\n",
              "      <td>C</td>\n",
              "      <td>35000</td>\n",
              "      <td>15.23</td>\n",
              "      <td>1</td>\n",
              "      <td>0.53</td>\n",
              "      <td>N</td>\n",
              "      <td>2</td>\n",
              "    </tr>\n",
              "    <tr>\n",
              "      <th>4</th>\n",
              "      <td>24</td>\n",
              "      <td>54400</td>\n",
              "      <td>RENT</td>\n",
              "      <td>8.0</td>\n",
              "      <td>MEDICAL</td>\n",
              "      <td>C</td>\n",
              "      <td>35000</td>\n",
              "      <td>14.27</td>\n",
              "      <td>1</td>\n",
              "      <td>0.55</td>\n",
              "      <td>Y</td>\n",
              "      <td>4</td>\n",
              "    </tr>\n",
              "    <tr>\n",
              "      <th>...</th>\n",
              "      <td>...</td>\n",
              "      <td>...</td>\n",
              "      <td>...</td>\n",
              "      <td>...</td>\n",
              "      <td>...</td>\n",
              "      <td>...</td>\n",
              "      <td>...</td>\n",
              "      <td>...</td>\n",
              "      <td>...</td>\n",
              "      <td>...</td>\n",
              "      <td>...</td>\n",
              "      <td>...</td>\n",
              "    </tr>\n",
              "    <tr>\n",
              "      <th>32576</th>\n",
              "      <td>57</td>\n",
              "      <td>53000</td>\n",
              "      <td>MORTGAGE</td>\n",
              "      <td>1.0</td>\n",
              "      <td>PERSONAL</td>\n",
              "      <td>C</td>\n",
              "      <td>5800</td>\n",
              "      <td>13.16</td>\n",
              "      <td>0</td>\n",
              "      <td>0.11</td>\n",
              "      <td>N</td>\n",
              "      <td>30</td>\n",
              "    </tr>\n",
              "    <tr>\n",
              "      <th>32577</th>\n",
              "      <td>54</td>\n",
              "      <td>120000</td>\n",
              "      <td>MORTGAGE</td>\n",
              "      <td>4.0</td>\n",
              "      <td>PERSONAL</td>\n",
              "      <td>A</td>\n",
              "      <td>17625</td>\n",
              "      <td>7.49</td>\n",
              "      <td>0</td>\n",
              "      <td>0.15</td>\n",
              "      <td>N</td>\n",
              "      <td>19</td>\n",
              "    </tr>\n",
              "    <tr>\n",
              "      <th>32578</th>\n",
              "      <td>65</td>\n",
              "      <td>76000</td>\n",
              "      <td>RENT</td>\n",
              "      <td>3.0</td>\n",
              "      <td>HOMEIMPROVEMENT</td>\n",
              "      <td>B</td>\n",
              "      <td>35000</td>\n",
              "      <td>10.99</td>\n",
              "      <td>1</td>\n",
              "      <td>0.46</td>\n",
              "      <td>N</td>\n",
              "      <td>28</td>\n",
              "    </tr>\n",
              "    <tr>\n",
              "      <th>32579</th>\n",
              "      <td>56</td>\n",
              "      <td>150000</td>\n",
              "      <td>MORTGAGE</td>\n",
              "      <td>5.0</td>\n",
              "      <td>PERSONAL</td>\n",
              "      <td>B</td>\n",
              "      <td>15000</td>\n",
              "      <td>11.48</td>\n",
              "      <td>0</td>\n",
              "      <td>0.10</td>\n",
              "      <td>N</td>\n",
              "      <td>26</td>\n",
              "    </tr>\n",
              "    <tr>\n",
              "      <th>32580</th>\n",
              "      <td>66</td>\n",
              "      <td>42000</td>\n",
              "      <td>RENT</td>\n",
              "      <td>2.0</td>\n",
              "      <td>MEDICAL</td>\n",
              "      <td>B</td>\n",
              "      <td>6475</td>\n",
              "      <td>9.99</td>\n",
              "      <td>0</td>\n",
              "      <td>0.15</td>\n",
              "      <td>N</td>\n",
              "      <td>30</td>\n",
              "    </tr>\n",
              "  </tbody>\n",
              "</table>\n",
              "<p>32581 rows × 12 columns</p>\n",
              "</div>\n",
              "      <button class=\"colab-df-convert\" onclick=\"convertToInteractive('df-ff4f5034-9c9d-4614-b4fe-e2349eec678e')\"\n",
              "              title=\"Convert this dataframe to an interactive table.\"\n",
              "              style=\"display:none;\">\n",
              "        \n",
              "  <svg xmlns=\"http://www.w3.org/2000/svg\" height=\"24px\"viewBox=\"0 0 24 24\"\n",
              "       width=\"24px\">\n",
              "    <path d=\"M0 0h24v24H0V0z\" fill=\"none\"/>\n",
              "    <path d=\"M18.56 5.44l.94 2.06.94-2.06 2.06-.94-2.06-.94-.94-2.06-.94 2.06-2.06.94zm-11 1L8.5 8.5l.94-2.06 2.06-.94-2.06-.94L8.5 2.5l-.94 2.06-2.06.94zm10 10l.94 2.06.94-2.06 2.06-.94-2.06-.94-.94-2.06-.94 2.06-2.06.94z\"/><path d=\"M17.41 7.96l-1.37-1.37c-.4-.4-.92-.59-1.43-.59-.52 0-1.04.2-1.43.59L10.3 9.45l-7.72 7.72c-.78.78-.78 2.05 0 2.83L4 21.41c.39.39.9.59 1.41.59.51 0 1.02-.2 1.41-.59l7.78-7.78 2.81-2.81c.8-.78.8-2.07 0-2.86zM5.41 20L4 18.59l7.72-7.72 1.47 1.35L5.41 20z\"/>\n",
              "  </svg>\n",
              "      </button>\n",
              "      \n",
              "  <style>\n",
              "    .colab-df-container {\n",
              "      display:flex;\n",
              "      flex-wrap:wrap;\n",
              "      gap: 12px;\n",
              "    }\n",
              "\n",
              "    .colab-df-convert {\n",
              "      background-color: #E8F0FE;\n",
              "      border: none;\n",
              "      border-radius: 50%;\n",
              "      cursor: pointer;\n",
              "      display: none;\n",
              "      fill: #1967D2;\n",
              "      height: 32px;\n",
              "      padding: 0 0 0 0;\n",
              "      width: 32px;\n",
              "    }\n",
              "\n",
              "    .colab-df-convert:hover {\n",
              "      background-color: #E2EBFA;\n",
              "      box-shadow: 0px 1px 2px rgba(60, 64, 67, 0.3), 0px 1px 3px 1px rgba(60, 64, 67, 0.15);\n",
              "      fill: #174EA6;\n",
              "    }\n",
              "\n",
              "    [theme=dark] .colab-df-convert {\n",
              "      background-color: #3B4455;\n",
              "      fill: #D2E3FC;\n",
              "    }\n",
              "\n",
              "    [theme=dark] .colab-df-convert:hover {\n",
              "      background-color: #434B5C;\n",
              "      box-shadow: 0px 1px 3px 1px rgba(0, 0, 0, 0.15);\n",
              "      filter: drop-shadow(0px 1px 2px rgba(0, 0, 0, 0.3));\n",
              "      fill: #FFFFFF;\n",
              "    }\n",
              "  </style>\n",
              "\n",
              "      <script>\n",
              "        const buttonEl =\n",
              "          document.querySelector('#df-ff4f5034-9c9d-4614-b4fe-e2349eec678e button.colab-df-convert');\n",
              "        buttonEl.style.display =\n",
              "          google.colab.kernel.accessAllowed ? 'block' : 'none';\n",
              "\n",
              "        async function convertToInteractive(key) {\n",
              "          const element = document.querySelector('#df-ff4f5034-9c9d-4614-b4fe-e2349eec678e');\n",
              "          const dataTable =\n",
              "            await google.colab.kernel.invokeFunction('convertToInteractive',\n",
              "                                                     [key], {});\n",
              "          if (!dataTable) return;\n",
              "\n",
              "          const docLinkHtml = 'Like what you see? Visit the ' +\n",
              "            '<a target=\"_blank\" href=https://colab.research.google.com/notebooks/data_table.ipynb>data table notebook</a>'\n",
              "            + ' to learn more about interactive tables.';\n",
              "          element.innerHTML = '';\n",
              "          dataTable['output_type'] = 'display_data';\n",
              "          await google.colab.output.renderOutput(dataTable, element);\n",
              "          const docLink = document.createElement('div');\n",
              "          docLink.innerHTML = docLinkHtml;\n",
              "          element.appendChild(docLink);\n",
              "        }\n",
              "      </script>\n",
              "    </div>\n",
              "  </div>\n",
              "  "
            ]
          },
          "metadata": {},
          "execution_count": 32
        }
      ]
    },
    {
      "cell_type": "markdown",
      "source": [
        "**COUNTING THE UNIQUE VALUES OF A COLUMN (IN THIS CASE, THE 'person_age' COLUMN) FROM A FILTERED AMOUNT OF DATA:**\n",
        "\n",
        "\n"
      ],
      "metadata": {
        "id": "9uiClnj--BKF"
      }
    },
    {
      "cell_type": "code",
      "source": [
        "loan_people = np.unique(data['loan_status'], return_counts = True) ## it is possible to comprehend how much people of this dataset are or aren't in debts\n",
        "default = data[data['loan_status'] == 1] ## here the data is filtered to group only the data from people with debts (loan_status = 1) into the default variable\n",
        "age_diversity = np.unique(default['person_age']) ## it is possible to understand how diverse is this dataset in terms of age\n",
        "print(loan_people)\n",
        "print(age_diversity)"
      ],
      "metadata": {
        "id": "mWUnIdUY-Jf8",
        "colab": {
          "base_uri": "https://localhost:8080/"
        },
        "outputId": "726d08d7-6e8c-4f9c-eb90-e81dc48ad2ad"
      },
      "execution_count": null,
      "outputs": [
        {
          "output_type": "stream",
          "name": "stdout",
          "text": [
            "(array([0, 1]), array([25473,  7108]))\n",
            "[20 21 22 23 24 25 26 27 28 29 30 31 32 33 34 35 36 37 38 39 40 41 42 43\n",
            " 44 45 46 47 48 49 50 51 52 53 54 55 56 57 58 60 61 62 63 64 65 66 70]\n"
          ]
        }
      ]
    },
    {
      "cell_type": "markdown",
      "source": [
        "**PLOTING THE OBTAINED DATA FROM THE PREVIOUS COMMAND INTO GRAPHS:**"
      ],
      "metadata": {
        "id": "ytEOKWAvANe9"
      }
    },
    {
      "cell_type": "code",
      "source": [
        "sns.countplot(x = data['loan_status']);\n",
        "## it is possible to comprehend the loan status disposition of the people monitored in this dataset\n",
        "## 0 = without debts, 1 = in debts"
      ],
      "metadata": {
        "id": "KSPJTEmlMQ-r",
        "colab": {
          "base_uri": "https://localhost:8080/",
          "height": 207
        },
        "outputId": "f5c22750-b91b-4e84-ba1e-189ab3af7fb6"
      },
      "execution_count": null,
      "outputs": [
        {
          "output_type": "display_data",
          "data": {
            "text/plain": [
              "<Figure size 1512x432 with 1 Axes>"
            ],
            "image/png": "[encoded data removed]"
          },
          "metadata": {}
        }
      ]
    },
    {
      "cell_type": "code",
      "source": [
        "sns.set(rc = {'figure.figsize':(21,6)}) ## changes the plot dimensions to display correctly the parameters\n",
        "sns.countplot(x = default['person_age']); ## shows how much people have the documented ages\n",
        "## it is possible to comprehend the age disposition of the people monitored in this dataset"
      ],
      "metadata": {
        "id": "yJIWrtjNA1Fv",
        "colab": {
          "base_uri": "https://localhost:8080/",
          "height": 209
        },
        "outputId": "d33f6c97-d7dd-4875-9770-6a83b0640307"
      },
      "execution_count": null,
      "outputs": [
        {
          "output_type": "display_data",
          "data": {
            "text/plain": [
              "<Figure size 1512x432 with 1 Axes>"
            ],
            "image/png": "[encoded data removed]"
          },
          "metadata": {}
        }
      ]
    },
    {
      "cell_type": "code",
      "source": [
        "plt.hist(x = default['person_age']); \n",
        "## shows the distribuition of the people in debts in age intervals (using a histogram)\n",
        "## it's important to say that the values at the bottom represent the age and the values at the right size represent the number of people\n",
        "## since the number of people with more than 60 years is low, the values cannot be observed in this plot"
      ],
      "metadata": {
        "id": "8ajZfgHbBhET",
        "colab": {
          "base_uri": "https://localhost:8080/",
          "height": 203
        },
        "outputId": "3b2a690f-db89-49da-96bc-db8fe903938b"
      },
      "execution_count": null,
      "outputs": [
        {
          "output_type": "display_data",
          "data": {
            "text/plain": [
              "<Figure size 1512x432 with 1 Axes>"
            ],
            "image/png": "[encoded data removed]"
          },
          "metadata": {}
        }
      ]
    },
    {
      "cell_type": "code",
      "source": [
        "plt.hist(x = default['person_income']);\n",
        "## shows the distribuition of the people in debts in income intervals (using a histogram)\n"
      ],
      "metadata": {
        "id": "bA_XU-hNNqEP",
        "colab": {
          "base_uri": "https://localhost:8080/",
          "height": 202
        },
        "outputId": "7d77ffb0-e1f8-46d6-8634-5563a051b0a4"
      },
      "execution_count": null,
      "outputs": [
        {
          "output_type": "display_data",
          "data": {
            "text/plain": [
              "<Figure size 1512x432 with 1 Axes>"
            ],
            "image/png": "[encoded data removed]"
          },
          "metadata": {}
        }
      ]
    },
    {
      "cell_type": "code",
      "source": [
        "sns.countplot(x = default['loan_intent']);\n",
        "## shows the distribuition of loan intent between people in debts\n"
      ],
      "metadata": {
        "id": "pRxJHXB9Oq60",
        "colab": {
          "base_uri": "https://localhost:8080/",
          "height": 208
        },
        "outputId": "5db1e0f5-4f17-4eab-d098-9b13cc2445a5"
      },
      "execution_count": null,
      "outputs": [
        {
          "output_type": "display_data",
          "data": {
            "text/plain": [
              "<Figure size 1512x432 with 1 Axes>"
            ],
            "image/png": "[encoded data removed]"
          },
          "metadata": {}
        }
      ]
    },
    {
      "cell_type": "markdown",
      "source": [
        "**PARTIAL CONCLUSIONS 1:**\n",
        "* At this moment is possible comprehend that young people are \n",
        "substentialy more in debts than older people.\n",
        "* It is also possible to understand that the proportion of people with debts per people without debts is $7108/25473$.\n",
        "* The 4th graph shows how people in debts usually have lower incomes.\n",
        "* The 5th graph shows that Medical and Debit Consolidation loans are the most commom debts.\n"
      ],
      "metadata": {
        "id": "ZYku7E0Tk1Fo"
      }
    },
    {
      "cell_type": "markdown",
      "source": [
        "**FILTERING AND CLUSTERING DATA**:"
      ],
      "metadata": {
        "id": "5Ahfh2hcQbCi"
      }
    },
    {
      "cell_type": "code",
      "source": [
        "higher_income = default[default['person_income']>= 10000 ] ## people in debts with income higher than 99999\n",
        "lower_income = default[default['person_income']< 10000 ] ## people in debts with lower higher than 10000"
      ],
      "metadata": {
        "id": "nvo7ym4BUyjx"
      },
      "execution_count": null,
      "outputs": []
    },
    {
      "cell_type": "markdown",
      "source": [
        "**GRAPHS BASED IN THESE TWO CLUSTERED PARAMETERS:**"
      ],
      "metadata": {
        "id": "bPSM0z4dVgWj"
      }
    },
    {
      "cell_type": "code",
      "source": [
        "parameter_order = ['PERSONAL','MEDICAL','EDUCATION','VENTURE','HOMEIMPROVEMENT','DEBTCONSOLIDATION']\n",
        "sns.countplot(x = lower_income['loan_intent'], order = parameter_order);\n",
        "## shows the distribuition of loan intent between people in debts and income higher than 9999"
      ],
      "metadata": {
        "id": "13Qc-6ybZa56",
        "colab": {
          "base_uri": "https://localhost:8080/",
          "height": 210
        },
        "outputId": "ae1055b3-798d-4fae-f312-92751aa1c871"
      },
      "execution_count": null,
      "outputs": [
        {
          "output_type": "display_data",
          "data": {
            "text/plain": [
              "<Figure size 1512x432 with 1 Axes>"
            ],
            "image/png": "[encoded data removed]"
          },
          "metadata": {}
        }
      ]
    },
    {
      "cell_type": "code",
      "source": [
        "parameter_order = ['PERSONAL','MEDICAL','EDUCATION','VENTURE','HOMEIMPROVEMENT','DEBTCONSOLIDATION']\n",
        "sns.countplot(x = higher_income['loan_intent'], order = parameter_order);\n",
        "## shows the distribuition of loan intent between people in debts and income lower than 10000"
      ],
      "metadata": {
        "id": "uf5bxfxganoP",
        "colab": {
          "base_uri": "https://localhost:8080/",
          "height": 208
        },
        "outputId": "82108d04-7669-46b2-abcf-e50fc28fa8d2"
      },
      "execution_count": null,
      "outputs": [
        {
          "output_type": "display_data",
          "data": {
            "text/plain": [
              "<Figure size 1512x432 with 1 Axes>"
            ],
            "image/png": "[encoded data removed]"
          },
          "metadata": {}
        }
      ]
    },
    {
      "cell_type": "markdown",
      "source": [
        "**GRAPHS WITH COMBINATED PARAMETERS FROM DATASET:**\n"
      ],
      "metadata": {
        "id": "H4x6KEZVw3Ld"
      }
    },
    {
      "cell_type": "code",
      "source": [
        "px.scatter_matrix(default,['person_income','person_age','loan_amnt'])\n",
        "\n",
        "## it is also possible to analyze several parameters with a matrix of scatter graphs"
      ],
      "metadata": {
        "id": "kgyrtYN6VFWW",
        "colab": {
          "base_uri": "https://localhost:8080/",
          "height": 542
        },
        "outputId": "1bcf3d36-3273-4939-93b1-f6506b5d2ce7"
      },
      "execution_count": null,
      "outputs": [
        {
          "output_type": "display_data",
          "data": {
            "text/html": [
              "<html>\n",
              "<head><meta charset=\"utf-8\" /></head>\n",
              "<body>\n",
              "    <div>            <script src=\"https://cdnjs.cloudflare.com/ajax/libs/mathjax/2.7.5/MathJax.js?config=TeX-AMS-MML_SVG\"></script><script type=\"text/javascript\">if (window.MathJax) {MathJax.Hub.Config({SVG: {font: \"STIX-Web\"}});}</script>                <script type=\"text/javascript\">window.PlotlyConfig = {MathJaxConfig: 'local'};</script>\n",
              "        <script src=\"https://cdn.plot.ly/plotly-2.8.3.min.js\"></script>                <div id=\"76fa25e8-4d8a-4571-b3b9-9acf938ed887\" class=\"plotly-graph-div\" style=\"height:525px; width:100%;\"></div>            <script type=\"text/javascript\">                                    window.PLOTLYENV=window.PLOTLYENV || {};                                    if (document.getElementById(\"76fa25e8-4d8a-4571-b3b9-9acf938ed887\")) {                    Plotly.newPlot(                        \"76fa25e8-4d8a-4571-b3b9-9acf938ed887\",                        [{\"dimensions\":[{\"axis\":{\"matches\":true},\"label\":\"person_income\",\"values\":[59000,9600,65500,54400,9900,77100,78956,83000,10000,85000,10000,95000,108160,92111,113000,10800,65000,80000,67746,11000,65000,11389,11520,95000,12000,48000,64000,75000,71500,62050,12000,80690,66300,89028,78000,78000,92004,97000,263000,221850,70000,12000,56950,12000,65000,85000,12000,88000,12000,12000,83004,12000,108000,69000,12000,70000,73200,83000,73399,62500,60000,221004,83000,12600,42500,41000,12816,12960,213000,12960,12996,42000,48000,12996,12996,42360,49000,49464,50000,50000,44000,50000,50004,50004,52000,13200,52000,46000,53000,47000,47000,13200,48000,54996,55000,55000,55000,55164,56000,190000,13920,60000,60000,54000,14000,54000,60000,60000,60000,61959,56400,66000,66000,60000,14400,66996,67000,67000,68000,69000,188000,69996,14400,70000,14400,56100,66000,66000,14400,72612,74000,75000,75000,71000,78000,78000,78504,62050,79416,14400,79631,79632,80000,80000,172000,74004,74004,81000,81600,14400,142800,14664,75000,76000,66215,15000,15000,78000,66300,79000,70550,83800,15000,15000,88000,74800,88000,88000,15000,92000,93000,162000,15000,96000,97908,15204,159600,158004,83300,15360,134300,100580,91800,108000,15600,15600,153000,16000,148000,16000,16020,16094,16400,16500,49500,60000,125800,54000,62500,16800,68400,56045,74000,65453,78000,16800,16800,108000,43000,47004,48000,48000,44964,52000,47000,49000,60000,60000,60000,60000,62004,62400,65000,17760,59000,66000,60000,66143,62250,70000,74000,18000,75000,75000,75000,69000,78000,18000,18000,74700,83000,18000,18000,18000,98000,103872,108000,18000,114750,138000,18000,18000,148000,43896,54996,18000,75000,18000,18000,18000,18000,66960,43385,56544,60000,63208,65000,68000,18000,88000,58600,70000,18287,69846,73000,18500,35000,43000,52000,18701,57000,58000,60000,60000,18840,56000,70000,66000,19000,19000,19000,19000,77650,82000,19012,19200,57000,54000,56000,63000,78000,19200,19200,59000,70000,60000,31000,47052,51060,19200,53000,19200,56000,65000,35000,19200,19200,40000,42000,63000,19200,59000,65219,19200,62047,81000,100000,19200,19253,19500,50000,54000,26000,33000,35364,38000,32000,38004,38556,32900,34000,40000,36000,42000,42224,37212,38000,45000,45000,45000,45000,39000,46500,48000,42000,48500,49400,50000,50000,50000,44000,50866,50950,51000,51000,51000,51500,51996,52000,46000,52000,46000,52559,47000,54000,48000,48000,54000,48912,54996,55000,55000,49000,55000,55000,55200,57000,51012,58000,58800,59000,53000,60000,54000,60000,54000,60000,54000,54000,60000,60000,60000,54000,54000,60000,54000,60000,60000,60000,54504,55000,61000,62000,56000,56000,62400,62400,63000,58000,65000,65000,65000,59000,59000,21000,65004,59004,59004,65500,62400,64000,55392,66000,66000,21120,21216,69000,69000,59497,70000,70000,71004,61200,72000,62900,62900,74004,21600,76042,76654,78996,73000,78000,22000,22000,83000,85200,87996,74800,74800,93000,95000,96901,22800,22800,85000,22800,138000,23000,148000,58000,23000,10000,10000,10140,10500,12000,12240,13728,14400,14400,15000,16000,39600,39900,47000,50000,52000,47500,54000,54000,54586,62004,23920,50000,55000,36500,43000,34300,36000,38000,55784,73000,78000,48888,50000,24000,34000,35004,34500,42504,36996,45600,46000,46000,55044,49200,50000,50000,44000,36000,36400,36000,55000,27000,33000,36000,30720,39996,40000,42000,42765,43000,44000,44000,39000,46800,48000,42000,43400,50000,50000,24000,50000,50000,52000,52000,52000,52526,46610,48000,55000,55344,24000,56000,50000,58000,52240,53000,24000,59000,59000,60000,54400,65000,66000,24000,24000,76500,87550,62050,48000,45000,72250,32400,36000,37232,40800,44000,47500,49176,49270,53352,54996,24900,40000,45408,35000,29400,40000,41400,42000,43275,45792,47000,49896,50000,51000,45000,52000,52000,52500,54660,53000,66300,49000,34819,50000,55000,54000,25000,58650,74000,36000,44500,45000,46272,42000,50496,54000,54000,59160,40428,47000,47000,48000,56000,57504,83300,45000,27600,47000,39000,30000,33000,35000,25000,35000,35500,36900,38000,39000,39996,40000,40000,40000,40000,34000,41900,42494,42856,43000,44000,44000,25000,38400,39000,45000,39000,39000,39000,48000,42000,50000,50000,50000,44000,51000,45000,52000,25200,49000,25200,52000,25200,52500,54000,54000,25344,57175,57336,25568,58575,59000,59000,60996,62500,63000,64000,69000,24000,26000,24000,25000,26000,26000,28000,28000,26000,26004,29000,31000,32000,32000,26400,33600,26400,34500,40800,42000,26453,26500,26784,15600,20400,27000,26400,34000,34560,29004,34000,39000,27000,9600,54000,27048,64000,24000,26000,44400,14650,30000,27568,35652,42000,27600,27600,30000,27000,30000,30000,32304,27996,29004,30996,28000,33996,34000,34980,28000,36000,39000,28000,42000,42500,28000,51000,69764,10008,12000,14400,28800,9600,9840,10000,10000,10008,22800,28800,18000,25000,14400,26500,10000,12000,12000,14400,14400,15915,18000,18000,20004,21600,21600,23587,24000,24000,29124,29232,24000,24000,25200,29664,27600,30000,29952,30000,82000,70550,83600,84000,30000,88000,98000,118000,123000,30000,30000,148000,33996,31500,28800,30000,30972,30000,32000,32000,32640,33000,54000,57996,30000,10000,12000,14400,34560,54000,79050,57600,28800,30000,30000,30000,30000,32000,32000,32400,32500,34000,37000,37000,37148,37947,39000,39900,40000,40000,40000,34000,34400,41000,41340,12000,16200,26004,27996,14000,14400,12000,13000,13288,30000,16800,18000,20000,21600,21600,25000,26000,26400,28800,30000,30000,30720,34000,30000,30000,37080,30000,54000,54000,87999,16000,10800,12000,12540,12600,31000,38000,43000,30288,35000,30652,29000,29000,35000,38000,50000,33000,39875,24000,30000,33300,37500,38400,40000,40000,35000,40000,31500,31000,54000,24000,24000,31000,28000,28000,28800,31000,30000,31200,33800,34000,35000,36000,36000,30000,36000,37000,38000,38400,38400,39000,40000,40000,31200,40800,36000,42000,37200,39000,44000,31200,22200,22406,31200,24996,31356,28200,29000,31000,33500,29000,30000,30000,30000,32000,34000,35500,36000,36228,32000,37000,45630,46180,48996,49000,32000,54400,64000,10560,13000,13380,14400,14800,15000,15600,20800,23000,24000,32000,27000,32000,31500,10000,12000,12000,13200,14000,14400,32352,14400,14400,15000,15000,16080,16320,17280,17400,17520,17916,18000,18000,32400,18000,18000,18000,18000,18000,18000,18000,18008,18864,19000,19200,19200,19200,19200,30000,30000,30000,33000,30000,31131,33000,29000,29244,31000,33000,33098,37000,37000,37000,33280,39000,39000,39327,39996,40000,42000,44000,44000,44000,45996,33990,33996,44000,44000,44000,44004,44004,45449,34000,46800,34000,47000,34000,48400,49000,50100,51000,51000,51780,51840,52260,34662,34800,49000,49000,50000,50160,55160,56500,57000,58170,58800,58992,60000,54400,64000,29000,67147,29000,137400,17436,16800,12000,29000,15300,29000,12000,12000,15000,15600,16000,18000,18000,29000,18996,20000,25000,29000,29004,30000,31000,33000,29000,42000,48000,35000,54000,59000,78000,78000,29000,10200,12000,14400,16000,17004,18000,18000,20400,28000,39000,29004,35004,11000,29000,51996,29280,29360,114750,14000,25000,12000,12996,13500,15600,29400,17280,29400,18000,18456,19000,21600,22292,29554,24000,26400,30000,30000,30000,30000,39000,30000,30000,45996,30000,51000,56400,59000,30000,64000,68004,78000,10800,12000,12120,30000,15000,18000,18000,18700,24000,24000,24216,24996,30000,33000,30000,33772,34000,36000,36000,30000,30000,44000,46000,30000,30000,30252,30297,30300,30400,35500,33000,34000,33996,30500,42000,30576,44400,30780,57000,69000,58650,62165,20796,30000,24000,29950,30067,33600,39000,32000,54000,16800,24000,25000,30000,30000,30000,31200,33048,57700,30000,30600,29000,34500,49000,32400,59000,35280,64000,29856,66000,39600,41000,42492,31417,44000,54000,51850,31785,93000,31800,19800,24000,52000,17496,21000,11000,19200,30004,34000,69000,14400,32000,28500,12000,12600,32000,13000,13000,13200,13200,13200,14000,14400,14400,14400,14400,15000,32000,15600,15708,15996,16800,16800,17500,18000,18000,18000,18000,18000,18000,18720,19000,19200,19200,19200,19200,19404,22000,24000,32213,26000,26400,26400,27000,30000,32400,30000,30900,32400,32000,32993,32484,32496,32644,32652,29000,29000,29000,29000,30000,30000,32400,33000,34000,33000,35000,35200,33000,36000,36000,33168,33192,36000,39600,41000,41000,42000,42000,33660,44000,44582,45000,45630,46392,48000,52800,54000,56400,61000,63000,63996,34000,34000,34000,88000,34000,118068,158000,15000,16000,19000,22560,26000,28080,30000,12000,14400,15000,16800,22044,14400,19200,34000,43000,49000,14400,15600,15600,17600,18000,18000,18000,18200,18204,21000,21600,23421,34000,26000,33000,34000,32000,34000,34068,36000,41000,44000,44000,48300,34000,54000,54000,60000,34000,44000,52000,52800,34000,19800,12000,13806,14000,14040,14400,15000,15600,16000,34000,13440,15000,15000,15996,19800,34000,34000,32000,33000,34000,33000,34000,30000,30000,32400,39000,42000,42000,34900,34900,49000,52000,53000,35000,67200,69000,83000,87996,88000,88000,96000,98000,35760,35941,91800,36000,36000,153000,238000,24148,29004,26400,30000,28000,33000,44000,44000,36000,66300,36000,32400,36000,13296,15000,36000,34000,27996,28000,29865,30000,30000,36000,30000,30000,30000,36000,30000,32000,32000,36000,36000,32968,36000,33280,34800,29000,36000,36000,29000,29000,29004,30000,30000,30000,30000,30000,30000,36000,31516,32000,32000,32000,32000,32352,33000,33996,33996,33996,33996,36588,34000,34000,34000,34000,34500,34800,34800,35000,35000,35280,36000,36000,36000,36000,37000,36100,37000,37900,38500,37000,39000,39000,39000,39600,39996,40000,37000,41496,42000,37200,42000,37200,42000,37200,37200,37200,44000,44000,49029,37700,37700,37800,59000,38000,69000,69000,38004,83000,38340,38400,143000,24000,33000,19240,21312,23000,23000,24500,26124,26400,28800,23800,44000,44000,44400,39000,45996,45996,39000,21000,24000,24000,24996,25000,25000,25000,25000,25000,25000,25200,26000,27000,39000,27120,28700,30000,39000,34000,39000,39000,39000,44000,44000,46968,69000,21040,25000,49000,50000,51000,51000,51600,52880,53000,54000,54000,39000,54000,54000,59000,39000,59000,59004,39000,39000,63900,54400,55488,39000,39000,56950,69000,39000,39200,74000,74000,39292,62900,39325,73000,39500,76000,78000,39600,80000,86004,39600,39696,39868,39896,39996,80155,88400,114000,138000,117300,21600,30000,24000,30000,30000,40000,22000,18000,18000,25300,32000,58617,69108,40500,12000,14400,15192,15436,18000,19136,40800,21700,26784,41000,33000,37000,37004,44000,44052,51000,51600,41000,41000,41000,22000,31000,41244,14400,18000,19200,19800,28000,30000,30000,29004,41682,33000,39000,42000,60500,58650,42000,11476,17000,42000,30900,18000,42000,12000,42000,19200,14400,34000,46000,12000,13440,14880,15000,15000,16000,16800,17376,18000,18000,18000,18200,18996,42000,18996,19000,19200,19200,19200,19200,21600,22800,23040,42000,24000,25000,25200,42000,28000,28800,28800,30000,30000,30000,30000,31200,31200,32000,32000,48500,42500,32000,32004,32124,33000,33650,34000,29000,42996,29000,29004,29004,43000,43000,29364,43000,29916,30000,30000,30000,30000,30000,30000,30000,30000,31000,32000,43590,43600,43633,33000,33000,33000,33600,34000,34255,44000,44000,35196,44000,44000,39000,39000,39000,39000,39396,39600,40680,41500,41628,44000,44000,42000,44000,44000,42000,42000,42000,44000,44000,44000,44000,45000,45928,48000,48700,49000,49000,49200,44000,50000,52800,54000,54000,54000,54000,44000,15000,33000,44400,30500,10000,15090,15600,17000,18000,18000,18000,18500,19200,19200,21600,21600,22480,22500,22680,22776,22880,22884,44000,23000,24000,44000,24000,57500,58668,59000,44000,59000,44000,62065,44000,44000,63400,44000,65074,44000,66000,44000,44000,57800,44000,69000,44004,44004,73000,75000,78000,44400,79650,81000,92000,93000,95000,19200,45000,19200,20000,26000,46000,45000,14898,16000,19200,19200,19250,20000,27000,45000,50000,52000,54000,54000,54000,54000,45480,60000,45996,54400,66348,45996,46000,74000,76000,66300,28500,29100,46000,46000,46000,12624,46000,70550,25000,46000,46000,58650,74415,18000,20000,21000,21600,25000,46000,46000,46000,46000,34000,35325,36000,46320,46500,45012,46500,46645,46800,21600,46800,30000,41838,47000,13200,16800,28000,47000,12000,21600,27600,36050,47000,42000,30500,31500,46000,46852,48000,47148,96050,80000,47360,29361,31000,20000,29120,30000,30000,47800,34200,29000,38000,48000,48000,48000,48000,49200,69000,48000,74000,48000,47000,33000,48000,34000,48000,26400,27600,48000,30000,30000,30000,30000,48442,32000,48600,48600,33198,33996,34800,48902,29000,29654,30000,31000,48996,48996,32000,48996,34000,34320,35000,36000,36000,36614,49000,37200,49000,39000,49000,39000,49000,39000,41500,49000,44004,45000,49000,49000,49000,14400,20800,21600,22000,23000,25200,49000,30000,31700,49000,31000,49000,39000,49000,49000,49000,49700,50000,51000,49200,49200,62000,49493,49530,49635,73000,49963,49980,50000,50000,12480,42000,43995,12720,20796,21000,21360,21500,22596,23196,25200,28128,30000,30000,34000,34404,29004,50160,30320,50400,32400,34000,36000,37260,51000,39000,39000,42000,43000,44000,44000,44000,44000,51000,51000,44400,51000,51000,52000,53000,51500,51600,62844,64000,58650,74004,76500,66300,79500,108000,51996,20400,56950,52000,39000,49000,61680,23400,52000,24000,29772,19680,23000,24000,24000,26000,33000,29000,52000,52000,100000,33000,33600,34000,52000,49000,59004,32000,52650,52704,14400,15500,16000,19200,19200,19800,20000,20000,20000,53000,21000,53000,21600,53000,53000,21996,22100,53000,23000,23000,23148,23400,24000,24000,25000,25000,25000,25000,25000,25200,26000,26000,27996,28000,53774,53826,53950,30000,54000,30000,31000,54000,54000,33996,29000,29000,29000,29570,30000,30000,30000,30996,31008,31200,54000,54000,32698,54000,54000,33996,34000,54000,35000,35000,54000,36000,36000,54000,36000,36000,36000,36816,54000,54000,39000,39000,39000,39000,40000,41000,42000,42000,44000,44000,44000,44000,46000,46000,46500,48000,54000,48996,54000,54000,54000,49000,49161,50000,54000,52000,52000,54000,54000,54000,54000,54000,54780,54000,55000,55000,55700,46000,54000,54000,54000,15000,21000,54000,34000,10000,10668,10800,12000,12000,12360,13000,14400,14400,15000,54000,15600,54000,15600,16120,16320,16800,16800,54000,54000,17004,17220,17720,18000,18492,18720,19140,19200,19200,19200,19800,19968,54000,21000,54000,54000,21120,21600,21600,54000,22000,22992,24000,54000,24000,24996,24996,24996,54417,54500,25000,25000,55000,27000,55000,27000,27096,27500,55000,55000,55000,56400,55200,55200,55200,55200,55365,55400,55400,64000,64000,66000,69000,56000,74000,76000,56000,56000,66300,56000,76500,56000,84000,56004,84000,56004,56004,89000,81600,56208,108000,108000,56400,56400,131400,183700,30000,25000,60500,25200,70000,26000,30000,56920,56972,32000,30000,35500,39000,44000,46500,49000,57000,61000,100300,18000,18000,18000,19200,57655,36000,32000,58000,30500,28000,18500,20000,21600,23900,25000,25000,25600,25920,26000,26400,26785,58000,58000,26976,27600,28800,30000,30000,30000,30000,33600,33600,34320,29000,29000,58800,30000,30000,59000,33359,33996,34000,35500,59000,36140,59000,39512,48000,59000,59000,43200,22800,29000,30000,59000,59000,13000,24000,24000,24996,25000,25716,27120,27456,28800,28800,31000,32400,59000,30000,59000,59000,44000,25000,26000,33600,34200,19200,20000,23040,27000,28000,28000,30000,34000,59000,59000,40574,59000,59000,59000,58650,69000,21600,22000,24000,24000,24000,28800,34560,34800,30000,31000,31800,34000,36000,37200,39000,59600,59600,59964,45000,60000,60000,49000,49000,60000,54000,54000,59000,64000,60000,60000,77964,60000,73000,78000,28000,60516,30000,18000,19200,20000,20000,20008,21000,21000,21000,21000,21000,21600,22000,22000,23000,23387,23624,23700,24000,24000,24000,24000,24000,24000,24000,24000,24960,24996,24996,25000,61000,25000,25000,25000,61100,25000,25000,25920,61200,26000,26000,52102,26000,26400,52244,61499,26400,26400,26400,26400,26400,27000,27000,27000,27048,27376,27996,28000,28000,28600,29000,29000,29000,29000,61836,29406,30000,30000,30000,30000,30000,30000,52700,52700,30000,30000,30000,30000,30000,30000,30000,30000,30000,30000,30000,30000,30000,30000,30000,30000,30000,30000,30000,30680,30720,30720,30720,31000,31000,31000,31000,31000,62000,31200,31200,52700,62000,32000,52703,32000,32000,32000,32000,32004,32376,32400,62400,32580,32647,33000,62500,33600,62654,33996,53467,63000,29000,63508,63582,63600,30000,30000,30400,30712,31800,32000,32200,32400,64000,32400,33000,33000,64000,64000,33948,64000,64000,34000,34000,54400,64000,34000,34000,34000,34000,34000,64000,36000,36000,37200,64000,64000,39000,39000,39000,39000,39000,39600,30000,34000,29000,29000,29000,64000,36000,36499,37000,55080,55243,65000,54000,60996,55250,38000,14400,12000,12000,12000,42000,42000,42000,56100,42000,42000,66000,56100,42720,43000,43500,44000,56100,44000,44000,56100,44307,45000,45000,45000,66000,46000,66000,46000,46500,47292,56403,47520,48000,66500,48996,66800,49000,56950,49000,67000,67000,56950,67400,67476,51000,51000,67524,67700,52800,57800,54000,54000,68100,54000,54000,68400,68500,68551,58313,54000,54000,54000,54000,54000,54000,56000,69000,39000,69000,39000,69000,69000,69000,69000,59000,69000,62496,63000,64000,58650,58650,64000,64000,69000,64000,65600,58650,66500,69000,58650,58650,58650,69000,69000,58650,74000,74000,69000,74000,69000,69000,59497,78996,73000,73000,75996,59500,70000,70000,59623,59813,70500,78000,71000,60350,70550,29136,71000,71000,71000,71004,71004,22000,27000,27000,27300,29000,29004,29472,30720,32000,32000,33000,33600,29000,72000,72000,29000,57000,30000,72000,32244,26000,30852,36000,30840,72000,72000,57800,61200,61200,61455,72500,72644,61754,35000,72955,29000,36000,30000,62050,73000,62050,24000,62393,34100,34500,34000,74000,62900,74000,77954,30000,74000,66000,35000,42500,35000,20000,74000,24000,24000,24000,24996,26000,26000,26000,28000,29000,29435,30000,30000,30000,30000,30000,30000,30000,30000,30000,31000,74000,31200,31800,74000,32000,74000,74000,32000,32000,74000,32000,32000,32000,32500,33000,33504,33504,33600,33600,34000,34000,34000,34132,34138,34500,34500,35000,74000,35000,35000,35000,35000,29004,35400,36000,30000,36000,36000,36000,62900,36780,31008,62900,31200,37392,32000,38000,62900,74000,38000,38000,38000,38000,38000,38001,38004,32004,38340,74000,38400,38400,38599,39000,39000,39000,74000,74000,74000,74000,74004,36000,74476,74500,74600,75000,39760,41000,76000,42000,76000,76000,54000,76248,54000,65025,54000,77000,65450,24000,77200,29000,30000,66300,78000,78000,58000,78700,59000,59000,59000,62050,62500,73000,64000,55082,31200,66000,57424,73000,73000,73000,36000,36000,36000,62050,36000,36708,68500,69000,73000,62050,69000,73000,73500,73000,73008,73248,62900,62900,74000,62900,62903,74004,78000,78996,74400,63719,63750,75000,73000,75000,63750,78000,76000,83000,70550,76268,76800,76800,65450,88000,78200,77000,93000,78000,113000,66300,78000,78000,125375,66300,66300,36000,24000,25960,26000,28800,30000,30000,32000,29000,36000,36000,36000,78000,44000,45600,30000,32004,39000,34650,36996,31000,66300,36000,32000,40000,33250,33396,36120,37200,44000,48000,74000,78000,78000,16800,78000,78000,78000,15600,78000,24000,78000,78216,78369,46200,79000,79000,16000,21600,67150,79200,79200,67983,12960,10000,68000,36960,13200,14400,14400,15600,68000,15600,80004,18984,19464,80004,80040,20000,37560,80400,44000,51000,81000,54000,73000,30000,69360,69360,23000,81996,52000,32000,38500,40000,40000,40000,42200,46000,82800,70550,78600,35000,31760,44000,44000,44000,45996,83000,48000,83000,60000,83000,83000,83000,83004,83290,69700,90100,108000,83904,71400,33000,84000,45000,71400,30000,35000,84000,71400,71400,42000,42000,84000,42996,39000,72250,40000,42000,44000,85200,85584,85992,86000,48000,86000,86000,86000,86000,86004,73185,87220,54000,88000,88000,63996,55845,88000,88000,88000,74800,88000,83000,74800,98000,88000,24000,27996,46000,88000,32000,33000,88000,88000,40000,74867,88128,74909,35000,75500,36000,34320,36500,42996,89000,43000,43000,45000,45871,90000,54000,90000,68000,91000,77350,78200,30000,113000,28000,92085,30000,30000,30600,35000,30000,36000,37000,31000,36000,43000,37200,45000,45000,45504,45600,49500,51996,59000,93000,35000,38800,30000,31200,24000,28000,28800,94000,79900,29040,30000,30000,31200,31680,80750,32000,32000,32240,95000,30000,95000,96000,32400,33500,97000,33600,33800,33996,34800,37200,37680,83300,98000,39000,39000,42000,42000,98000,98000,83300,44000,98000,98000,34800,35000,29976,36000,36000,36000,36000,98000,36000,36000,98004,36000,30000,36021,98656,37000,31000,37818,32000,38000,38000,38000,38400,39000,39996,40000,40000,34000,40000,85000,100000,40000,40000,40000,40000,40000,34988,41000,85850,85850,101000,42000,101000,42000,42000,36000,42300,102000,36500,102996,42900,43000,43000,37680,38400,45000,45000,103000,45000,45000,39000,45000,45000,45000,39000,103000,103000,39000,45000,45000,39000,39000,46890,47000,47000,47000,104736,30000,89250,34000,90100,47000,48000,42000,107000,42000,48000,48000,48000,48000,48000,48000,48000,48800,43000,49000,108000,44000,91800,108000,91800,44000,44172,91800,46000,108000,91800,26000,91800,29000,32000,32400,108000,51000,54000,108000,12732,14400,110000,17000,94102,18000,111917,18000,112000,18996,112800,24000,24000,96050,25000,113000,113000,48000,48000,48996,113000,49000,49200,49700,96050,113000,50000,114000,53000,97583,97750,97750,115000,54000,116000,54225,100300,55000,56000,56000,58000,22320,59000,59000,120000,59000,120000,103044,59004,60000,104550,104550,123000,105400,64000,126996,65000,128000,66000,56525,69000,58650,128000,108803,69000,132000,73000,113050,133000,19800,19764,133900,19500,134000,74000,136000,75000,136112,78000,19200,19200,19200,19008,19000,78000,79000,68000,138000,31000,18000,39000,48000,143000,28080,31200,38272,34000,36000,17500,144996,145000,36000,91800,41000,50000,148000,148000,46000,44400,150500,151900,36000,50000,15996,62900,134300,15300,79200,83000,71400,142800,88000,168000,168952,98004,14400,159800,159800,188000,170850,35000,30000,216000,47000,55000,201450,12000,238000,238000,253000,244800,12000,50000,55438,118000,45000,53295,45295,30000,38000,9600,9600,9600,9600,9600,9600,9600,9600,9600,47000,9192,9000,9000,8628,8400,8400,8400,8280,8004,8000,8000,8000,8000,7500,7200,6000,6000,5500,5000,4800,4800,4800,4200,4080,21600,56100,30000,36000,15436,60000,30000,45000,42000,33000,32000,10000,39000,27120,69764,21600,49000,44000,54000,16000,39000,49000,18000,32240,69000,59000,26000,17280,18000,92004,44000,30000,54000,24000,25920,21600,30720,29100,58000,21000,38800,72000,18000,32400,88000,67000,28000,54000,16000,42000,46000,30000,30000,67000,35000,36000,66614,16800,61464,48000,5000,64000,30000,78700,50000,27996,39000,43000,71004,32000,31000,33996,58650,23800,36000,50000,33772,43600,20400,81000,24000,62400,23587,19968,12000,80004,61959,64000,59000,64000,34800,30000,30000,62900,58800,33996,52000,13000,39900,48500,51996,29000,32000,86000,16000,39292,34800,18000,84000,21500,78000,42000,72000,42000,60000,95000,107000,34000,32000,44000,45000,41000,72000,54400,19200,51000,59000,24000,25344,58650,24000,19000,18000,42000,34800,14400,24000,48000,27000,22406,30000,30000,48000,64000,34000,32000,19250,39000,98000,53826,19200,40000,36000,54000,66300,49963,60350,102000,29000,21360,108000,34500,27600,50000,46500,37200,45000,44000,40800,74800,43000,28128,44000,49000,54000,74000,49000,48000,98004,35976,62900,27096,54000,12000,60000,48000,16800,24000,91800,35000,55000,31200,51600,70550,28800,54000,34000,34560,74004,36000,36000,18000,52000,46000,14400,93000,44000,57500,41838,58000,67000,24000,40680,64000,59000,57000,47052,40000,18996,38000,12000,12000,31200,69000,40000,55000,24000,54586,138000,39000,30000,29570,39000,29000,31200,12000,45630,18456,74800,56000,36000,49000,24000,48000,54000,30000,26976,45996,19200,59000,29000,46000,30000,138000,37000,33000,47000,51000,34404,30500,60000,39000,44000,15996,54996,29856,32000,73399,37680,35000,70000,30000,38000,51500,59000,22680,48996,31680,21600,12996,39996,59004,36000,30000,16080,76000,136000,28800,44000,96050,33996,53352,14400,31500,30000,12000,19200,34000,56000,59000,31500,37200,29000,35000,42000,70553,64000,106000,20000,74476,24000,61200,43995,74800,57000,15600,78000,49000,33500,57175,36000,67150,45000,18000,54000,24996,44004,88000,69846,37000,45000,54000,56204,8400,83600,44004,63000,48500,42000,49000,51600,31000,63410,21000,12000,28590,70550,51000,33800,54000,107000,21600,59000,84000,108366,48000,34000,69000,30000,29000,12000,24500,89250,12000,30000,33300,19200,10800,13806,46852,59000,18000,18000,67983,45792,56100,37000,77000,63600,19200,59000,34000,30000,46000,39000,56000,19008,44000,56000,25200,100000,35325,33359,18000,69996,57355,22200,22596,33300,18000,69000,13200,34000,65935,46800,108000,78000,19680,43200,46000,15600,26000,31000,29004,26400,62500,68000,69000,93000,29000,72250,32500,44000,19200,66000,25716,54000,38000,70500,77100,10000,80000,80000,648000,85000,73000,89000,100000,10200,468000,10400,138000,10800,150000,325550,81000,11029,338000,287300,69996,11340,73000,74000,61200,75000,80000,80000,244800,288000,288000,232050,12000,128000,258000,73000,81300,89000,12000,238000,65000,12000,202300,12000,87550,12000,228000,193800,52000,57000,40000,47000,48000,48000,49861,53196,54000,48000,198000,54383,49000,13500,162350,56952,60000,60000,60000,61000,188000,63000,63235,65000,65000,65800,188000,66000,188000,69000,69996,70000,64000,70000,72000,72000,57800,74400,68872,75000,75000,14400,69000,75600,77000,178000,78000,78000,72000,148410,173000,80000,80000,80000,80000,14400,14400,15000,168000,168000,168000,168000,15000,78000,15000,163000,86000,88000,15000,15000,75480,96000,159200,159000,15456,158000,158000,15523,106000,15600,108000,15600,113000,102213,15600,123000,16000,16000,138000,16000,139016,148000,16000,127500,148000,125800,178000,223000,248735,16620,16656,78000,32004,36000,74000,16800,16800,148000,108000,17000,105400,128000,47000,49000,58000,54000,17640,65000,59712,67000,18000,72000,72000,72000,18000,75860,78000,85000,18000,138000,75000,40000,45600,58704,18000,75000,72000,52000,49404,46000,69600,46500,39000,68231,73000,58500,69000,19000,60000,19200,80001,64600,19200,40000,47580,57500,19200,66000,68666,71250,72000,83000,93000,100511,138000,32400,40934,58200,54000,50000,30372,52275,39500,40000,42000,36500,45000,50000,50004,20000,51996,52500,53004,54000,54000,54000,54996,55000,55000,56000,57000,57492,51500,58000,58000,59000,60000,54000,60000,54000,60000,60000,56000,56000,63000,65000,65000,65000,65000,65000,65000,59000,63000,56100,66000,58650,69000,69000,21424,72000,73000,73000,81400,81500,86652,89004,22404,98000,98000,99855,103000,89250,108000,113000,100815,148000,113000,53313,49110,12000,10200,11808,12000,12000,14400,18000,36432,44000,51500,56136,58000,23748,60000,42000,60000,50400,60000,60000,45000,30996,42000,45150,45996,50000,50000,50000,51200,51312,54000,55000,56964,59000,64000,67000,74000,78000,90000,102616,168000,30000,32220,37793,44000,44900,48500,50000,24600,35000,45000,58650,54000,78000,33852,37000,45300,48000,55000,55000,24000,33000,39672,39996,82000,39000,44544,43920,42000,50000,54000,25000,30000,30000,36000,30000,40000,40000,40000,37000,44000,45000,39000,47000,47831,48000,50000,44000,50000,50000,44000,44000,51600,51648,48396,51000,54000,25380,60000,64000,24000,26000,26000,26004,30000,26400,44000,69000,10000,19200,20000,27000,48096,53326,14400,27385,27600,29120,30000,30000,30000,29780,34000,38004,28000,39000,54000,28500,18000,15204,72000,10800,12996,19200,20000,20400,25000,29500,81000,70553,84000,101000,128000,30000,30000,42000,37000,50000,50000,54000,72000,30000,118000,30000,30000,11292,12500,14400,30000,30548,33200,33600,35000,29000,36000,37000,40000,34000,40000,40404,15000,17004,39500,44004,15600,42000,62000,12000,12000,12252,22800,29004,30000,30069,34000,35000,40800,42000,30000,66000,10800,54000,30108,37200,75805,118000,43000,32040,25200,35000,29000,30992,46000,28000,40000,40000,31000,31692,51200,31000,25000,27600,29000,30000,33000,36000,30288,37000,37000,37800,33600,40000,36000,44000,21996,22708,31200,31200,31323,26592,28800,32108,30000,32000,32400,33000,32000,32000,32000,39000,39300,39996,56000,84000,15600,32000,12000,17000,10000,13200,14400,14400,14400,15000,15500,16000,32400,16800,16800,17573,18000,18072,19200,19992,20000,30857,31400,33600,34320,34580,30000,30000,31440,31800,33600,34000,34000,34000,37200,39000,39314,40750,41277,46000,33612,44000,44000,44400,47004,34000,49000,49000,51200,34500,49000,49000,49000,53100,54000,56400,51850,70000,74400,70910,15120,30892,56100,12000,18240,33000,34000,42000,51500,29000,71000,10000,12240,18996,20000,26400,18000,19000,69000,32004,17004,19200,22800,24000,30000,30000,30000,42000,49000,59000,30000,14400,14500,18000,21112,28000,30000,30000,30000,33996,39000,41000,41500,45996,52000,64000,65025,85500,24000,32000,29000,33288,40000,42000,30500,48000,24960,24996,28800,31000,26500,27900,31000,33000,34000,31000,31000,31000,44000,20688,30456,31400,32004,31000,51600,31100,32400,30000,49000,64000,31732,62050,31800,82438,102000,19200,29000,70000,13200,27000,12000,32000,14400,15000,15000,16500,17000,17000,32000,18000,18000,18000,19200,19200,19820,19968,32000,20000,32304,26004,26568,27500,28800,30000,32160,34000,29004,33000,33000,33000,33456,33996,34000,34800,33000,37200,39600,41000,42804,44000,33996,47000,48000,48996,33996,57700,59000,34000,34000,34000,34000,79050,96000,98000,138000,34000,21000,20000,78000,24000,13200,12000,34000,19600,32000,34000,34000,39000,34000,43200,44400,45000,49000,49362,54000,17000,37000,14000,14400,17000,19200,31000,14076,14400,14400,34000,15000,19200,34000,30000,29000,34300,32400,32900,38100,34999,49000,56000,57000,57996,59004,35000,35050,88000,35496,76500,120600,128000,36000,25404,24000,25000,36000,20800,21600,32400,38000,28000,30000,36000,34868,29000,36000,30000,36000,31513,36000,32000,36082,32000,32000,34000,34000,34000,34000,34040,34900,35000,36500,38000,39000,39000,39000,37000,41000,41998,42000,42000,37400,44000,53321,54000,54000,54989,56000,56004,38000,64000,69000,38000,66725,38004,73004,64698,38300,87550,24000,28114,44000,44000,44000,39000,44000,44004,44004,45000,45200,20000,20000,21996,23000,25000,27050,39000,39000,31800,39000,55000,32423,39000,48996,49000,49000,51000,52000,54000,39000,54000,54000,59000,60000,39000,60000,60000,63600,39000,39000,74000,65453,67027,39600,39600,39760,39912,95028,40000,15600,15360,18000,40000,44000,77200,40525,15085,19200,40800,30000,41000,46000,50000,41000,11688,12000,30000,34000,36000,42000,109440,32400,42000,69000,42000,62050,42000,42000,18000,18000,42000,18835,19200,42000,21600,42000,25200,26400,26880,27000,27120,30000,30000,30000,42000,30000,42200,31200,31500,33600,33864,33996,29000,29000,43000,29004,30000,31200,32004,43580,43772,43800,35496,35600,36000,36000,37000,39000,39000,42000,44000,42996,44000,44000,44004,45000,47000,49000,49000,44000,44000,44000,54000,44000,22800,20000,13000,14400,14500,15000,18000,20000,20244,21000,23400,57000,44000,44000,44000,66000,66000,59500,61628,44004,78996,44340,44400,44400,44400,12000,44960,108000,45000,12000,45000,20400,18000,49900,45000,45200,56400,56500,61350,61200,46000,29640,46000,108000,108000,218000,32200,46000,16800,20000,21000,21840,29000,30000,46000,46000,36500,54000,46500,59000,32000,30000,46800,30000,30000,24947,47000,47000,20000,47000,47000,45000,47004,18000,47500,31800,31836,48000,48000,32000,41000,64775,66000,69000,48000,48000,25200,30000,32000,30416,30475,48996,32000,33000,48996,34000,35520,36000,49000,39000,40000,49000,49000,48000,49000,17280,18200,28800,30000,30000,31000,33000,35316,39000,39000,49000,49200,49500,49777,20800,50000,31000,62900,50000,20000,21996,25400,30000,33000,30000,31000,50500,34000,50820,34000,34000,36000,36000,38604,51000,39000,51000,42996,44000,51000,45063,51000,51000,51043,59000,51600,51600,66000,103000,52000,18000,45000,33000,56200,24000,26400,30000,52044,54000,52500,52600,24000,35000,13000,13500,18000,18000,19200,20000,20000,20400,21000,21340,21600,22000,24000,24000,53000,24000,24000,24996,25000,25000,25000,26000,26000,26400,30000,54000,33000,29000,29000,30000,31000,54000,32000,32376,32918,33000,33666,54000,34000,34000,54000,54000,35600,36000,36000,36672,54000,38760,54000,39000,40000,41000,54000,48000,54000,54000,50000,54000,54000,25000,12000,14000,14573,15000,54000,15000,15600,15600,16000,16800,16800,16800,17676,18600,54000,19200,19200,19200,20000,54000,54000,54000,24000,24000,24000,24996,25000,54600,25480,54996,26400,26496,55000,27911,56000,55000,59000,59004,55476,63000,54400,56000,61200,56000,56000,56000,103000,108000,56400,56400,56664,19000,26900,32000,32758,57000,33276,33500,57000,49600,57000,52576,66000,75000,57504,57600,19200,20000,98000,27840,32000,28320,32004,58000,24000,58000,24000,58000,28200,32000,34000,29000,58800,29000,58800,58800,30000,59000,32200,32400,36000,59000,37200,38482,44000,46000,28500,59000,19000,19200,21996,26000,28000,29736,32000,34000,36000,12000,30000,28800,59000,29000,21900,59000,59000,49000,59000,19498,59000,24696,25000,28080,30000,33600,59004,36000,59619,39996,46000,60000,60000,54000,62000,60000,60000,60000,60000,66300,113000,128000,25000,60675,27000,29000,33000,30784,21120,21600,61000,22000,24000,24000,61000,24000,24000,24500,24600,25000,25000,25368,26000,52020,26400,27000,27600,28000,30000,30000,30000,30000,30000,30000,30000,30000,30000,30000,62000,30000,30000,30000,30000,30636,62000,31200,31200,31500,32000,62500,34000,29000,29000,63000,29000,29004,29238,29400,63000,63000,30000,30000,63600,30000,64000,34000,34000,54400,34000,34000,34000,54400,54400,54400,54400,38469,64000,54400,39000,64000,39000,54400,39000,64000,54400,64000,10380,10800,14400,39600,64000,40000,64000,64000,64500,64500,50650,55512,53550,64000,70000,59000,19200,12000,66000,41500,42000,66000,42000,56100,66000,66000,44000,44000,44000,44004,44004,44784,66000,56525,48996,48996,67392,57800,54000,68000,54000,54000,54000,54000,68400,54000,68900,39000,69000,69000,69000,59000,58650,58650,62000,69000,58650,66000,66000,69000,58650,60775,69000,58650,69000,69000,65984,77976,59354,78000,59497,70000,70000,78000,60174,70800,80004,60350,71000,146000,54400,21000,71400,30000,71652,32400,35000,72000,39000,61200,72000,34000,30809,33500,34800,34900,35000,35000,72000,46800,72000,60500,61200,72000,69000,74000,79050,25000,35000,30000,73000,22188,25200,30000,30000,32000,32000,34928,36000,30000,74000,25000,35000,44004,30000,22452,24000,62900,25000,25200,25536,26237,26400,27000,28000,28000,28080,30000,30000,30000,30000,30000,30000,30000,30412,31200,74000,32000,32000,32400,32800,33000,33000,33280,34000,34999,35000,35000,74000,35100,36000,36000,36000,36000,36000,36000,36400,36888,37076,37500,37500,37920,38000,38000,38295,62900,38500,38643,39000,62900,62900,74000,34000,34000,34046,34310,74400,35830,36000,36000,37000,75000,75000,75840,76000,40000,64600,42000,76000,76000,54000,65144,54000,24000,25000,25000,25200,27600,78000,28800,66300,78132,59000,78996,73000,63600,73000,62050,66000,73000,35000,36000,36000,62050,73000,73000,73000,69000,69000,73000,73680,62900,74000,74000,74400,74700,75000,75000,73000,75000,76000,64600,76000,76000,76000,65450,76500,77000,77000,77000,77400,108000,113000,96053,117000,117005,100300,78000,223000,703800,36000,27996,28800,31500,35196,42000,78000,36000,108000,35000,35000,36500,36000,39600,78000,66300,58800,78000,78000,16800,78000,44000,15000,15000,66300,78000,78000,78111,78300,78305,10000,15000,67150,79200,30996,79200,32000,34000,38420,40500,14400,14400,68000,15889,18000,19968,68255,81000,54000,54000,35000,30000,38000,70125,69000,44500,46000,70550,54000,61000,66996,83234,84000,144000,33736,84000,71400,44000,57936,30000,42000,33036,51600,84000,23000,41400,42000,42000,84000,84000,42900,84000,37000,43738,44049,45000,39000,45000,45000,45000,72250,72250,44000,44000,47400,86000,86000,86000,86000,48000,73100,86260,74797,74797,74797,56500,88000,69000,88000,88000,88000,110400,138000,30000,30000,31897,88000,34800,36500,39000,40000,88296,30000,30000,31800,36000,88970,38000,43000,75905,44500,45000,90000,92000,28800,30000,31000,32000,35000,30000,40581,79050,79050,76113,40000,93900,93924,28800,28896,30000,31200,32000,32000,32568,32960,96000,96000,96000,82450,97000,33000,33600,98000,98000,98000,98000,83300,42000,42000,83300,44000,34000,35000,35000,35000,35000,83300,98000,30000,30144,36700,37000,37000,37200,37440,37600,38000,38004,38016,100000,40000,40000,40000,34000,40277,40500,41000,41000,36000,42000,102000,86700,42500,103000,43000,44000,44000,44000,44104,44400,44400,103000,45000,39000,45400,45600,47000,29040,104400,47881,48000,107450,48000,42000,48500,48500,48564,43992,108000,44000,91800,108000,108000,91800,108000,24000,25200,91800,108000,33000,34000,36000,91800,51600,108000,91800,91800,91800,10800,92801,109900,111000,94350,111000,18000,21600,24000,24840,113000,48000,113000,96050,50000,113000,113000,96053,51500,114000,54000,114500,115000,116000,116000,116000,116899,54000,118000,54000,54000,118000,118000,55200,118000,57000,57223,118000,119000,120000,120000,121000,121000,122000,51850,61000,123000,123000,104550,123000,64000,123000,124886,128000,128000,128000,108800,108800,128000,128000,108800,129996,130000,69000,110925,69600,71000,133000,113900,19200,136000,138000,66725,78996,138000,73000,138000,62050,117300,19200,75000,18996,138000,18720,78000,138000,138000,37800,29000,140004,18000,143000,143000,18000,145656,38000,148000,148000,151000,130050,153000,74000,62900,74000,158000,163000,163400,164000,70550,170496,108000,188000,192000,195000,213000,35576,185300,218000,60000,223800,191250,75500,253000,288000,270300,273700,397800,10080,71000,83300,604000,9600,9600,9600,9081,8500,8472,8412,8000,8000,7200,6000,4200,21340,97750,21600,39000,46000,69000,30000,22000,32568,62475,116000,35600,72250,31000,64900,85500,31500,56525,33000,30000,148750,50000,42996,56400,15000,44000,83300,53004,12000,24000,25200,49600,71400,61000,18720,18000,130500,19200,65007,10800,225000,54000,43000,11029,54000,32000,40000,26000,103000,51000,66000,78996,64000,42000,31000,114132,41000,28800,15600,34000,263004,44400,91800,60000,108000,25000,30996,19000,124100,91800,45000,35000,37600,48000,35000,32000,82000,18000,219300,26237,40000,24000,59004,69000,36000,60000,30000,19200,101000,19498,31000,32004,40000,66300,50400,103000,42564,45150,21600,48000,66725,32000,38004,60000,28000,238000,54000,78500,77000,30000,39996,20000,21996,17640,56500,258000,73000,72000,66000,13500,42000,12000,30000,81000,52000,19200,33288,40000,51043,56000,16800,38000,67392,49110,29000,29000,28320,47004,32000,24996,45000,30000,40000,65000,54000,34000,30000,10800,44000,25000,17280,30996,30000,30000,33666,25000,54000,54000,56000,39000,30372,138000,75500,78000,69000,85000,24000,19200,61455,20000,54000,9600,60000,604000,28800,48000,74000,64600,18000,44000,44000,54000,24000,56100,44000,49000,78200,69000,61200,44000,28080,29100,30636,29500,30000,30809,48000,32900,123000,42000,48996,51500,105000,16656,30000,78000,54000,28000,62900,20000,19200,48996,78000,32040,48000,113000,32220,37920,24000,66000,40000,28000,78200,18000,45000,16800,53004,27840,91800,54000,75653,14076,50000,34000,56839,124886,42000,21120,83300,29000,45000,31000,83000,30000,69000,80000,80000,584800,540600,85000,403750,133000,67920,74000,55000,12000,90000,12000,56448,12000,228000,85000,47000,176800,49000,60000,66504,55250,72136,69000,14400,174462,14400,142800,78000,82800,88000,15000,15000,90000,94000,98004,103000,100300,15600,127000,158000,16800,76066,68850,148000,78200,16908,118000,45000,17108,55059,60000,17640,17721,17760,17760,72800,67000,18000,60000,38400,64000,83000,67147,83000,38400,56524,72000,91000,19200,40000,42000,58000,59000,19404,48000,38000,39915,37000,45000,48000,42000,44000,50000,50004,45000,45996,62400,64700,65000,65000,65000,65004,84000,73100,92000,108000,18000,48384,23868,40000,45000,58000,36480,43200,50000,48500,55000,62900,168000,51000,47000,36000,36000,43680,45000,44000,50000,25200,54000,69000,26400,42000,26400,18300,27012,30996,29000,28000,32004,33500,28000,39000,44000,44000,11340,12000,24000,48000,32496,32500,33000,372000,9732,34000,54000,13440,14000,15000,30000,32000,33481,36000,38400,32004,59000,60072,117300,19200,10800,14400,17520,18000,21600,30000,30132,38000,49000,49000,54000,29000,16107,30000,10200,42000,61000,96050,35000,30000,33000,30000,29000,37500,74000,31000,21600,54000,32000,13273,12360,17600,19200,19200,24000,34000,30000,33000,33996,35000,33099,45000,76000,28800,34000,24000,53976,35000,14004,56000,59000,83400,103000,36000,73000,24168,55200,29000,29000,34000,36655,34000,37000,37200,39000,41496,43800,54000,86000,108000,32400,31824,44000,44000,24000,26000,27000,46000,52106,59000,54400,39600,108000,34500,54000,14400,40680,54000,30000,73000,39000,42000,18720,25200,42000,30000,32000,33000,32400,33564,42000,44000,44000,44000,49000,44000,56100,44000,44004,60520,25000,52000,54000,55392,46000,14400,46800,52479,19368,47000,48000,48000,48257,35000,49000,38000,49000,58500,23000,29000,49000,49074,49993,19440,26300,51000,54000,117996,128000,21324,34560,52000,30000,29808,52000,52200,18000,53000,24000,24000,25000,25000,30000,30500,31000,54000,32000,33100,34000,39000,54000,44004,54000,49000,53126,54000,20000,54000,15000,16800,21000,54000,54996,27600,55000,56000,74000,86105,108000,116000,56500,56900,57000,36000,44000,48000,73000,22000,58000,24600,27000,30000,58800,59000,59000,45000,44004,31000,23004,34000,55000,58000,28800,59004,59827,60000,24300,19896,22800,23000,24000,24000,61000,25000,25000,61020,25320,26000,26000,26400,52569,30000,30000,30000,30400,30500,31200,31504,32000,32000,32000,32400,29000,64000,64000,64000,12000,54400,40000,65028,12000,41435,42600,66000,43000,56100,66000,56100,56100,54000,68400,68400,39000,59000,60000,60000,61000,58650,62400,64000,54400,66000,58650,62047,69000,70872,26000,36000,35000,33600,33150,62540,74000,30000,62900,20400,27000,30000,30000,30000,74000,32000,33600,74000,36500,38200,38304,74000,74000,62903,64430,64464,39000,54000,24000,24000,24996,29120,73000,62900,75744,75000,75000,73100,77000,113000,78000,78000,36000,78000,78000,78000,25000,79992,13200,81000,82000,46000,83000,83000,83000,43000,71400,27036,33000,32878,45000,40800,54000,59000,88000,73000,88000,123000,30120,96500,42000,46152,93000,94050,44004,30000,30000,100000,101000,44531,45000,39000,39000,104000,88400,47000,41000,47840,48000,43439,108000,108000,108000,108000,91800,91800,91800,108000,53550,17000,17496,25140,113000,52000,115000,98600,98603,118000,100300,60000,123000,62962,108800,69000,128000,69000,19200,117300,138000,141000,49000,37000,36100,145124,42000,45000,153000,138550,140787,98000,14400,171870,74000,238000,244800,33600,261800,310400,54000,499800,37440,39000,9600,45000,8628,8088,6000,4000,46000,38000,19200,58800,60000,12000,41496,52000,33600,79900,108000,56900,17108,69000,44004,45000,48000,55059,30000,53126,18000,19200,78000,145124,32878,88000,54000,66000,62400,45996,46000,103000,18720,12360,72800,24000,25000,51850,58000,83000,24000,31000,32000,15000,85000,73000,61000,52106,18000,24168,55000,30000,88400,15000,64600,180000,113000,86000,24000,54000,43439,18300,52479,73000,45000,13200,59475,64464,32000,21600,60000,30132,11340,53800,38400,12000,44000,101000,52000,76000,85000,108350,53700,60000,15000,153000,68375,70000,77000,43000,45600,50000,50000,54833,51000,59004,76500,18408,50000,45000,33600,30000,54000,15000,54000,58000,98000,138000,38000,39000,29000,15840,37200,34000,27000,37200,37000,48000,42000,19200,71520,40000,49000,22880,52000,24000,25000,10636,54000,56000,36000,62050,34000,78000,78000,40000,48000,129000,133000,148000,163000,9600,4888,98000,50000,58000,129000,71520,40000,45600,65004,76000]},{\"axis\":{\"matches\":true},\"label\":\"person_age\",\"values\":[22,25,23,24,21,26,24,24,21,22,21,23,26,23,23,24,22,22,24,21,24,21,21,26,21,22,24,25,23,26,24,26,22,26,24,23,23,23,26,25,22,25,22,21,23,26,26,22,21,22,24,26,22,24,21,22,26,24,24,23,22,25,23,22,21,24,25,24,26,24,23,22,26,25,22,25,21,22,23,25,24,23,22,22,22,23,23,26,22,26,23,21,26,22,24,23,23,24,26,23,23,24,24,26,23,25,23,23,21,25,22,24,22,24,21,26,23,24,24,25,26,25,22,24,24,24,25,26,25,25,23,25,24,22,23,23,23,24,23,21,24,24,24,26,24,23,26,25,23,23,25,23,24,23,23,21,23,23,25,24,23,25,23,23,22,25,25,26,23,24,23,25,21,25,24,23,25,24,24,22,25,22,24,26,24,25,22,23,23,23,24,22,25,23,25,23,25,25,23,24,25,26,22,24,26,22,21,22,22,23,24,26,21,25,24,22,26,25,22,21,26,22,26,22,23,23,24,25,22,24,23,22,22,24,24,26,23,22,23,23,22,21,21,24,22,26,26,23,23,23,24,21,26,24,24,24,23,22,22,25,21,22,22,25,23,25,24,23,22,24,22,23,24,26,24,24,23,25,25,21,22,25,23,24,25,26,22,22,22,21,24,25,25,25,21,22,25,24,23,26,22,24,25,24,24,25,22,25,25,22,22,26,24,24,21,22,23,26,26,23,26,22,26,22,25,26,25,26,21,21,26,23,26,24,24,25,23,25,25,23,25,24,21,25,22,22,25,22,23,24,22,24,24,22,22,22,23,25,25,22,22,24,25,24,22,22,24,25,25,22,24,25,24,22,22,23,23,23,24,26,24,25,26,25,23,25,23,22,22,23,26,26,23,24,24,25,24,23,23,22,25,25,25,24,23,25,24,24,26,23,24,24,25,24,21,24,25,25,26,23,23,23,26,23,21,26,25,23,23,24,25,23,23,22,22,21,22,24,23,26,24,26,23,24,22,26,25,24,23,22,24,26,23,25,23,23,22,25,22,23,23,23,25,22,23,25,22,24,23,26,25,25,23,22,21,23,22,22,24,21,22,22,21,23,22,25,25,25,26,25,22,23,26,25,26,26,22,22,24,21,22,25,24,24,22,22,22,22,24,25,23,22,24,23,25,25,25,22,23,26,24,25,22,24,23,23,21,21,23,25,25,24,24,22,24,25,22,22,24,24,24,24,23,26,22,22,25,22,25,22,24,25,25,23,24,21,25,21,26,26,24,26,26,25,25,24,25,23,23,23,23,22,23,24,25,23,21,24,25,23,22,23,23,24,22,23,21,23,26,22,22,22,24,24,23,25,24,23,24,25,23,24,23,23,26,21,22,22,24,26,22,22,24,23,22,26,23,26,22,23,24,25,22,26,23,22,25,25,26,24,22,26,25,23,22,26,26,24,24,22,25,25,24,25,23,22,21,22,21,24,24,25,23,24,26,22,24,22,24,23,25,23,22,25,24,24,22,24,23,21,22,25,21,25,22,22,24,26,24,22,22,25,24,24,22,23,23,23,20,24,24,23,21,22,26,21,22,22,22,22,26,23,25,24,22,25,22,21,25,21,25,21,21,23,23,23,23,21,22,22,22,23,22,24,22,25,24,25,24,24,23,24,21,26,23,25,24,23,24,25,26,24,22,23,24,23,25,24,22,26,22,24,23,26,22,24,21,24,23,21,24,23,21,26,22,23,25,23,24,22,23,21,22,24,23,25,26,26,24,25,26,26,21,22,22,24,21,22,24,24,24,24,21,23,26,23,24,23,22,23,26,21,24,24,26,24,22,23,24,22,25,25,23,24,24,24,22,24,21,22,24,26,23,23,22,22,24,24,26,22,21,24,22,23,22,22,26,24,22,22,26,23,21,22,26,22,24,22,24,24,22,22,21,21,23,22,23,26,24,23,24,24,24,26,24,22,23,26,21,22,24,21,21,23,21,22,21,22,23,24,26,25,26,21,21,21,24,24,21,22,22,23,23,23,23,24,26,22,24,24,25,22,22,26,23,26,25,26,22,22,26,26,21,21,24,26,25,26,25,22,21,26,26,25,24,24,23,22,24,23,23,25,22,25,24,25,21,26,21,22,24,23,22,21,26,25,22,22,21,25,24,23,24,22,21,22,25,22,22,24,25,21,22,22,24,26,23,25,22,24,23,23,25,22,21,26,21,25,22,23,25,22,23,22,24,21,21,23,23,21,22,21,26,22,22,23,22,26,25,23,21,23,21,21,24,23,22,22,23,22,22,21,21,22,23,23,21,22,24,23,24,21,25,26,24,25,22,25,26,23,22,22,23,21,26,24,21,24,24,24,26,23,23,22,23,21,24,22,23,25,23,22,25,25,21,23,25,22,25,25,23,24,25,23,24,23,25,25,22,24,25,24,23,23,22,23,22,25,26,24,24,25,22,25,25,22,23,23,21,22,24,21,26,22,25,21,23,23,22,23,24,24,25,22,21,25,26,25,25,23,22,24,23,25,22,22,21,22,24,22,23,23,22,26,24,21,24,25,26,23,22,25,24,26,25,22,22,21,21,21,22,26,22,21,24,22,22,22,24,21,22,23,26,23,23,25,24,24,21,26,25,25,23,23,26,24,22,25,21,23,21,22,22,22,24,26,23,21,26,25,23,25,22,21,23,24,23,26,26,23,23,25,21,25,22,22,21,24,26,23,26,26,22,25,21,26,23,25,22,23,24,22,21,23,25,23,25,26,25,23,26,25,23,22,24,25,25,25,22,21,22,22,25,25,23,23,23,22,22,22,25,22,25,25,23,22,25,25,26,23,24,23,22,25,25,22,23,24,23,22,22,22,25,24,25,24,24,21,26,22,23,22,22,22,26,24,22,22,22,22,21,22,24,23,24,25,22,23,21,25,24,25,22,25,24,21,22,23,24,23,21,22,26,26,25,21,24,23,22,26,22,20,25,21,22,24,26,22,22,26,25,21,23,24,26,21,23,25,26,26,26,22,25,24,24,26,24,22,24,23,25,23,26,26,24,23,22,23,23,22,26,23,26,24,26,24,24,21,22,24,22,26,25,24,26,24,24,22,22,22,23,24,22,23,25,25,23,21,23,24,25,25,23,23,23,23,23,26,22,24,24,21,21,22,22,22,22,23,23,25,21,26,23,26,25,26,24,21,22,26,23,26,25,22,24,22,21,24,21,22,21,25,22,24,23,23,25,22,25,22,23,26,24,22,23,25,26,26,23,22,24,25,24,25,21,26,23,21,23,23,22,21,25,24,24,22,22,22,26,22,23,23,26,23,23,25,26,25,22,24,22,22,23,22,26,24,23,23,22,21,21,26,25,23,22,24,22,26,26,23,26,25,25,25,23,24,22,23,22,22,22,24,26,23,23,23,25,23,26,24,21,23,24,24,21,22,24,22,21,22,25,22,22,21,25,22,22,24,23,24,24,24,22,24,24,24,22,23,23,24,26,24,25,26,23,21,23,23,21,24,26,23,24,23,23,25,26,23,24,23,23,22,24,26,23,24,24,23,25,26,23,22,26,21,24,24,22,23,23,23,24,21,25,25,22,24,25,26,24,23,26,25,24,25,21,22,22,24,21,26,22,22,23,26,24,25,25,21,22,25,22,22,22,24,26,24,26,22,26,22,22,24,22,23,25,23,21,22,23,24,23,23,23,22,26,25,23,22,26,24,22,23,23,23,26,26,25,23,21,25,23,22,22,22,25,25,24,24,22,23,24,25,25,23,22,24,25,21,24,22,26,22,22,22,24,22,21,21,26,25,23,25,21,22,22,22,23,24,21,22,26,26,22,25,24,24,22,22,22,21,24,24,24,21,25,25,26,22,22,22,24,25,24,24,21,21,23,21,23,23,23,25,21,25,24,22,25,24,22,22,21,24,26,22,24,22,22,22,23,21,23,24,25,21,25,23,25,21,24,22,25,23,24,25,21,25,22,22,24,26,21,25,24,25,25,22,25,24,23,26,22,23,25,22,23,24,26,24,24,26,24,22,22,22,26,23,24,25,21,26,23,25,24,23,25,24,22,22,25,22,23,26,24,25,25,26,25,23,23,22,25,26,22,23,24,23,26,23,22,25,24,23,23,23,24,22,26,24,26,26,26,21,21,26,26,23,22,23,24,23,23,23,26,25,23,22,22,22,21,21,22,23,21,23,21,25,23,21,26,22,24,25,25,26,23,25,24,24,25,25,24,25,23,24,25,26,26,22,26,21,23,24,26,25,21,23,21,23,22,22,25,22,26,25,24,26,26,22,23,25,24,23,26,24,22,23,23,22,22,25,23,22,22,21,25,23,25,24,22,22,23,24,25,22,23,21,23,23,23,25,22,22,26,24,25,24,24,22,24,24,24,24,23,25,22,21,24,26,25,22,24,26,22,22,23,22,22,22,23,25,25,24,26,24,22,25,25,23,21,22,22,21,22,22,23,25,24,22,23,23,23,23,25,23,26,22,25,21,25,22,22,23,26,22,22,26,22,25,21,24,26,23,24,26,22,24,23,26,21,21,24,22,21,22,22,22,24,23,22,24,24,24,23,25,21,22,25,23,21,25,22,22,24,23,22,26,26,22,25,22,23,22,25,23,21,24,22,22,21,21,26,24,23,22,22,26,25,24,23,22,22,21,23,23,24,22,22,22,24,25,23,23,22,24,23,26,23,23,25,25,23,25,23,24,25,24,21,24,23,23,25,22,24,22,25,26,23,26,22,21,24,26,25,22,22,23,21,25,25,22,22,22,21,26,25,23,22,26,22,26,24,22,25,25,23,23,23,25,25,22,22,24,26,26,24,26,22,25,22,25,22,24,25,23,22,22,24,26,21,24,23,22,23,25,23,24,21,22,24,23,22,22,26,22,21,24,22,24,22,24,21,24,23,22,25,22,24,21,25,24,22,24,25,23,22,22,23,26,25,22,23,22,23,22,25,23,21,22,26,23,26,26,22,26,23,24,22,24,23,23,22,26,22,21,22,25,22,24,26,23,23,26,23,24,23,21,26,26,23,24,25,24,25,24,24,22,25,23,24,23,25,24,21,24,23,21,23,21,25,26,23,24,23,23,22,23,23,26,22,23,23,22,24,22,26,25,25,22,25,23,25,22,24,26,21,23,24,22,23,25,21,26,21,24,24,21,26,21,24,21,23,22,22,26,22,25,26,22,26,24,22,25,23,21,22,23,21,23,21,25,24,25,25,21,24,21,24,23,24,25,23,26,25,24,23,23,21,21,21,22,24,24,24,21,25,23,24,22,25,24,26,23,24,24,23,24,22,24,23,21,23,25,22,22,25,23,25,26,25,24,22,21,23,22,26,25,25,24,23,23,26,22,22,25,22,22,24,26,22,21,24,21,25,23,25,22,24,21,23,26,23,26,23,26,24,23,23,26,23,25,26,24,26,25,23,26,23,23,21,22,22,25,24,22,22,22,24,21,26,23,23,23,22,22,25,26,23,21,22,26,23,22,22,24,26,25,23,24,23,23,25,21,26,25,25,22,21,23,22,26,21,25,21,21,23,22,25,25,25,22,24,23,24,22,22,26,22,25,26,23,24,21,24,26,25,21,24,22,24,26,24,23,24,22,23,22,24,22,24,22,22,23,25,21,23,21,23,22,24,25,23,25,22,25,22,25,26,24,24,26,25,25,22,22,23,25,26,26,26,23,24,26,22,25,21,24,25,24,21,22,22,22,21,22,22,23,23,24,26,26,22,25,26,24,25,21,26,24,21,24,22,24,23,26,22,21,23,25,24,23,24,22,25,23,24,22,24,23,24,22,21,24,22,22,21,24,22,23,23,24,22,22,23,22,24,21,25,22,24,21,23,26,23,23,21,24,23,26,23,21,22,24,25,22,22,22,24,25,23,23,21,22,23,24,23,22,22,24,24,23,26,25,26,22,24,22,22,23,25,25,22,26,23,26,26,23,23,22,22,23,22,21,25,23,22,21,23,24,22,25,25,26,23,24,24,23,23,23,22,22,23,25,25,23,24,21,22,25,24,26,22,24,22,24,25,23,24,22,23,26,22,25,22,22,22,22,26,24,23,23,22,22,24,24,22,26,22,21,22,26,22,25,25,26,24,25,23,23,22,23,24,21,24,21,25,25,23,24,22,23,23,23,23,22,24,25,24,24,22,23,22,22,26,22,26,23,26,23,23,24,23,21,22,23,25,25,25,24,22,26,26,25,21,23,22,24,24,23,26,26,25,24,21,22,23,22,23,26,25,23,24,22,23,22,23,26,22,24,26,25,22,25,26,22,23,25,22,26,22,26,25,23,26,24,23,26,22,22,23,24,26,23,24,25,22,22,24,24,25,26,23,26,23,22,23,24,23,22,25,25,22,26,21,26,22,25,26,22,24,23,24,25,24,26,23,22,21,21,23,25,23,25,23,23,25,24,25,24,23,22,22,22,22,24,26,25,23,23,22,25,24,23,25,22,26,21,22,21,25,25,22,24,25,24,25,26,21,23,26,26,25,25,26,22,22,22,22,23,25,23,22,24,25,22,24,25,24,23,24,24,22,21,24,22,22,22,24,25,22,22,24,22,22,26,24,22,23,24,24,26,24,26,21,22,23,22,23,22,21,24,26,23,24,26,22,24,22,23,22,23,24,26,25,24,25,26,24,25,22,25,21,25,26,22,22,21,23,22,22,21,26,24,24,24,24,22,25,25,23,26,26,25,23,22,23,22,26,22,22,24,24,22,22,24,22,21,25,23,22,26,24,23,25,25,23,23,25,26,22,23,25,23,25,24,23,22,22,24,22,26,24,25,22,22,22,25,25,25,26,26,24,22,22,23,25,23,24,25,23,23,22,24,24,23,25,26,25,24,23,25,24,25,24,23,22,23,23,24,22,25,23,23,25,24,23,22,23,23,25,24,23,25,25,25,24,23,24,26,22,24,25,23,22,23,23,24,24,21,22,26,21,24,23,23,25,22,25,24,23,23,22,25,23,23,25,24,26,22,24,26,25,24,21,23,23,24,23,25,25,23,21,26,23,25,23,22,25,23,24,24,24,26,25,24,26,21,23,26,25,22,22,26,23,23,23,26,22,24,25,26,25,25,24,26,26,23,24,24,22,23,25,23,22,22,24,23,22,21,23,22,23,23,23,24,26,22,21,23,23,24,24,22,23,23,23,23,21,21,24,26,24,26,24,22,25,25,25,25,21,25,25,22,26,26,26,25,24,25,23,24,23,26,26,25,22,25,22,25,22,24,23,25,23,24,25,25,23,25,24,23,26,24,26,21,23,24,24,22,23,21,22,24,23,25,24,24,22,22,24,24,24,25,23,24,21,22,24,26,22,23,24,23,22,24,23,26,24,26,25,25,26,25,26,25,25,26,21,26,26,22,25,24,25,23,25,23,24,24,22,26,26,26,23,23,25,22,22,26,25,25,26,22,26,21,21,22,22,21,22,23,24,23,26,25,24,22,25,21,22,22,24,26,26,24,25,22,24,24,25,22,23,24,24,22,22,25,23,21,25,23,25,22,26,23,24,22,22,22,22,22,22,25,21,22,25,22,23,24,26,21,23,23,26,26,25,23,24,26,23,24,26,22,24,24,24,23,26,23,24,25,24,25,23,25,24,22,22,24,25,23,23,22,26,22,23,26,23,25,26,26,23,23,23,25,26,25,26,26,24,23,23,25,22,22,23,23,22,24,22,22,26,23,25,23,22,21,22,23,25,25,23,22,24,26,24,25,22,26,23,23,24,23,24,23,26,24,23,21,21,24,25,25,25,21,24,22,26,21,26,22,21,22,26,25,26,25,26,26,25,23,23,22,24,24,23,23,21,26,24,23,24,25,24,23,26,22,24,22,23,21,25,24,24,25,23,25,25,24,25,23,26,26,24,26,25,25,24,24,26,23,21,23,25,22,25,24,23,26,25,21,24,25,26,24,23,24,23,25,25,23,21,26,22,21,26,25,24,26,24,21,25,24,23,22,23,24,26,24,26,25,26,24,26,24,22,26,24,25,24,26,26,22,24,24,23,24,21,24,22,26,24,26,24,23,24,23,26,21,25,25,24,26,26,22,23,26,26,24,26,25,26,25,23,21,22,23,24,24,23,23,21,25,24,26,22,21,24,23,23,25,23,21,23,23,23,24,26,22,21,22,21,23,22,24,21,24,21,26,25,22,22,24,21,21,24,26,21,23,26,25,23,25,26,25,25,24,23,22,24,22,23,22,24,23,23,24,21,22,25,22,25,22,22,23,25,23,22,25,23,23,25,22,26,23,23,23,25,21,24,25,22,25,25,25,21,23,22,25,26,25,22,22,21,25,25,24,22,22,26,22,24,22,26,25,24,24,25,22,21,23,25,22,24,26,22,24,22,21,21,26,25,24,21,26,22,22,21,22,23,24,22,23,22,22,26,23,22,24,24,23,23,21,25,25,23,25,24,23,26,23,22,22,25,26,23,22,23,24,25,23,26,23,24,23,23,25,22,22,25,21,21,26,22,26,22,23,25,25,25,22,23,25,24,26,25,23,22,22,24,25,22,25,24,23,26,22,25,23,24,22,24,24,21,23,24,25,24,23,22,23,25,22,24,23,24,25,23,23,23,22,24,24,22,23,26,21,26,23,24,25,23,22,25,25,23,22,25,23,26,24,24,25,22,23,23,24,22,23,22,25,25,24,22,23,26,22,22,22,23,23,23,23,24,23,25,22,23,24,22,21,22,21,23,26,23,24,24,22,22,22,23,25,23,26,25,22,23,23,22,23,26,26,22,24,25,24,25,22,24,23,25,24,26,26,24,25,22,24,25,24,25,21,21,22,24,25,25,24,23,23,24,26,22,26,26,23,23,22,23,21,23,22,21,23,25,22,25,24,23,21,25,24,25,22,23,22,24,23,24,23,25,25,23,22,21,23,24,21,25,21,22,24,26,26,24,23,25,24,23,21,23,25,21,25,26,22,24,22,24,24,24,26,26,26,22,24,26,26,23,26,25,25,21,25,22,26,22,21,21,22,23,22,21,23,26,21,21,26,24,24,23,25,25,22,24,25,24,24,22,22,22,25,24,22,25,22,23,23,25,23,21,22,22,24,26,22,25,26,25,23,25,22,23,26,21,21,24,21,24,25,23,23,24,25,23,22,25,22,25,25,26,24,29,33,29,28,29,35,29,31,34,27,30,33,27,33,30,31,34,30,28,29,34,34,28,28,29,34,27,29,34,29,32,28,30,28,31,27,31,27,29,28,27,27,34,32,29,35,27,29,32,27,27,34,27,33,27,28,32,30,29,30,30,27,28,29,30,31,28,27,28,35,28,32,30,30,31,32,29,29,30,32,27,32,29,30,27,31,32,29,30,34,35,27,30,30,34,30,31,27,29,29,32,35,33,32,30,30,28,31,30,28,27,29,28,31,29,31,29,28,35,30,27,31,28,31,34,31,34,32,33,28,30,29,30,27,35,29,30,31,33,31,30,27,28,30,29,28,27,33,33,31,28,30,30,27,28,28,28,29,32,31,27,27,35,28,28,35,30,31,28,27,29,27,28,30,27,27,30,32,31,28,29,34,28,28,28,30,27,35,29,34,28,34,35,32,29,31,27,35,29,33,30,33,35,33,33,30,31,28,28,31,33,29,28,34,31,35,28,35,33,31,27,32,27,31,32,30,30,27,28,29,30,33,28,32,27,35,27,32,27,28,33,28,29,30,31,28,30,27,27,27,27,28,28,28,29,31,27,30,32,34,29,30,28,27,28,35,30,29,27,31,29,32,27,28,33,28,28,27,29,31,28,28,35,30,34,28,29,30,32,31,27,33,28,29,28,30,28,31,33,28,30,30,34,32,28,30,27,29,29,29,27,34,27,34,31,27,34,29,32,29,27,28,33,29,31,33,27,30,33,27,27,28,28,27,35,32,29,27,32,35,27,33,35,28,35,27,30,28,33,34,35,28,31,27,34,30,28,30,32,27,27,27,27,27,29,30,34,29,35,27,29,28,27,35,35,30,27,28,34,30,32,27,28,30,35,28,30,33,28,33,29,30,27,28,30,27,35,29,27,28,33,31,32,30,28,35,28,29,29,30,29,32,30,32,27,33,31,33,31,30,29,29,29,32,32,31,29,33,32,29,34,28,30,27,31,28,28,29,31,31,35,31,30,30,33,34,27,30,28,27,28,34,35,30,27,28,29,29,29,27,32,27,28,29,31,28,31,31,30,27,27,30,28,30,34,31,28,35,29,29,27,27,27,31,30,33,28,31,29,29,29,34,34,30,31,33,32,31,31,28,27,28,30,29,27,31,27,28,27,31,33,29,27,27,27,31,27,34,29,31,28,33,35,28,29,27,31,30,27,27,27,27,27,27,27,28,28,35,32,33,27,33,31,28,35,31,28,29,32,35,28,30,34,31,29,33,31,29,31,29,31,27,28,28,28,29,29,32,30,33,32,34,29,31,29,32,31,32,29,28,29,27,33,28,28,34,29,27,32,33,28,27,31,29,32,31,28,35,28,29,28,28,31,27,33,27,30,33,35,27,32,28,35,27,28,32,30,30,29,32,32,27,28,29,29,27,31,34,29,32,35,27,27,28,28,29,33,28,27,32,29,34,28,30,29,33,27,27,31,29,32,30,27,35,27,31,33,35,30,30,29,27,29,32,30,27,29,29,29,28,27,35,31,34,29,33,35,31,27,32,29,27,27,28,31,30,30,31,27,35,32,28,31,28,29,35,30,27,28,27,29,29,32,29,27,27,27,28,28,29,35,34,29,30,27,27,27,28,28,33,29,28,27,27,27,29,33,30,28,28,29,27,27,32,28,27,30,28,27,35,31,29,29,32,34,31,28,28,28,28,27,34,34,28,29,28,31,32,27,31,35,34,30,33,28,35,30,28,28,33,31,32,28,32,35,28,29,28,28,34,31,29,27,33,28,34,32,31,32,27,32,31,32,35,31,28,28,33,29,31,29,35,28,27,27,27,27,28,32,27,29,29,28,35,28,35,27,27,28,32,28,35,28,32,28,31,30,31,29,30,28,27,35,31,28,32,31,30,29,27,27,28,27,27,30,27,33,28,29,27,32,27,31,35,32,27,30,27,35,35,29,27,33,28,31,27,28,30,29,32,28,31,30,30,33,28,27,31,27,30,28,27,29,27,29,30,31,32,28,32,29,30,27,30,28,35,31,29,28,29,29,29,27,30,27,34,27,31,29,28,27,31,32,29,28,27,33,28,31,29,30,34,29,31,29,35,27,34,28,27,33,29,27,27,32,35,29,31,33,29,28,28,31,32,27,29,27,27,29,27,29,30,35,31,33,27,29,30,35,30,33,33,34,32,35,29,27,30,33,29,34,33,27,29,29,29,31,34,27,34,32,27,32,27,31,29,30,27,29,27,33,29,27,31,29,31,33,31,27,31,29,35,31,28,32,27,33,32,31,32,33,32,33,31,29,28,30,29,30,29,28,33,33,31,31,32,30,35,27,29,27,27,33,27,27,30,27,27,34,33,29,28,29,27,27,29,31,33,28,31,30,27,27,33,28,29,27,28,29,33,28,34,32,28,33,35,31,31,35,27,32,28,30,30,29,35,31,28,27,33,28,27,29,32,30,28,28,35,27,34,33,31,29,29,34,27,34,27,27,27,30,30,33,32,27,27,28,30,29,33,27,35,28,33,31,28,32,30,28,27,33,28,34,27,27,33,28,30,33,32,28,29,27,34,28,29,27,28,27,29,29,29,29,30,29,34,30,27,28,28,31,27,27,27,33,28,27,32,29,35,27,29,27,27,28,27,33,35,33,28,27,35,28,27,35,27,28,32,28,29,27,33,35,28,30,29,34,29,29,30,29,28,30,30,27,27,27,35,31,28,27,27,30,32,30,28,31,33,29,28,27,34,29,31,29,28,32,28,28,29,32,32,29,28,29,34,32,27,34,30,31,30,31,30,30,31,30,28,34,28,28,28,32,29,29,29,32,32,29,32,28,29,28,27,28,27,28,30,33,31,28,32,31,30,34,34,31,34,30,27,33,30,28,28,27,35,31,28,30,29,27,28,30,31,32,33,34,35,33,27,33,29,29,31,35,34,29,27,28,28,35,29,28,32,33,28,34,32,28,28,33,30,30,33,29,35,27,32,32,32,34,32,31,29,28,29,30,27,29,32,28,35,28,29,28,28,27,27,31,29,34,27,27,28,29,27,27,27,31,31,28,28,27,27,31,33,32,33,27,32,33,27,29,28,27,27,27,32,34,29,34,32,27,27,34,29,28,28,27,28,27,28,29,30,31,27,35,31,28,31,33,34,35,27,27,29,27,32,30,27,33,28,31,34,27,31,34,28,27,27,35,31,33,27,27,27,33,29,27,28,27,31,30,35,28,33,28,31,35,28,29,30,27,31,34,28,31,30,27,29,28,34,32,28,30,27,27,32,34,34,31,28,31,28,31,30,29,28,30,32,27,28,31,27,29,33,29,27,28,30,34,27,29,32,29,28,28,27,27,29,28,29,28,31,35,35,27,28,32,28,29,30,28,28,34,31,30,27,30,29,28,27,29,33,30,28,34,31,27,27,30,35,27,27,28,31,29,27,28,33,29,31,27,27,29,33,30,34,31,29,33,31,27,30,35,34,29,30,30,34,31,29,31,32,27,28,28,27,27,30,29,27,30,28,34,32,31,27,33,30,32,30,28,34,30,27,32,29,27,30,28,34,28,34,29,30,27,31,34,30,31,29,28,28,29,32,27,28,31,29,27,27,29,32,35,29,29,28,33,29,30,28,32,30,28,29,27,32,28,34,28,28,28,32,27,28,28,30,30,32,28,32,27,31,29,29,33,29,29,28,32,27,34,29,30,30,28,30,27,35,27,32,27,27,33,29,29,31,33,29,27,29,34,34,31,27,35,33,31,32,31,28,35,29,27,27,32,27,27,27,27,28,30,30,31,30,29,28,31,28,30,32,34,27,32,29,32,33,32,30,31,27,27,32,33,27,28,30,27,28,28,33,34,27,28,27,31,28,28,27,27,31,28,29,31,33,30,30,28,28,29,30,27,31,31,29,32,30,27,33,32,28,35,31,34,27,28,29,27,31,27,29,28,27,27,30,30,30,34,30,31,31,28,27,34,35,35,31,30,28,29,27,28,32,29,33,27,29,30,28,27,33,27,31,28,35,28,29,28,29,28,31,31,27,27,31,28,34,35,32,27,27,33,27,31,27,30,31,29,27,27,32,32,33,29,30,35,35,28,27,35,33,30,27,29,33,32,27,30,29,27,31,30,27,29,29,30,28,32,30,34,35,27,28,30,32,33,28,31,31,29,28,28,31,28,27,30,28,27,31,27,33,29,27,28,27,30,30,30,29,31,32,28,27,27,31,29,34,31,29,29,32,29,28,33,32,32,29,27,30,29,27,33,28,27,34,33,27,32,28,27,27,27,29,34,32,29,32,30,27,29,27,28,32,32,28,35,33,32,34,27,27,32,28,28,27,29,29,28,28,30,30,32,30,28,30,31,28,34,28,33,27,27,27,35,32,28,34,29,31,34,32,30,28,29,28,31,30,34,30,31,28,30,31,28,29,28,29,29,30,33,30,30,29,30,33,27,27,27,33,33,34,35,28,32,31,33,28,32,34,27,27,29,31,34,35,28,29,28,28,27,28,29,27,28,31,28,34,28,29,34,34,30,27,32,33,30,30,32,28,34,27,29,34,32,29,31,35,30,29,33,28,32,31,33,33,34,30,29,30,31,35,28,28,28,33,28,29,27,35,27,33,33,29,32,29,33,30,33,32,31,27,29,32,27,29,27,30,27,29,28,30,28,34,30,28,28,35,34,33,33,32,28,29,30,30,28,29,29,31,28,31,29,29,32,35,30,30,27,32,27,27,29,28,35,27,33,33,32,28,27,27,27,28,33,34,28,29,30,35,29,27,33,29,28,28,27,28,29,33,29,30,29,28,31,28,33,31,28,29,29,33,35,33,28,30,31,29,29,30,30,28,34,27,30,34,33,27,29,28,32,27,32,27,27,30,34,30,28,28,29,28,32,30,27,28,31,28,34,29,27,33,32,32,27,32,32,27,27,28,32,30,27,33,27,28,32,29,31,29,31,27,32,34,29,35,27,33,35,29,27,31,31,29,28,30,28,27,29,27,29,28,29,28,28,29,32,34,30,33,28,28,28,35,31,31,33,34,27,35,30,28,30,28,27,35,27,28,28,34,28,29,30,28,28,31,30,34,31,28,31,28,27,29,27,30,30,31,28,27,28,29,28,29,27,27,31,33,28,29,30,27,27,27,33,35,32,34,32,31,30,35,35,35,29,28,31,28,31,34,30,32,29,27,28,29,30,31,30,27,27,27,29,33,33,29,30,28,34,27,29,30,29,32,28,33,33,28,28,31,28,34,32,31,31,33,28,31,32,36,45,37,44,40,37,39,40,44,43,37,47,36,38,40,44,48,45,42,40,41,45,41,47,44,36,36,36,42,49,39,45,37,36,37,47,37,40,36,39,40,36,40,48,37,42,36,39,36,50,40,38,39,38,36,39,38,39,36,39,47,41,37,39,40,42,38,47,38,43,46,48,37,36,39,36,39,39,36,48,45,36,36,37,50,38,40,37,40,39,38,39,37,37,36,36,40,37,37,47,38,38,38,42,37,43,37,43,45,40,43,39,38,38,36,44,39,41,36,50,36,42,49,41,36,41,39,45,40,50,43,41,48,36,39,37,39,43,39,41,37,41,48,38,36,38,39,36,36,37,49,39,36,36,42,42,42,39,36,44,41,36,37,37,38,40,47,38,42,39,37,40,36,36,44,40,39,44,40,44,37,36,40,40,38,36,41,37,36,42,40,37,38,45,50,41,36,36,36,39,37,46,38,36,40,38,38,37,44,36,39,37,39,37,43,40,36,36,42,36,39,48,45,36,39,38,50,45,43,47,40,42,48,36,38,39,36,37,43,41,37,44,36,38,40,37,36,37,37,38,45,48,37,38,38,48,48,38,43,40,42,39,36,40,37,48,44,50,36,36,39,36,36,45,42,36,37,36,40,45,36,38,36,37,37,45,40,36,41,39,37,37,36,39,43,38,36,36,39,48,36,41,40,39,37,36,37,42,36,39,36,43,36,47,36,36,37,40,39,36,41,37,47,41,36,36,45,36,39,36,40,47,36,40,38,38,45,37,38,37,39,48,36,36,42,42,46,41,42,49,45,42,39,50,37,37,37,37,41,36,38,36,38,41,43,47,36,44,37,42,38,36,37,43,37,42,39,42,45,36,37,45,46,37,38,39,38,36,40,42,42,37,40,38,45,36,39,48,40,42,36,36,41,41,39,38,38,37,39,49,46,43,36,37,44,37,43,44,36,44,36,38,38,41,46,40,49,39,42,38,45,41,40,37,43,42,48,47,37,44,44,49,37,36,36,38,37,37,36,36,41,48,42,44,39,37,39,38,48,36,36,42,49,41,42,49,41,38,37,36,42,36,37,37,37,42,46,44,43,38,40,44,36,37,43,41,40,37,39,38,38,37,37,36,45,38,39,42,41,43,48,36,37,38,45,42,39,49,46,37,46,39,45,42,43,36,41,40,39,39,39,37,43,37,42,36,41,46,39,42,40,40,43,42,45,40,42,36,36,41,50,39,39,36,37,39,41,39,42,40,37,36,44,42,41,44,38,40,36,37,36,37,40,36,39,45,42,38,42,36,36,40,46,37,41,43,40,48,50,37,39,50,36,36,37,37,36,38,41,47,37,36,39,40,36,47,50,43,37,40,37,41,38,44,40,43,41,38,37,36,39,37,44,37,44,41,36,42,36,37,40,44,41,38,36,40,37,46,49,49,36,41,40,39,43,41,39,40,39,42,42,38,42,37,37,45,38,43,36,42,38,36,42,40,65,53,58,54,66,57,51,62,53,54,66,60,54,55,52,61,52,62,51,52,51,54,70,55,52,52,51,60,53,51,55,60,57,51,53,58,60,63,55,51,56,52,66,58,54,52,53,52,61,53,64,52,62,55,55,61,57,70,54,65,61,52,60,53,60,55,51,54,52,57,60,52,65]},{\"axis\":{\"matches\":true},\"label\":\"loan_amnt\",\"values\":[35000,5500,35000,35000,2500,35000,35000,35000,1600,35000,4500,35000,35000,35000,35000,1750,34000,33950,33000,4575,32500,4000,2000,31050,2500,30000,30000,30000,30000,30000,2500,30000,30000,30000,30000,30000,30000,30000,10000,25000,29100,3000,28000,3000,28000,28000,6100,28000,4200,4750,28000,2700,28000,27600,3250,27500,27050,27000,27000,26000,25475,11900,25300,2000,25000,25000,3000,3650,35000,4500,2400,25000,25000,3600,4750,25000,25000,25000,25000,25000,25000,25000,25000,25000,25000,4950,25000,25000,25000,25000,25000,4500,25000,25000,25000,25000,25000,25000,25000,22000,7750,25000,25000,25000,4000,25000,25000,25000,25000,25000,25000,25000,25000,25000,3000,25000,25000,25000,25000,25000,20000,25000,4000,25000,6000,25000,25000,25000,5375,25000,25000,25000,25000,25000,25000,25000,25000,25000,25000,6250,25000,25000,25000,25000,20000,25000,25000,25000,25000,4000,10000,6000,25000,25000,25000,6200,4475,25000,25000,25000,25000,25000,4000,4600,25000,25000,25000,25000,3600,25000,25000,25000,3175,25000,25000,2800,30000,25000,25000,2500,5000,25000,25000,25000,3300,3200,24000,6000,25000,5600,3625,5500,5000,4375,24750,24750,10000,24250,24250,3900,24250,24250,24250,24250,24250,4750,6000,24150,24000,24000,24000,24000,24000,24000,24000,24000,24000,24000,24000,24000,24000,24000,24000,4975,24000,24000,24000,24000,24000,24000,24000,3000,24000,24000,24000,24000,24000,3500,4000,24000,24000,4900,5000,6250,24000,24000,24000,2500,24000,24000,13000,6250,24000,23975,23600,10000,23575,4000,5400,4000,3375,23400,23000,23000,23000,23000,23000,23000,3000,23000,22750,22500,3000,22500,22400,5000,22250,22000,22000,4200,22000,22000,22000,22000,3000,22000,22000,22000,3625,6000,7400,4000,22000,22000,3500,4950,21700,21600,21600,21600,21600,7000,3000,21500,21500,21450,21250,21250,21250,5000,21250,9250,21250,21250,21000,1400,3000,21000,21000,21000,4000,21000,21000,5000,21000,21000,21000,7500,6250,15000,20500,20375,20050,20000,20000,20000,20000,20000,20000,20000,20000,20000,20000,20000,20000,20000,20000,20000,20000,20000,20000,20000,20000,20000,20000,20000,20000,20000,20000,20000,20000,20000,20000,20000,20000,20000,20000,20000,20000,20000,20000,20000,20000,20000,20000,20000,20000,20000,20000,20000,20000,20000,20000,20000,20000,20000,20000,20000,20000,20000,20000,20000,20000,20000,20000,20000,20000,20000,20000,20000,20000,20000,20000,20000,20000,20000,20000,20000,20000,20000,20000,20000,20000,20000,20000,20000,20000,20000,20000,20000,20000,20000,20000,20000,3500,20000,20000,20000,20000,20000,20000,20000,20000,20000,1625,4500,20000,20000,20000,20000,20000,20000,20000,20000,20000,20000,20000,2000,20000,20000,20000,20000,20000,5875,1550,20000,20000,20000,20000,20000,20000,20000,20000,7125,3000,20000,8300,20000,3600,20000,19900,10000,1000,1000,1000,1000,1000,1000,1000,1000,1000,1000,1000,19000,19000,19000,19000,19000,19000,19000,19000,19000,19000,6000,18950,18800,18725,18550,18500,18500,18500,18500,18500,18500,18400,18400,5000,18250,18250,18250,18250,18250,18250,18250,18250,18250,18250,18250,18225,18225,18200,18200,18200,18200,18000,18000,18000,18000,18000,18000,18000,18000,18000,18000,18000,18000,18000,18000,18000,18000,18000,18000,5000,18000,18000,18000,18000,18000,18000,18000,18000,18000,18000,1375,18000,18000,18000,18000,18000,5000,18000,18000,18000,18000,18000,18000,3500,2800,18000,18000,17800,17750,17625,17600,17500,17500,17500,17500,17500,17500,17500,17500,17500,17500,5500,17475,17475,17000,17000,17000,17000,17000,17000,17000,17000,17000,17000,17000,17000,17000,17000,17000,17000,17000,17000,16950,16800,16800,16800,16800,3000,16800,16800,16750,16750,16750,16750,16750,16750,16750,16750,16600,16500,16500,16500,16500,16500,16500,16500,16425,16300,16250,16050,16000,16000,16000,6250,16000,16000,16000,16000,16000,16000,16000,16000,16000,16000,16000,16000,16000,16000,16000,16000,16000,12000,16000,16000,16000,16000,16000,16000,16000,16000,16000,16000,16000,16000,16000,16000,16000,4000,16000,6500,16000,1000,16000,16000,16000,4000,16000,16000,12000,16000,16000,16000,16000,16000,16000,16000,16000,1000,10000,1000,1000,8500,14500,1000,1000,17000,12000,1000,1000,1000,1000,1550,1000,1000,1000,1000,1000,7200,6000,2000,1200,1200,1000,1200,1200,1200,1200,1200,1200,12000,1300,1300,8000,1300,1325,1325,1325,1400,1400,3500,1400,1400,11500,6000,1450,1500,1500,1500,1500,3250,1500,1500,9500,1500,1500,1500,4500,1500,1500,5225,1500,1500,9000,1500,1500,1600,1600,1600,1675,1750,1750,1750,1750,1750,1750,1400,1800,1800,1825,1900,2000,2000,2000,2000,2000,2000,2000,2000,2000,2000,2000,2000,2000,2000,8875,11000,2000,2000,2000,5000,2000,2000,4750,2000,15000,15000,15000,15000,7125,15000,15000,15000,15000,10000,3800,15000,14900,14850,14800,1000,2000,17000,2000,2000,2000,2000,2000,2000,2000,2100,2100,2100,2100,2100,2100,2150,14000,14000,14000,14000,14000,14000,14000,14000,14000,14000,14000,14000,14000,14000,14000,14000,14000,14000,14000,14000,14000,14000,14000,2200,2200,2200,2200,2300,2350,2400,2400,2400,5000,2400,2400,2400,2400,2400,2400,2400,2400,2400,2400,2400,2400,2400,5000,4750,2400,8000,2400,2400,2400,2450,2500,2500,2500,2500,13500,13500,13500,5000,13475,6000,13475,13450,13400,13400,13350,13300,13300,13250,13250,13250,13250,13250,13250,13250,13225,13225,13200,15000,13200,13000,13000,9000,13000,13000,13000,12250,13000,13000,13000,13000,13000,13000,13000,13000,13000,13000,13000,13000,13000,13000,13000,13000,2400,13000,13000,13000,13000,13000,13000,1050,2500,2500,4750,2500,11225,2500,2500,2500,2500,2500,2500,2500,2500,2500,2500,2500,2500,2500,2500,2500,2500,2500,2500,2500,3250,2500,2500,2800,2800,2800,2800,2800,2800,2800,2800,2800,2800,2500,2800,2500,2900,3000,3000,3000,3000,3000,3000,1000,3000,3000,3000,3000,3000,3000,3000,3000,3000,3000,3000,3000,5000,3000,3000,3000,3000,3000,3000,3000,3000,3000,3000,3000,3000,3000,3000,3000,3000,3000,2000,3000,3000,2050,3000,3000,3000,3000,9000,3000,3000,3000,11200,3000,3000,3000,3000,3000,3000,3000,3000,3000,3000,1000,2500,12000,12000,12000,12000,12000,12000,2000,12000,7200,12000,6000,12000,12000,12000,12000,12000,12000,12000,12000,3000,5125,3000,3000,3000,3000,3000,3000,3000,3000,3000,3000,3000,3000,3000,6000,3000,9000,3000,3025,3050,3075,10000,3150,12000,3200,3200,3200,3200,3200,3200,3200,6000,3200,3200,3200,1450,3200,3200,3200,3200,11200,3200,3200,12800,3200,3200,3200,3200,7500,3250,3250,3250,3250,3250,3250,3250,3250,3250,3250,7400,18225,3400,3400,3400,12000,8875,3400,3450,3450,3500,3500,3500,3500,12000,3500,12000,3500,3500,3500,3500,3500,5775,3500,3500,3500,3500,8000,4800,3500,12000,10000,3500,13250,3500,3500,3500,6725,3500,3500,3500,3600,3600,3600,2200,3600,3600,3600,3600,3600,3600,3600,3600,3600,3600,4000,3600,11000,11000,11000,10000,9500,11000,11000,10000,1000,10000,7550,5000,9950,10875,10800,10800,10800,3000,10800,3000,10800,5500,10800,10800,10800,10800,10775,10775,10750,10750,10750,10750,10750,10700,10700,10625,10625,10625,10625,10625,10625,10600,10600,10600,10500,10500,10500,10500,10500,10400,10400,10375,10325,10300,10250,3600,3600,3600,7000,3600,3600,3600,6000,3600,10000,3625,3625,3625,3700,3750,3800,3800,3800,3800,3800,3825,1000,3825,4000,4000,8000,4000,4000,4000,4000,4000,4000,4000,4000,4000,4000,4000,15000,4000,4000,4000,4000,4000,4000,4000,4000,4000,4000,4000,4000,4000,4000,4000,4000,4000,4000,4000,4000,4000,8000,4000,4000,4000,4000,4000,10000,4000,4000,1750,4000,4000,6250,4200,13750,6000,4000,4000,4000,4000,4000,4000,4000,9000,4000,3250,4000,4000,12000,4000,4000,6000,3000,4000,4000,4000,4000,4000,4000,4500,4000,4000,4000,4000,4000,4000,4000,4000,4000,4000,4000,4000,12000,4500,5500,4000,4000,4000,4000,4200,4200,4200,4200,4200,4200,4200,4350,4375,4375,4375,4375,4400,4400,15000,4400,4400,4500,4500,4500,4500,4500,4500,4500,4500,4500,4500,4500,4500,4000,4500,4500,12250,4500,7000,4500,4500,4500,4500,4500,4500,7750,4500,4500,4500,10000,4600,4600,4600,5800,4725,4750,4750,4750,4750,4750,4750,4750,4750,10000,4800,4800,4800,4800,4800,9600,3000,4800,4800,2525,4800,15450,4800,4800,4800,4800,4800,4800,3600,4000,4800,4800,4800,5000,4800,4800,10000,10000,10000,10000,10000,10000,2400,3500,10000,4000,5000,10000,10000,9975,9975,9900,9875,9800,9800,9800,9800,11000,9800,6725,4900,4500,4950,4950,4000,4975,5000,5000,5000,5000,5000,10750,5000,5000,5000,14000,5000,5000,5000,7000,6000,5000,6000,5000,5000,5000,10000,13750,5000,5000,5000,5000,5000,5000,5000,5000,5000,5000,5000,5000,5000,5000,5000,5000,5000,5000,5000,5000,5000,1000,5000,5000,5000,5000,5000,5000,5000,5000,5000,5000,5000,5000,5000,5000,10000,5000,5000,5000,5000,6250,5000,5000,5000,5000,5000,5000,8500,5000,5000,7000,5000,4000,5000,16800,8000,16000,5000,5000,9000,10000,9000,7000,9000,2500,9000,9000,3600,9000,2500,15000,9000,8975,8950,8875,8875,8875,8875,8875,8875,8875,8875,8800,5000,5000,5000,4150,5000,5000,8500,8500,8500,8500,8500,8500,8500,8500,8500,8500,8500,8500,8500,8500,7000,8500,8500,8500,5500,8500,5600,5000,8500,8500,8500,8500,8500,8450,8400,5000,5000,5000,5000,5000,5000,5000,5000,5000,16000,5000,5000,5000,16000,5000,5000,8000,12000,5000,5000,5000,5000,5000,5000,5000,25000,4000,5000,5000,3250,5000,2800,5000,15250,5000,5000,6400,5000,5000,4650,14125,2400,9250,1500,5000,5000,5000,5000,5000,5200,5200,5250,5300,5300,15000,5325,5400,5400,5400,5400,5400,5400,8500,5500,5500,5500,5500,5500,5500,7000,5500,5500,7000,5500,5500,5500,5500,5500,5500,5500,10000,5000,6600,5550,5550,11500,5600,5600,5600,5600,5600,5600,5600,5600,18000,5600,5600,3200,5600,5600,19000,5700,5750,8325,5775,5800,1800,5825,10500,5875,5900,5925,5975,6000,6000,6000,6000,6000,6000,6000,6000,6000,6000,6000,6000,6000,2000,6000,6000,6000,6000,6000,6000,6000,6000,6000,18250,6000,6000,6000,3500,6000,6000,6000,6000,6000,6000,6000,6000,6000,6000,6000,19500,7000,6000,6000,6000,6000,6000,6000,6000,12000,6000,6000,6000,4000,10000,6000,3000,6000,6000,6000,6000,6000,6000,6000,6000,6000,6000,6000,8000,25000,9000,6000,6000,6000,6000,6000,6000,20000,2200,6000,15000,3500,6000,6000,6000,6000,6000,6000,6000,6000,6000,5400,10000,6000,6400,9800,6000,6000,6000,10000,5000,5000,11500,6000,6000,6000,6000,6000,6000,6000,22500,6000,6000,6000,6000,6000,6000,8500,7100,7100,7100,7025,7000,7000,7000,7000,7000,7000,7000,7000,7000,7000,7000,7000,7000,7000,7000,7000,7000,7000,2000,7000,7000,15000,7000,6000,6000,6000,15000,6000,5550,6000,12000,16000,6000,15000,6000,7500,6000,7500,7500,6000,6000,6000,9000,11000,6000,6000,6000,6000,6000,6000,6000,6000,6000,6150,10625,6200,6200,6200,6200,5000,6250,6250,6250,6250,6250,6250,6250,8000,7000,7000,7000,7000,7000,7000,4400,7000,11000,7000,7000,17000,9500,7000,7000,7000,6250,6250,7000,10000,6000,6300,29100,7000,6950,12000,12000,6300,6350,6500,6500,6500,6500,6500,19750,8000,15250,5000,6500,6500,6500,15000,9500,6500,5000,2000,6000,6600,5000,6600,6600,12000,6625,6625,6625,24000,6700,6700,6700,6700,16000,6750,6800,6800,6800,6800,6800,25000,6500,6475,6000,6450,6450,6400,6400,6400,6400,18000,6400,6400,6400,15000,6500,2250,18000,6400,6400,1400,6800,5000,6850,6900,16800,6925,3500,7000,7000,12000,7000,7000,7000,7000,9800,7000,12000,8000,7000,7000,7000,6000,7000,7000,7000,7000,15000,5000,7000,10000,7000,7000,7000,7000,7000,7000,18200,7000,11400,7000,7000,7000,2000,7000,7000,10000,7000,7000,13000,7000,5000,7200,7200,7200,7200,7200,7200,8000,7200,7200,15000,7200,5000,7200,10000,5000,20000,7200,7200,7200,6500,2500,7200,15250,16000,12000,7200,2100,4800,12800,7500,7350,7400,7400,7500,7500,7500,7500,7500,7500,7500,7500,7500,7500,7500,7500,7500,7500,6000,7500,12000,7500,7500,7500,7500,5500,7500,7500,7500,7500,7500,7500,7500,7500,12000,7000,7500,13000,12000,7500,7500,13000,4800,7500,7500,7500,7500,7500,7500,7500,7500,6500,7550,7550,14825,7600,7600,7600,7700,5000,7700,7700,7750,7750,7750,7750,7750,7750,7750,6000,5000,7750,7800,7800,7800,10000,7800,7800,7875,19200,3000,8000,8000,8000,8000,8000,8000,8000,8000,8000,6000,8000,10625,8000,5000,14400,8000,8000,25000,8000,8000,8000,8000,8000,8000,8000,8000,8000,8000,8000,8000,8000,8000,8000,8000,8600,8500,15000,8000,3600,8000,8000,21200,6300,8000,8000,8000,8000,8000,8000,8000,8000,8000,8000,8000,1500,8500,8000,4000,4800,8000,8000,5200,8000,8000,5000,8000,8000,10000,8000,8000,8000,8000,6000,12000,8000,8000,8000,8000,8000,8000,8000,8000,8000,8000,8000,8000,8000,8000,8000,8000,10000,8000,7500,7750,6000,8000,8000,8000,16000,8000,8000,10000,8000,8000,8000,8400,8000,12000,8000,8000,8000,5200,5000,5200,12000,5175,5175,5125,5050,5000,5000,5000,5000,5000,5000,5000,5000,5000,5000,10000,5000,22750,5000,5000,5000,5000,5000,4000,12000,5000,5000,5000,5000,5000,5000,5000,5000,5000,5000,5000,5000,1500,5000,10000,16000,5000,5000,5000,8000,5000,5000,5000,7500,5000,5000,5000,5000,9525,8000,5000,5000,9000,5000,6000,5000,5000,5000,10000,10000,7000,8000,15250,6000,7200,9600,25000,5000,5500,8000,8000,8000,8000,8000,8000,8000,2000,10000,8000,18000,8000,15000,8000,8000,8000,6000,15000,8000,8000,12000,8000,8000,8400,25000,8000,8000,8050,8125,8150,8250,8250,8300,8300,10000,15000,8400,8400,8400,8400,8400,8400,8400,6500,8400,8400,8500,8500,8500,8500,9925,8550,8575,16500,8600,8700,9000,9000,9000,9000,9000,9000,9000,9000,9000,9000,9000,25000,7200,9000,9000,9000,9000,9000,9000,9000,9000,9000,9000,9000,9000,23500,9000,9000,3000,9000,9000,9000,9000,5000,9000,8000,9000,9000,4900,5000,9100,9200,9200,9200,3600,25000,9250,9250,9250,9250,9250,9250,9250,9250,9250,9250,9250,9250,9800,9375,20000,20000,9400,9450,9450,9450,9450,9500,9500,9500,9500,9500,9500,9500,9500,12000,12000,9500,15000,6800,19750,9500,9500,9600,9600,9600,9600,9600,9600,9600,9600,9600,9600,9600,9600,9600,9600,9600,6000,21000,1275,9600,5000,8000,9600,9600,14000,9600,9600,9600,9600,15000,5600,9600,10000,9600,9600,9700,18000,9950,10000,10000,10000,10000,10000,10000,10000,10000,10000,10000,10000,10000,10000,10000,10000,10000,10000,10000,10000,10000,10000,10000,10000,10000,10000,10000,10000,10000,10000,18000,10000,10000,10000,25000,10000,10000,10000,2500,10000,10000,3500,10000,10000,4000,19600,10000,10000,10000,10000,10000,10000,10000,10000,10000,10000,10000,10000,10000,10000,10000,10000,10000,10000,1700,10000,10000,10000,10000,10000,10000,10000,8000,26400,10000,10000,10000,10000,10000,10000,10000,10000,10000,10000,10000,10000,10000,10000,10000,10000,10000,10000,10000,10000,10000,10000,10000,10000,10000,10000,10000,10000,20000,10000,10000,7500,9000,10000,4000,10000,10000,10000,10000,10000,10000,10000,4000,10000,10000,10000,10000,10000,6000,10000,25000,12000,10000,2500,14000,20000,10000,10000,10000,10000,10000,10000,10000,10000,16000,10000,10000,10000,6100,9000,10000,4000,14400,10000,10000,12000,14500,10000,10000,10000,10000,10000,6000,10000,10000,10000,7000,5000,10000,10000,10000,10000,10000,10000,4200,4200,4200,4200,4200,8000,4200,4200,4200,2500,2900,6000,4200,4200,7400,4100,4050,4000,4000,4000,10000,10000,10000,6000,10000,10000,4000,5650,10000,10000,10000,10000,4900,10000,10000,18000,10000,10000,10000,10000,12000,10000,15000,10000,10000,10000,30000,10000,10000,22000,10000,12000,10000,4500,10000,5000,6500,25000,20000,25000,10000,10000,10000,15000,10000,15000,10000,10000,17500,10000,10000,10000,9800,4000,5300,10000,10000,10000,10000,10000,10000,10000,15000,4000,14400,4000,17000,4500,6200,10000,10000,15000,10000,10000,10000,14000,5200,10000,10000,25000,10000,10000,9250,10000,15000,10000,17500,5000,10000,10000,25000,10000,10000,4900,10000,25000,2500,7000,10000,10000,10000,10000,20000,25000,15000,3400,20000,14500,10000,6000,35000,10000,10100,3200,5000,20000,5000,2400,11000,11000,11000,11000,11000,11000,11000,11000,11000,11000,11000,11000,11000,14000,10000,11000,11050,11100,8500,11100,11200,11200,11200,11200,12000,19000,11200,20000,13500,15000,16000,5900,10000,11300,7500,11325,11325,11400,2000,11400,18300,11500,20000,11500,11500,11500,15000,11000,18000,11550,11700,4000,11750,11800,11850,11900,12000,25975,12000,12000,12000,12000,12000,12000,12000,12000,12000,12000,12000,12000,12000,12000,12000,12000,12000,12000,12000,12000,35000,12000,12000,24000,12000,19000,2100,12000,12000,16800,12000,12000,12000,12000,12000,12000,12000,12000,12000,12000,12000,12000,12000,12000,12000,12000,12000,10000,12000,12000,12000,12000,12000,12000,12000,12000,12000,12000,12000,8825,12000,12000,24250,12000,12000,12000,12000,12000,10000,12000,12000,12000,12000,12000,12000,12000,12000,12000,25000,12000,12000,12000,12000,12000,12000,15000,7500,11200,25000,25000,12000,5000,7500,20000,25000,12000,12000,6000,12000,7200,7000,12000,9750,12000,16000,12000,7200,10800,3000,22000,3000,3000,1700,15000,8000,12000,7000,12000,12000,12000,5600,12000,6000,12000,12000,4000,12000,12000,14400,10000,25000,3000,3000,3000,5400,3000,3000,12000,12000,25000,6000,12000,9325,12000,20000,15000,12000,12000,12000,12000,14000,3000,8000,12000,12000,9000,3500,35000,8000,12000,8000,15000,12000,12000,12000,12000,15000,7200,15000,5000,12000,12000,14500,12000,24000,12000,30000,14000,25000,12000,20000,14000,12200,12250,12250,12250,12250,12250,12250,12250,12250,12250,12250,12250,6000,12250,12250,12300,12300,12300,12400,12450,12500,15000,12500,12500,12500,2800,2800,2800,2800,2800,2800,2800,15000,19500,2750,3000,8000,15250,2700,10000,2700,9000,1200,11000,2700,16000,5000,2600,2600,15000,11200,6500,15000,2525,2500,25000,12500,2500,2500,2500,2500,8000,2500,7500,2500,2500,6000,10000,2500,12500,10000,12500,12500,16000,12500,12500,12600,9600,22000,12700,10000,12750,12800,12800,12800,12800,12800,12800,12800,12000,15000,12800,12875,12875,12875,13000,13000,13000,28000,13000,24175,13000,20000,5000,15000,10000,6000,13000,13000,13000,16000,21600,13650,5000,13650,25000,13750,13750,3500,15000,16500,14000,14000,2125,14000,14000,35000,14000,14000,14000,14000,24000,3500,5000,14000,24000,18000,20000,4800,15000,7000,8000,14000,20000,8400,14000,14000,1000,7700,24000,10000,25000,14000,14000,14000,25000,14075,14075,14100,25000,14125,14125,15000,6400,14125,17000,1950,14000,14400,6000,14400,14400,14400,14400,25000,14400,14400,14400,14400,15000,14400,19200,14400,5000,25000,15000,1200,14400,14500,2500,14500,14500,14500,14500,14500,14500,14500,14500,14500,14500,14500,14500,14500,14500,14500,14500,14500,14500,25000,14575,14575,14600,14700,15000,15000,15000,25000,15000,15000,15000,15000,15000,15000,24000,15000,15000,15000,19800,15000,15000,10000,2000,2000,14000,15000,15000,15000,2000,2000,2000,28000,16000,2000,2000,2000,2000,25000,25000,25000,2000,5000,25000,15000,15000,15000,15000,15000,15000,15000,9000,15000,15000,2500,15000,15000,15000,7500,15000,15000,15000,15000,15000,15000,15000,15000,15000,15000,15000,15000,15000,15000,2750,9000,15000,15000,15000,15000,15000,15000,15000,12000,20000,7000,15000,25000,15000,15000,15000,15000,25000,15000,20000,15000,15000,15000,15000,15000,15000,15000,15000,15000,15000,15000,15000,15000,15000,15000,14000,16750,15000,15000,15000,15000,15000,15000,15000,15000,15000,25000,1800,25000,1800,21600,15000,15000,15000,24000,15000,15000,15000,15000,15000,15000,15000,15000,15000,15000,15000,10000,15000,10000,15000,5000,15000,15000,10000,15000,4000,15000,1600,16000,1600,1600,1600,18000,1600,1600,25000,1550,1500,12000,1500,8475,1500,25000,1500,20000,1500,16000,1500,1500,35000,1500,5000,12000,15000,15000,15000,10000,15000,15000,15000,15000,19750,15000,6000,15000,6950,24000,20000,12000,15000,5000,15000,30000,15000,15000,15000,15000,1000,15000,15000,8000,15000,25000,11600,15000,15000,24000,15000,24250,24000,15000,5000,15000,18000,15000,15000,15000,15000,10000,10000,15000,1500,15000,9000,3000,6800,4800,7500,5000,25000,15000,25000,15000,15600,15000,6000,3300,4500,12000,7200,15000,15000,15000,18000,15075,6500,15200,15200,24250,15250,15250,15250,15250,15250,5500,17600,20000,15450,15450,15600,15600,7500,25000,15625,15650,10000,20000,15850,15850,4000,16000,12000,2500,16000,16000,16000,25000,16000,25000,12500,16000,3000,30000,30000,25000,6500,19000,19075,15000,19200,19200,8000,2500,7000,25000,25000,12000,4500,19400,19400,19550,19600,19600,19650,19750,19750,2000,2100,1000,2950,1500,2375,3200,4000,2100,19750,1750,3000,2000,1400,2000,1500,3500,2400,3000,2100,2800,3250,5400,1200,2500,1050,1600,1000,1000,1800,1200,2400,2750,1400,6600,16000,12000,16750,5500,3000,10000,15000,4800,7100,2500,3000,6000,9250,1500,2400,15000,16000,1500,5600,10000,5000,4500,15000,8000,4900,8000,3500,7000,30000,8000,1450,5000,9600,10000,6000,10000,6250,20000,7500,14575,12000,8500,10000,30000,5000,1000,12000,3200,10000,5200,8400,10000,25000,12875,15000,11000,4750,4000,3200,1000,4000,7000,7000,18950,2200,16000,13500,20000,15000,10000,5000,20000,8800,18500,18225,3600,10000,7550,21000,1500,20000,2000,5000,4200,7500,25000,12000,5000,8000,9600,15000,10000,25000,3000,7000,10000,2800,19000,20000,6500,10000,5400,20000,4200,3250,7000,5800,8000,7500,8000,10000,14000,15000,24000,19800,35000,6500,8575,4600,14500,7000,3000,2500,5000,17500,18000,14075,4000,5000,2800,4000,3600,3200,5600,1825,10000,25000,2800,2500,6400,4000,3000,8000,2000,14000,6250,16000,13200,8500,4000,15000,5000,7000,30000,2100,25000,25000,14400,7500,25000,5000,3500,13750,8000,10000,4000,25000,12000,20000,10000,7500,2000,5000,3200,25000,12000,16500,16000,15000,16800,5000,20000,2100,25000,13000,3900,7000,16800,5000,10000,6000,14000,14000,8875,7000,9500,1200,20000,15000,6500,5400,16000,12800,2000,2100,22800,6000,6600,7200,25000,3500,6000,12000,12000,9600,21250,3000,3200,12000,6100,1000,12000,10000,15000,20000,12250,19000,5000,12000,12000,8000,10000,4000,10000,3250,2500,3500,15000,10000,4000,7000,8500,15000,9975,13000,9000,5000,3000,6000,4000,6200,10625,5000,15000,5500,15000,5000,7500,6800,20000,8000,15000,4000,23600,10300,6000,27000,2000,12000,25000,5200,18500,20000,5000,7000,5000,15000,2000,4750,5000,20000,13750,5000,3000,9000,25000,15000,3600,24000,10800,17500,4000,2900,19750,3000,3000,3800,15000,20000,14850,7000,1000,12000,5000,10000,20000,13000,12000,5000,1375,16000,7400,8400,20000,4500,8000,10000,2500,16000,4500,10000,10625,1500,19000,5000,9000,25000,22500,14000,6000,4500,12000,1500,15000,7000,16000,19500,1000,9600,5000,5550,20000,8000,2500,8000,9000,13000,13000,8500,24000,10000,20000,15000,35000,15000,20000,10000,5000,2500,6700,8875,7500,2200,6000,13250,6000,3600,4750,6800,12000,3000,3200,15000,17000,20000,3600,7200,7000,5000,6800,10000,10000,5975,7000,18250,12000,10000,20000,7500,21000,6500,9000,4000,25000,25000,2500,7500,5325,3000,6200,2500,15450,24250,12000,10000,9000,7750,9100,7000,2800,7750,13500,11000,8875,12000,14400,15000,12000,3000,30000,12000,7500,3000,25000,9250,13200,12000,35000,35000,3250,35000,35000,10000,35000,35000,35000,35000,5500,3750,4750,35000,2400,35000,35000,34000,2150,24000,15000,32000,2325,32000,30750,30000,30000,30000,30000,8000,25000,25000,25000,3000,30000,35000,29700,29000,28800,2000,12000,28000,3250,25000,4500,28000,8125,35000,20000,26000,25475,25000,25000,25000,25000,25000,25000,25000,25000,15000,25000,25000,6700,25000,25000,25000,25000,25000,25000,5000,25000,25000,25000,25000,25000,25000,25000,25000,25000,25000,25000,25000,25000,25000,25000,25000,25000,25000,25000,25000,5550,25000,25000,25000,12000,25000,25000,25000,11200,28000,25000,25000,25000,25000,9250,5000,4375,20000,10000,15000,24000,5000,25000,2000,4000,25000,25000,4000,3700,25000,25000,16000,6000,4000,12000,10200,3800,25000,5900,25000,6250,25000,25000,6400,25000,3000,7275,25000,6000,25000,25000,5750,20000,22200,9000,25000,25000,25000,3000,2400,24625,24250,24250,24250,5000,5000,15000,24250,3200,24250,24250,24000,24000,24000,24000,4000,24000,24000,24000,5000,24000,24000,24000,2200,24000,24000,24000,4750,24000,23850,23500,23500,23500,6350,23000,23000,22950,22750,22750,22650,22500,22400,22400,22400,22000,22000,7800,21725,6000,21600,21500,6000,21000,21000,21000,4750,21000,21000,21000,21000,21000,21000,21000,21000,20500,20500,20500,20500,20400,20200,20050,20000,20000,20000,20000,20000,20000,20000,10000,20000,20000,20000,20000,20000,20000,20000,20000,20000,20000,20000,20000,20000,20000,20000,20000,20000,20000,20000,20000,20000,20000,20000,20000,20000,20000,20000,20000,20000,20000,20000,20000,20000,20000,20000,20000,20000,20000,7750,20000,20000,20000,20000,20000,20000,20000,5725,20000,20000,20000,20000,20000,20000,20000,20000,20000,19975,19850,19775,900,1000,1000,1000,1000,1000,1000,19000,19000,19000,19000,19000,6100,18950,18825,18800,18500,18500,18500,18250,18000,18000,18000,18000,18000,18000,18000,18000,18000,18000,18000,18000,18000,18000,18000,18000,18000,18000,18000,18000,17975,17725,17625,17500,17500,17500,17500,4800,17475,17475,17400,17250,17200,17000,17000,17000,17000,17000,17000,16750,16750,16750,16750,16750,16450,16425,16400,16200,16200,16200,11200,16000,16000,16000,16000,16000,16000,16000,16000,16000,16000,16000,16000,16000,16000,16000,16000,16000,16000,16000,16000,16000,16000,16000,16000,16000,5000,16000,16000,1000,12000,15000,4000,1000,6000,1000,1000,1200,1200,1200,11500,1200,1200,1250,2000,2250,1500,1500,1500,1500,1500,1500,1500,6000,1500,1500,1600,1600,1875,1925,2000,2000,2000,2000,2000,2000,7000,15000,15000,15000,15000,15000,14975,14800,14750,14700,2000,2000,2000,2000,4000,2000,10000,2050,2100,2100,2100,14000,14000,14000,14000,14000,14000,14000,14000,14000,14000,14000,14000,2200,2200,2200,2200,2250,2250,2300,2400,2400,2400,2400,2400,2400,2400,2400,2400,2400,2400,11225,2475,2500,13575,1400,13500,13450,13425,13350,13275,13250,13250,13250,8000,13250,13200,13200,13200,2400,13150,13075,13000,13000,13000,13000,13000,13000,13000,13000,13000,13000,13000,13000,13000,13000,13000,2500,2500,14000,7000,2500,2500,2500,2500,2500,8575,2500,2500,12000,3100,1000,2500,2500,2500,2500,2500,2800,15000,2850,2875,3000,3000,3000,3000,3000,3000,3000,3000,2500,3000,3000,3000,3000,3000,3000,3000,3000,3000,3000,3000,3000,3000,3000,3000,3000,3000,3000,3000,3000,3000,3000,3000,3000,3000,3000,3000,9000,12000,12000,12000,12000,10000,12000,12000,12000,4500,3000,3000,3000,3000,3000,3000,3000,3000,3000,3000,3050,3100,3150,3200,3200,3200,3200,3200,3200,5600,3200,3250,3250,3250,3250,3250,3300,3300,3325,3400,3500,3500,3500,3500,3500,1100,4400,3500,3500,3500,5350,3600,3600,3600,3600,3600,3600,9000,3600,3600,11000,11000,11000,11000,11000,11000,11000,11000,10800,10800,10800,10800,10800,10800,10000,10800,10750,10750,10750,3000,10625,10625,8875,10625,10625,13000,5000,13000,10500,10400,10400,10400,10400,12000,10400,3000,10275,10200,3600,3600,8000,3600,1700,3600,3600,3675,3700,3700,3800,3975,4000,4500,4000,4000,4000,4000,4000,4000,10750,4000,4000,4000,4000,4000,4000,4000,7500,4000,1200,4000,4000,4000,4000,4000,4000,4000,4000,4000,5600,4000,4000,4000,4000,4000,9000,4000,4000,4000,4000,4000,12000,4000,4000,4000,9000,4000,4000,10000,8000,10200,8875,4000,4000,4000,4000,12000,4200,4350,4350,4400,4475,4500,7500,4500,4500,3700,2500,4500,3500,4500,4500,4500,4500,4500,4500,4575,4650,4750,4750,4750,4750,4750,4800,4800,4800,6000,4800,4800,6000,4800,4800,6125,4800,4800,4800,6250,4800,4800,4800,4800,4800,6000,8000,10000,2800,10000,10000,10000,12500,9950,9925,9800,16000,9750,9750,4900,4900,5000,5000,8000,5000,5000,15200,5000,6825,5000,15450,5000,5000,5000,5000,5000,5000,5000,5000,5000,5000,5000,5000,5000,5000,5000,5000,6000,5000,5000,5000,5000,12700,5000,9000,9000,9000,9000,9000,9000,10000,9000,9000,14000,9000,12000,9000,9000,6000,9000,8875,8800,5000,5000,5000,4000,5000,5000,5000,5000,5000,8500,8500,8500,8500,8500,8500,2200,5000,8500,3000,8500,8475,3375,5000,5000,5000,5000,5000,5000,22000,5000,5000,5000,5000,10000,5000,5000,5000,12000,2800,5000,5000,5000,15000,2500,14500,10000,5000,9500,5275,5375,5375,15000,5400,5425,4800,5500,5500,2000,5500,3800,5500,5500,3200,5600,5600,5600,5600,5600,7600,5600,5800,4500,5800,6000,5800,5500,5000,6000,6000,4000,6000,6000,1200,6000,2850,6000,6000,6000,6000,6000,6000,6000,6000,21000,6000,10000,6000,6000,6000,6000,6000,6000,6000,13200,6000,6000,6000,6000,6000,15000,13200,6000,6000,6000,6000,6000,6000,6000,6000,7000,6000,6000,6000,6000,6000,6000,6000,6000,4500,24000,4000,6000,6000,7125,7025,7000,7000,7000,7000,7000,7000,7000,7000,7000,6000,10000,12000,4500,6000,6000,6000,6000,10000,6000,2600,15000,4000,2000,6075,5000,6125,10800,6200,8000,6225,6250,7000,10000,6000,7000,7000,7000,7000,14300,6250,8000,7000,7000,7000,6300,4800,6500,6500,6500,6500,6500,6500,4000,8725,6500,6500,11000,6500,6525,6575,8000,6600,6600,6625,6000,23000,6800,25000,7750,6800,10000,6400,13000,6400,6400,7000,5000,6400,6400,6400,6400,6400,5000,8000,7000,7000,7000,7000,7000,1200,7000,7000,8500,7000,7000,7000,8025,7000,7000,11500,16000,7000,19750,7200,7200,7200,7200,7200,7200,7200,7200,7200,7200,15000,7500,4750,6000,7250,10000,7400,7450,8400,7500,7500,7500,7500,7500,7500,7500,4000,7500,10000,7500,7500,7500,7500,7500,4775,7500,10000,7500,7500,20400,7500,1200,15000,2100,7500,13650,12000,7500,7500,3000,7600,7600,7650,7725,7750,7750,7750,8875,7800,10000,21600,7950,7950,8000,8000,8000,8000,8000,8000,8000,8000,8000,8000,8000,8000,8000,8000,5000,8000,8000,8000,8000,8000,8000,8000,8000,8000,8000,10000,8000,8000,8000,8000,8000,32000,8000,8000,8000,8000,8000,7500,8000,8000,20000,6000,8000,8000,8000,8000,12000,8000,15000,8000,8000,8000,5000,8000,12000,6500,8000,16000,25000,5175,5000,5000,5000,5000,14800,5000,5000,5000,5000,5000,5000,5000,5000,5000,14800,5000,5000,5000,5000,15250,19400,24000,5000,5000,5000,5000,5000,20000,5000,16750,5000,5000,16000,5000,8000,5000,8000,8000,10000,8000,8000,8000,8000,10000,5050,25000,8000,8000,8500,4000,16300,8325,8325,8400,8400,2600,8400,8400,9000,8400,10000,8400,8400,8400,17000,2000,8500,8500,8525,8575,8600,8700,8700,16000,9000,15000,9000,15000,9000,9000,9000,9000,5000,9000,12000,17000,9000,3000,9000,9000,9000,8000,9000,9000,9000,9000,9175,3500,9250,9250,9250,9250,9250,9250,9250,9250,9300,9325,9325,9450,20000,9450,9500,18000,12000,9500,10000,9575,15000,9600,9600,9600,9600,9600,8000,9600,7750,9600,9600,6000,3000,9600,9600,6500,25000,2000,8400,9600,9600,9600,9750,14000,9750,9750,9750,9950,10000,10000,6800,10000,10000,10000,15000,10000,10000,10000,10000,10000,10000,10000,10000,15000,10000,10000,10000,10000,10000,10000,10000,10000,10000,10000,10000,10000,10000,10000,13000,10000,10000,10000,10000,10000,10000,10000,10000,10000,10000,3800,10000,10000,10000,9000,10000,10000,10000,10000,20500,11200,10000,10000,4800,10000,12000,10000,10000,3000,10000,10000,10000,18000,15000,27050,23500,10000,6000,5000,10000,25000,10000,5000,10000,10000,11000,5100,4250,4200,4200,10000,6000,10000,15000,24000,19400,4000,4200,4200,4200,4200,4200,4100,4075,4000,2400,10000,10000,12000,10000,10000,11200,2000,10000,10000,10000,10000,10000,10000,8200,12000,10000,10000,15000,16000,10000,1000,10000,10000,10000,10000,8000,10000,18000,4000,30000,4050,25500,10000,4000,20000,10000,15000,3000,10000,10000,25000,12000,10000,8500,7500,14000,25000,10000,10000,9600,10000,17000,9000,17000,10000,3025,20000,10000,25000,5000,10175,10200,11000,10000,11000,25000,11000,11000,9000,11100,13000,12000,11175,11200,11200,11200,11200,11200,11200,5000,11200,20000,11200,15000,7500,11200,11200,11200,11325,11400,11450,10500,11500,11500,11500,11500,11500,11500,11500,11500,11500,10000,11700,11700,11750,11975,12000,12000,10000,12000,12000,12000,12000,12000,12000,12000,12000,12000,12000,12000,12000,12000,12000,12000,12000,12000,12000,1500,12000,12000,12000,12000,12000,12000,12000,12000,12000,12000,12000,3000,12000,12000,12000,12000,12000,12000,12000,12000,12000,12000,12000,12000,12000,12000,12000,12000,18000,12000,12000,12000,2750,8000,7000,12000,12000,12000,12000,20000,12000,12000,12000,12000,12000,7500,25000,4400,12000,25000,12000,20000,20000,12000,5000,12000,3000,3000,3000,3000,3000,6775,3000,22000,25000,12000,15600,5000,12000,18000,3600,12000,7500,3000,3000,3000,20000,16000,4750,18000,12000,12000,21000,10000,12000,13650,25000,10000,5000,12000,3000,12000,14000,12000,8000,20000,5000,5000,15000,12000,23000,15000,15000,10000,12000,12000,12000,12000,12000,12000,35000,12000,12000,12200,12250,12250,12250,12250,12250,10000,12325,12350,12500,12500,12500,2800,2800,24000,20000,2800,5000,24000,2750,20000,2725,2700,2700,12000,12000,18000,25000,9000,10000,2650,2600,13000,9000,2600,25000,2600,2600,2575,12500,2500,2500,24500,2500,2500,2500,17500,12000,12700,12750,12800,12800,12800,25000,12800,13000,13000,18000,13000,13000,13000,10000,15200,13000,13600,3000,8000,13650,13650,13750,13750,13800,13800,8000,14000,14000,14000,14000,20000,25000,14000,20000,14000,14000,14000,14000,14000,14000,14000,14000,10000,25000,14000,14000,14000,15000,20000,23000,3600,14000,16000,18000,4800,10000,15000,14000,5000,14000,17600,20000,16000,14000,14000,14125,14125,14125,10000,14125,14125,14125,14150,15000,14300,14300,14400,14400,20000,14400,14400,18000,14400,14400,4800,7750,14500,14500,14500,14500,14500,14500,14500,24000,12750,14500,14600,24000,8400,15000,15000,15000,15000,15000,15000,15000,15000,25000,3000,15000,7500,8275,15000,15000,9000,35000,5200,7925,10000,2000,2000,12000,2000,15000,15000,15000,15000,15000,5000,15000,15000,15000,15000,15000,15000,15000,15000,15000,15000,15000,15000,25000,15000,15000,15000,15000,15000,15000,15000,15000,15000,15000,7200,20000,15000,33000,15000,15000,15000,15000,15000,15000,15000,20000,15000,15000,15000,15000,15000,1800,24000,15000,15000,24000,15000,15000,15000,15000,15000,15000,8400,15000,10000,4925,35000,20000,25000,1600,1600,25000,25000,1600,1600,1600,15000,1600,24500,2225,25000,24625,1500,20000,15000,25000,15000,12500,1500,1500,1500,1500,30000,15000,13200,15200,15000,25000,25000,30000,15000,15000,15000,30000,20000,5000,3500,25000,12000,15000,35000,15000,15000,25000,8875,15000,25000,15000,15000,25000,30000,10000,14000,12000,12000,25000,15000,15000,10000,15000,23000,22000,15000,22350,5000,35000,14400,12325,35000,18500,3000,25000,15000,12800,5000,15000,25000,15000,15000,20000,35000,8000,7775,2400,15000,15000,35000,15000,10000,15000,16000,4700,15000,7000,25000,3500,15000,23975,24000,15050,15075,8400,3500,8275,25000,7000,10000,15500,28000,25000,20000,10000,23100,16000,16000,16000,15000,3500,10000,2400,16000,15000,16000,10000,15000,3600,35000,19000,35000,25000,19200,25000,9000,19200,24000,18000,25000,25000,14000,7200,19600,19600,25000,2600,1800,1500,3000,4500,3000,2500,4750,4000,2200,3250,1200,8000,20000,1500,5000,3000,6000,11000,8000,15000,9600,25000,6000,25000,5000,25000,11000,6000,12000,8000,11975,12000,2000,6000,7000,3700,5400,20000,20000,4500,10000,11500,8400,5000,15000,3500,3000,25000,4000,25000,2000,9000,32000,13350,2150,7500,10800,15000,8000,9000,20400,11200,6000,15000,5000,12000,14400,4000,2500,2800,7500,25000,2000,25000,25000,20000,10000,5775,8325,10175,20000,5000,15000,15000,15000,3000,6525,16750,4750,35000,12000,14000,4400,8000,12800,12000,25000,6000,5000,15000,9575,7400,3400,20000,21000,18500,33000,15000,18000,10000,4000,9000,2600,1500,22000,10000,12000,12000,15000,35000,10200,15000,3250,9250,4000,7000,35000,16000,21000,3150,6700,14750,2400,13000,12000,22950,6000,10800,14150,2100,5050,5000,12000,15000,19775,10000,10000,8700,10000,14500,10750,14000,7500,25000,28000,9000,2400,10000,2400,16000,8000,7200,2600,12000,14800,8000,12000,14800,5000,20000,3600,20200,23975,19200,5000,20000,18500,8875,1400,10000,8000,5000,1500,25000,25000,3000,5000,16000,5000,6400,6000,13650,15000,10000,8400,16000,5000,35000,4000,5000,2725,9600,10000,10000,7000,6600,11200,17000,4800,25000,18000,15000,19000,20000,2400,12000,15000,7125,5000,24250,4000,2000,10000,20000,13275,25000,20000,17725,12000,1000,6400,7000,12000,20000,1500,7600,2750,14000,8575,8400,12000,20000,4800,16200,5000,9000,5000,18825,10000,10000,15075,8000,3600,18000,11450,35000,35000,35000,20000,35000,35000,35000,35000,32400,30600,30000,1950,30000,4800,28000,2000,25000,26000,25000,25000,25000,25000,25000,25000,25000,25000,7000,20000,3500,24000,25000,25000,25000,5000,5000,25000,25000,25000,25000,25000,4000,25000,25000,3300,24250,24250,10000,24250,3000,24250,24000,4375,24000,24000,5875,3975,2800,4375,24000,24000,3000,23800,23500,23500,23000,22400,22250,22000,22000,22000,22000,7000,21250,21000,21000,21000,6000,20500,20000,20000,20000,20000,20000,20000,20000,20000,20000,20000,20000,20000,20000,20000,20000,20000,20000,20000,20000,20000,20000,1000,19000,7750,18225,18200,18200,18000,18000,18000,18000,18000,18000,18000,17000,16500,16000,16000,16000,16000,16000,16000,8700,16000,16000,10300,1000,6000,1200,6000,1500,1500,6250,1500,1500,3075,1500,1700,1800,1950,2000,2000,14725,2000,2000,2000,2000,2200,14000,2225,2400,2400,2400,7200,2400,13475,13000,13000,2500,2500,2500,2500,2950,3000,3000,3000,3000,3000,3000,3000,3000,12000,3000,3000,4000,3500,4500,3550,11000,11000,11000,10825,10800,10800,10625,10500,12000,3600,3700,3800,3800,10000,3850,4000,4000,4000,4000,4000,4000,4000,4000,4000,4000,12000,4000,4000,4200,8000,4400,4400,4500,4800,4800,4800,10000,10000,4000,9975,9925,9900,5000,5000,5000,15000,5000,3000,5000,5000,5000,5000,9000,9000,9000,8875,8800,5000,5000,8500,8500,8500,5000,5000,5000,5000,1800,5000,5400,5400,5500,8000,5500,5600,5600,5800,3000,6000,6000,14400,6000,6000,6000,6000,6000,6000,6000,6000,6000,6000,5000,6000,9400,1800,6000,6200,7000,7000,7000,5350,6950,2800,6600,6700,4900,9000,1500,7000,7000,24250,7000,7000,7150,7200,7200,4000,8000,12600,7500,7500,10000,7500,7500,7500,7550,7550,7000,7675,7750,1500,16000,8000,10000,8000,8000,8000,8000,8000,8000,8000,3500,8000,8000,8000,8000,25000,8000,5000,8000,8000,7750,5075,6000,5000,5000,5000,10000,6000,5000,25000,7000,8000,8000,8000,8000,15000,6200,1500,8400,8400,8400,8550,9000,16000,9000,9000,9000,22000,15000,12000,9000,9200,9250,9450,9500,9500,9500,9600,15000,6000,13000,9750,10000,10000,10000,10000,10000,16000,10000,10000,9975,10000,10000,10000,10000,10400,10000,10000,10000,10000,10000,10000,10000,10000,10000,10000,10000,10000,4800,6800,8750,4200,25000,10000,10000,4000,10000,10000,2000,10000,6100,25000,8000,15000,10000,9600,7000,4000,10000,10000,10000,10000,10000,10000,10000,10000,10000,12000,10000,13200,15000,11000,11000,11100,11300,11500,7500,10000,11525,3000,12000,12000,12000,12000,12000,12000,12000,12000,25000,12000,12000,12000,10250,10000,9600,15000,30000,12000,12000,3000,3000,3000,3000,8000,6250,12000,15600,4800,12000,16000,12000,15000,5600,12375,7000,9600,20000,2775,9000,2500,7000,8400,13000,24000,2800,12000,13600,3100,13750,13750,13775,14000,14000,14000,14000,6000,14000,7750,14000,14400,14400,14500,14525,7500,23000,2000,15000,15000,10000,25000,15000,15000,15000,15000,30000,25000,15000,15000,15000,15000,15000,6000,12000,30000,20000,20000,8400,5000,14400,1600,1500,1500,1500,24000,15000,10000,7750,24250,9600,25000,15000,2500,15000,15000,15000,20000,15000,4500,10000,20000,25000,15175,15200,15250,11375,15600,15775,25000,23000,35000,16000,8000,9400,19200,25000,35000,19275,24000,15000,19425,24000,19750,19750,3250,19750,2500,1600,1300,2000,5000,7000,7000,22000,10000,2000,5000,7000,12000,25000,20000,6200,4375,4000,8000,9000,1500,24000,10625,8000,3000,4000,15000,11375,13775,25000,5000,5000,10000,20000,13000,20000,6000,4000,24000,3000,2775,10000,18200,12000,4000,8000,10000,5000,35000,9975,11000,5000,3000,9925,18000,10000,30000,2400,10000,20000,12000,20000,8500,9000,15000,1200,6600,5000,18200,2500,18125,30000,10000,3800,25000,3000,1950,18200,13000,4800,8000,25000,15000,35000,35000,35000,29850,27050,3000,25000,24250,24000,24000,22250,20000,20000,20000,20000,20000,20000,20000,1000,18000,16000,1000,1000,1000,1200,1500,1500,15000,15000,13000,13000,2500,3000,3000,10000,3500,10000,5450,5500,15000,6025,7000,7000,7500,7500,17000,5000,5000,4000,10000,10000,11200,25000,12000,8000,8525,15000,15000,9000,18000,24000,25000,2800,1400,15000,20000,1500,9000,7000,15000,20000,20000,35000]}],\"hovertemplate\":\"%{xaxis.title.text}=%{x}<br>%{yaxis.title.text}=%{y}<extra></extra>\",\"legendgroup\":\"\",\"marker\":{\"color\":\"#636efa\",\"symbol\":\"circle\"},\"name\":\"\",\"showlegend\":false,\"type\":\"splom\"}],                        {\"template\":{\"data\":{\"bar\":[{\"error_x\":{\"color\":\"#2a3f5f\"},\"error_y\":{\"color\":\"#2a3f5f\"},\"marker\":{\"line\":{\"color\":\"#E5ECF6\",\"width\":0.5},\"pattern\":{\"fillmode\":\"overlay\",\"size\":10,\"solidity\":0.2}},\"type\":\"bar\"}],\"barpolar\":[{\"marker\":{\"line\":{\"color\":\"#E5ECF6\",\"width\":0.5},\"pattern\":{\"fillmode\":\"overlay\",\"size\":10,\"solidity\":0.2}},\"type\":\"barpolar\"}],\"carpet\":[{\"aaxis\":{\"endlinecolor\":\"#2a3f5f\",\"gridcolor\":\"white\",\"linecolor\":\"white\",\"minorgridcolor\":\"white\",\"startlinecolor\":\"#2a3f5f\"},\"baxis\":{\"endlinecolor\":\"#2a3f5f\",\"gridcolor\":\"white\",\"linecolor\":\"white\",\"minorgridcolor\":\"white\",\"startlinecolor\":\"#2a3f5f\"},\"type\":\"carpet\"}],\"choropleth\":[{\"colorbar\":{\"outlinewidth\":0,\"ticks\":\"\"},\"type\":\"choropleth\"}],\"contour\":[{\"colorbar\":{\"outlinewidth\":0,\"ticks\":\"\"},\"colorscale\":[[0.0,\"#0d0887\"],[0.1111111111111111,\"#46039f\"],[0.2222222222222222,\"#7201a8\"],[0.3333333333333333,\"#9c179e\"],[0.4444444444444444,\"#bd3786\"],[0.5555555555555556,\"#d8576b\"],[0.6666666666666666,\"#ed7953\"],[0.7777777777777778,\"#fb9f3a\"],[0.8888888888888888,\"#fdca26\"],[1.0,\"#f0f921\"]],\"type\":\"contour\"}],\"contourcarpet\":[{\"colorbar\":{\"outlinewidth\":0,\"ticks\":\"\"},\"type\":\"contourcarpet\"}],\"heatmap\":[{\"colorbar\":{\"outlinewidth\":0,\"ticks\":\"\"},\"colorscale\":[[0.0,\"#0d0887\"],[0.1111111111111111,\"#46039f\"],[0.2222222222222222,\"#7201a8\"],[0.3333333333333333,\"#9c179e\"],[0.4444444444444444,\"#bd3786\"],[0.5555555555555556,\"#d8576b\"],[0.6666666666666666,\"#ed7953\"],[0.7777777777777778,\"#fb9f3a\"],[0.8888888888888888,\"#fdca26\"],[1.0,\"#f0f921\"]],\"type\":\"heatmap\"}],\"heatmapgl\":[{\"colorbar\":{\"outlinewidth\":0,\"ticks\":\"\"},\"colorscale\":[[0.0,\"#0d0887\"],[0.1111111111111111,\"#46039f\"],[0.2222222222222222,\"#7201a8\"],[0.3333333333333333,\"#9c179e\"],[0.4444444444444444,\"#bd3786\"],[0.5555555555555556,\"#d8576b\"],[0.6666666666666666,\"#ed7953\"],[0.7777777777777778,\"#fb9f3a\"],[0.8888888888888888,\"#fdca26\"],[1.0,\"#f0f921\"]],\"type\":\"heatmapgl\"}],\"histogram\":[{\"marker\":{\"pattern\":{\"fillmode\":\"overlay\",\"size\":10,\"solidity\":0.2}},\"type\":\"histogram\"}],\"histogram2d\":[{\"colorbar\":{\"outlinewidth\":0,\"ticks\":\"\"},\"colorscale\":[[0.0,\"#0d0887\"],[0.1111111111111111,\"#46039f\"],[0.2222222222222222,\"#7201a8\"],[0.3333333333333333,\"#9c179e\"],[0.4444444444444444,\"#bd3786\"],[0.5555555555555556,\"#d8576b\"],[0.6666666666666666,\"#ed7953\"],[0.7777777777777778,\"#fb9f3a\"],[0.8888888888888888,\"#fdca26\"],[1.0,\"#f0f921\"]],\"type\":\"histogram2d\"}],\"histogram2dcontour\":[{\"colorbar\":{\"outlinewidth\":0,\"ticks\":\"\"},\"colorscale\":[[0.0,\"#0d0887\"],[0.1111111111111111,\"#46039f\"],[0.2222222222222222,\"#7201a8\"],[0.3333333333333333,\"#9c179e\"],[0.4444444444444444,\"#bd3786\"],[0.5555555555555556,\"#d8576b\"],[0.6666666666666666,\"#ed7953\"],[0.7777777777777778,\"#fb9f3a\"],[0.8888888888888888,\"#fdca26\"],[1.0,\"#f0f921\"]],\"type\":\"histogram2dcontour\"}],\"mesh3d\":[{\"colorbar\":{\"outlinewidth\":0,\"ticks\":\"\"},\"type\":\"mesh3d\"}],\"parcoords\":[{\"line\":{\"colorbar\":{\"outlinewidth\":0,\"ticks\":\"\"}},\"type\":\"parcoords\"}],\"pie\":[{\"automargin\":true,\"type\":\"pie\"}],\"scatter\":[{\"marker\":{\"colorbar\":{\"outlinewidth\":0,\"ticks\":\"\"}},\"type\":\"scatter\"}],\"scatter3d\":[{\"line\":{\"colorbar\":{\"outlinewidth\":0,\"ticks\":\"\"}},\"marker\":{\"colorbar\":{\"outlinewidth\":0,\"ticks\":\"\"}},\"type\":\"scatter3d\"}],\"scattercarpet\":[{\"marker\":{\"colorbar\":{\"outlinewidth\":0,\"ticks\":\"\"}},\"type\":\"scattercarpet\"}],\"scattergeo\":[{\"marker\":{\"colorbar\":{\"outlinewidth\":0,\"ticks\":\"\"}},\"type\":\"scattergeo\"}],\"scattergl\":[{\"marker\":{\"colorbar\":{\"outlinewidth\":0,\"ticks\":\"\"}},\"type\":\"scattergl\"}],\"scattermapbox\":[{\"marker\":{\"colorbar\":{\"outlinewidth\":0,\"ticks\":\"\"}},\"type\":\"scattermapbox\"}],\"scatterpolar\":[{\"marker\":{\"colorbar\":{\"outlinewidth\":0,\"ticks\":\"\"}},\"type\":\"scatterpolar\"}],\"scatterpolargl\":[{\"marker\":{\"colorbar\":{\"outlinewidth\":0,\"ticks\":\"\"}},\"type\":\"scatterpolargl\"}],\"scatterternary\":[{\"marker\":{\"colorbar\":{\"outlinewidth\":0,\"ticks\":\"\"}},\"type\":\"scatterternary\"}],\"surface\":[{\"colorbar\":{\"outlinewidth\":0,\"ticks\":\"\"},\"colorscale\":[[0.0,\"#0d0887\"],[0.1111111111111111,\"#46039f\"],[0.2222222222222222,\"#7201a8\"],[0.3333333333333333,\"#9c179e\"],[0.4444444444444444,\"#bd3786\"],[0.5555555555555556,\"#d8576b\"],[0.6666666666666666,\"#ed7953\"],[0.7777777777777778,\"#fb9f3a\"],[0.8888888888888888,\"#fdca26\"],[1.0,\"#f0f921\"]],\"type\":\"surface\"}],\"table\":[{\"cells\":{\"fill\":{\"color\":\"#EBF0F8\"},\"line\":{\"color\":\"white\"}},\"header\":{\"fill\":{\"color\":\"#C8D4E3\"},\"line\":{\"color\":\"white\"}},\"type\":\"table\"}]},\"layout\":{\"annotationdefaults\":{\"arrowcolor\":\"#2a3f5f\",\"arrowhead\":0,\"arrowwidth\":1},\"autotypenumbers\":\"strict\",\"coloraxis\":{\"colorbar\":{\"outlinewidth\":0,\"ticks\":\"\"}},\"colorscale\":{\"diverging\":[[0,\"#8e0152\"],[0.1,\"#c51b7d\"],[0.2,\"#de77ae\"],[0.3,\"#f1b6da\"],[0.4,\"#fde0ef\"],[0.5,\"#f7f7f7\"],[0.6,\"#e6f5d0\"],[0.7,\"#b8e186\"],[0.8,\"#7fbc41\"],[0.9,\"#4d9221\"],[1,\"#276419\"]],\"sequential\":[[0.0,\"#0d0887\"],[0.1111111111111111,\"#46039f\"],[0.2222222222222222,\"#7201a8\"],[0.3333333333333333,\"#9c179e\"],[0.4444444444444444,\"#bd3786\"],[0.5555555555555556,\"#d8576b\"],[0.6666666666666666,\"#ed7953\"],[0.7777777777777778,\"#fb9f3a\"],[0.8888888888888888,\"#fdca26\"],[1.0,\"#f0f921\"]],\"sequentialminus\":[[0.0,\"#0d0887\"],[0.1111111111111111,\"#46039f\"],[0.2222222222222222,\"#7201a8\"],[0.3333333333333333,\"#9c179e\"],[0.4444444444444444,\"#bd3786\"],[0.5555555555555556,\"#d8576b\"],[0.6666666666666666,\"#ed7953\"],[0.7777777777777778,\"#fb9f3a\"],[0.8888888888888888,\"#fdca26\"],[1.0,\"#f0f921\"]]},\"colorway\":[\"#636efa\",\"#EF553B\",\"#00cc96\",\"#ab63fa\",\"#FFA15A\",\"#19d3f3\",\"#FF6692\",\"#B6E880\",\"#FF97FF\",\"#FECB52\"],\"font\":{\"color\":\"#2a3f5f\"},\"geo\":{\"bgcolor\":\"white\",\"lakecolor\":\"white\",\"landcolor\":\"#E5ECF6\",\"showlakes\":true,\"showland\":true,\"subunitcolor\":\"white\"},\"hoverlabel\":{\"align\":\"left\"},\"hovermode\":\"closest\",\"mapbox\":{\"style\":\"light\"},\"paper_bgcolor\":\"white\",\"plot_bgcolor\":\"#E5ECF6\",\"polar\":{\"angularaxis\":{\"gridcolor\":\"white\",\"linecolor\":\"white\",\"ticks\":\"\"},\"bgcolor\":\"#E5ECF6\",\"radialaxis\":{\"gridcolor\":\"white\",\"linecolor\":\"white\",\"ticks\":\"\"}},\"scene\":{\"xaxis\":{\"backgroundcolor\":\"#E5ECF6\",\"gridcolor\":\"white\",\"gridwidth\":2,\"linecolor\":\"white\",\"showbackground\":true,\"ticks\":\"\",\"zerolinecolor\":\"white\"},\"yaxis\":{\"backgroundcolor\":\"#E5ECF6\",\"gridcolor\":\"white\",\"gridwidth\":2,\"linecolor\":\"white\",\"showbackground\":true,\"ticks\":\"\",\"zerolinecolor\":\"white\"},\"zaxis\":{\"backgroundcolor\":\"#E5ECF6\",\"gridcolor\":\"white\",\"gridwidth\":2,\"linecolor\":\"white\",\"showbackground\":true,\"ticks\":\"\",\"zerolinecolor\":\"white\"}},\"shapedefaults\":{\"line\":{\"color\":\"#2a3f5f\"}},\"ternary\":{\"aaxis\":{\"gridcolor\":\"white\",\"linecolor\":\"white\",\"ticks\":\"\"},\"baxis\":{\"gridcolor\":\"white\",\"linecolor\":\"white\",\"ticks\":\"\"},\"bgcolor\":\"#E5ECF6\",\"caxis\":{\"gridcolor\":\"white\",\"linecolor\":\"white\",\"ticks\":\"\"}},\"title\":{\"x\":0.05},\"xaxis\":{\"automargin\":true,\"gridcolor\":\"white\",\"linecolor\":\"white\",\"ticks\":\"\",\"title\":{\"standoff\":15},\"zerolinecolor\":\"white\",\"zerolinewidth\":2},\"yaxis\":{\"automargin\":true,\"gridcolor\":\"white\",\"linecolor\":\"white\",\"ticks\":\"\",\"title\":{\"standoff\":15},\"zerolinecolor\":\"white\",\"zerolinewidth\":2}}},\"legend\":{\"tracegroupgap\":0},\"margin\":{\"t\":60},\"dragmode\":\"select\"},                        {\"responsive\": true}                    ).then(function(){\n",
              "                            \n",
              "var gd = document.getElementById('76fa25e8-4d8a-4571-b3b9-9acf938ed887');\n",
              "var x = new MutationObserver(function (mutations, observer) {{\n",
              "        var display = window.getComputedStyle(gd).display;\n",
              "        if (!display || display === 'none') {{\n",
              "            console.log([gd, 'removed!']);\n",
              "            Plotly.purge(gd);\n",
              "            observer.disconnect();\n",
              "        }}\n",
              "}});\n",
              "\n",
              "// Listen for the removal of the full notebook cells\n",
              "var notebookContainer = gd.closest('#notebook-container');\n",
              "if (notebookContainer) {{\n",
              "    x.observe(notebookContainer, {childList: true});\n",
              "}}\n",
              "\n",
              "// Listen for the clearing of the current output cell\n",
              "var outputEl = gd.closest('.output');\n",
              "if (outputEl) {{\n",
              "    x.observe(outputEl, {childList: true});\n",
              "}}\n",
              "\n",
              "                        })                };                            </script>        </div>\n",
              "</body>\n",
              "</html>"
            ]
          },
          "metadata": {}
        }
      ]
    },
    {
      "cell_type": "markdown",
      "source": [
        "**PARTIAL CONCLUSIONS 2:**\n",
        "* Now is possible to understand that people with lower income  and debts usually use more the loans to pay for venture and education purposes.\n",
        "* Although, people with higher income and debts use more the loans to pay for medical and debt consolidation purposes.\n",
        "* At a first look it is acceptable to think that, to people with lower income, loans destined to venture and education purposes are more risky. For people with higher income, loans destined to medical and debt consolidation purposes are more risky.\n"
      ],
      "metadata": {
        "id": "Unl7C9oifY8n"
      }
    },
    {
      "cell_type": "markdown",
      "source": [
        "**MEAN VALUES OF SELECTED PARAMETERS IN A CHOSEN INTERVAL:**"
      ],
      "metadata": {
        "id": "qF6PcuhcZVEs"
      }
    },
    {
      "cell_type": "code",
      "source": [
        "from numpy.core.fromnumeric import mean\n",
        "mean_debt = default['loan_amnt'][default['person_age']> 25][default['person_age']< 40].mean()\n",
        "## filtering the data and obtaining the mean amount in debt of people between 26 and 39 years old.]\n",
        "print(mean_debt) "
      ],
      "metadata": {
        "id": "G9_o31T7dyH7",
        "colab": {
          "base_uri": "https://localhost:8080/"
        },
        "outputId": "39cff798-79bb-4e3d-8ce8-4349f56d84f3"
      },
      "execution_count": null,
      "outputs": [
        {
          "output_type": "stream",
          "name": "stdout",
          "text": [
            "11262.934000625586\n"
          ]
        }
      ]
    },
    {
      "cell_type": "markdown",
      "source": [
        "**FINDING INCONSISTENCIES:**"
      ],
      "metadata": {
        "id": "jEqoIALtPKYR"
      }
    },
    {
      "cell_type": "code",
      "source": [
        "## This dataset apparently have some strange ages for some people: ages hugher than 100 years old\n",
        "## we can use mechanisms to treat eventual inconsistencies with data filtering and treatment\n",
        "\n",
        "data.loc[data['person_age']>100] ## here is possible to localize all people with loan amount higher than 20.000 and see how much errors we have\n",
        "## now, we can choose to crate a new variable without registered ages higher than 100 years old:\n",
        "no_errors = data.drop(data[data['person_age']>100].index)\n",
        "\n",
        "## here we can see how much data were erased from the dataset\n",
        "print(len(data),len(no_errors))\n",
        "## now it is possible to understand that, from 32581 registered people, 5 are possibly wrong\n",
        "\n"
      ],
      "metadata": {
        "id": "zby-ssmpPdXa",
        "colab": {
          "base_uri": "https://localhost:8080/"
        },
        "outputId": "a86f5f7c-0bde-46cc-f3c2-cd641f3808e6"
      },
      "execution_count": null,
      "outputs": [
        {
          "output_type": "stream",
          "name": "stdout",
          "text": [
            "32581 32576\n"
          ]
        }
      ]
    },
    {
      "cell_type": "markdown",
      "source": [
        "**TREATING DATA INCONSISTENCIES:**"
      ],
      "metadata": {
        "id": "rdZyIDhYVL3v"
      }
    },
    {
      "cell_type": "code",
      "source": [
        "## since we have only 5 registers possibly wrong, and the untrusted parameter is age, changing the untrusted values for the mean could be worth\n",
        "## so, we should obtain the mean without consider the wrong values:\n",
        "mean_age = no_errors['person_age'].mean()\n",
        "## now we should change the 5 values for this mean:\n",
        "data.loc[data['person_age']>100] = mean_age\n",
        "## Now all untrusted values were turned into the mean and can be computed to a machine learning trusted process"
      ],
      "metadata": {
        "id": "lzahZnOkauB7"
      },
      "execution_count": null,
      "outputs": []
    },
    {
      "cell_type": "markdown",
      "source": [
        "**PREDICTIVE ATTRIBUTES:**\n",
        "\n",
        "* Since unique parameters doesn't fit as predictive attributes, i am choosing three specific parameters: **person_age** , **person_income** and **loan_amnt**"
      ],
      "metadata": {
        "id": "3Zu3Vm2rhlO4"
      }
    },
    {
      "cell_type": "markdown",
      "source": [
        "**CHECKING POSSIBLE REMAINING DATA INCONSISTENCES BETWEEN THE PREDICTIVE ATTRIBUTES - OBTAINING THE LOWER AND HIGHER VALUES OF THE SELECTED ATRIBUTES (person_age, person_income, loan_amnt) CONSIDERING ALL THE ROWS:**\n"
      ],
      "metadata": {
        "id": "REC267-tRvKD"
      }
    },
    {
      "cell_type": "code",
      "source": [
        "data['person_age'].min() ## youngest person's age"
      ],
      "metadata": {
        "colab": {
          "base_uri": "https://localhost:8080/"
        },
        "id": "XcuM_LlQTBxH",
        "outputId": "1a757c37-ad9e-414c-8200-587300bdf597"
      },
      "execution_count": null,
      "outputs": [
        {
          "output_type": "execute_result",
          "data": {
            "text/plain": [
              "20.0"
            ]
          },
          "metadata": {},
          "execution_count": 46
        }
      ]
    },
    {
      "cell_type": "code",
      "source": [
        "data['person_age'].max() ## oldest person's age"
      ],
      "metadata": {
        "colab": {
          "base_uri": "https://localhost:8080/"
        },
        "id": "nZrqqTELTSLB",
        "outputId": "6729e894-3393-4d23-b531-762dea057dc4"
      },
      "execution_count": null,
      "outputs": [
        {
          "output_type": "execute_result",
          "data": {
            "text/plain": [
              "94.0"
            ]
          },
          "metadata": {},
          "execution_count": 47
        }
      ]
    },
    {
      "cell_type": "code",
      "source": [
        "data['person_income'].min() ## lowest income"
      ],
      "metadata": {
        "colab": {
          "base_uri": "https://localhost:8080/"
        },
        "id": "abU8t03Ne8ti",
        "outputId": "562fc26d-01d9-4663-96e2-74609b28f33c"
      },
      "execution_count": null,
      "outputs": [
        {
          "output_type": "execute_result",
          "data": {
            "text/plain": [
              "27.718043958742633"
            ]
          },
          "metadata": {},
          "execution_count": 48
        }
      ]
    },
    {
      "cell_type": "code",
      "source": [
        "data['person_income'].max() ## highest income\n"
      ],
      "metadata": {
        "colab": {
          "base_uri": "https://localhost:8080/"
        },
        "id": "ufuPd1Gee85p",
        "outputId": "c6d1a5c6-1717-44d4-b6da-27a7668dbe02"
      },
      "execution_count": null,
      "outputs": [
        {
          "output_type": "execute_result",
          "data": {
            "text/plain": [
              "2039784.0"
            ]
          },
          "metadata": {},
          "execution_count": 49
        }
      ]
    },
    {
      "cell_type": "code",
      "source": [
        "data['loan_amnt'].min() ## lowest loan"
      ],
      "metadata": {
        "colab": {
          "base_uri": "https://localhost:8080/"
        },
        "id": "BepOA_WdioTX",
        "outputId": "5efbf32e-af75-4673-e9e0-ce372e913a5c"
      },
      "execution_count": null,
      "outputs": [
        {
          "output_type": "execute_result",
          "data": {
            "text/plain": [
              "27.718043958742633"
            ]
          },
          "metadata": {},
          "execution_count": 50
        }
      ]
    },
    {
      "cell_type": "code",
      "source": [
        "data['loan_amnt'].max() ## highest loan"
      ],
      "metadata": {
        "colab": {
          "base_uri": "https://localhost:8080/"
        },
        "id": "TNwSPgolioaO",
        "outputId": "d34e9543-0ad1-4bac-9129-0973c0e33531"
      },
      "execution_count": null,
      "outputs": [
        {
          "output_type": "execute_result",
          "data": {
            "text/plain": [
              "35000.0"
            ]
          },
          "metadata": {},
          "execution_count": 51
        }
      ]
    },
    {
      "cell_type": "markdown",
      "source": [
        "\n",
        "**PARTIAL CONCLUSIONS 3:**\n",
        "\n",
        "* $27.718043958742633 represents a too low income, so it is important to search for equal income value registers as possible inconsistencies;\n",
        "* 27.718043958742633 seems to be a commom entrance, suggesting a registered error."
      ],
      "metadata": {
        "id": "2G6NJQ37hkss"
      }
    },
    {
      "cell_type": "markdown",
      "source": [
        "**CHECKING THE INDEXES WITH THE UNCOMMON REPEATED VALUE:**"
      ],
      "metadata": {
        "id": "k8hFapA5jJUJ"
      }
    },
    {
      "cell_type": "code",
      "source": [
        "data[data['person_income'] < 28]\n",
        "## YES WE DO HAVE REMAINING INCONSISTENCIES"
      ],
      "metadata": {
        "colab": {
          "base_uri": "https://localhost:8080/",
          "height": 270
        },
        "id": "eDJWL4WFhlXK",
        "outputId": "d778a5cf-0d25-498b-dede-9da5be3b50b1"
      },
      "execution_count": null,
      "outputs": [
        {
          "output_type": "execute_result",
          "data": {
            "text/plain": [
              "       person_age  person_income person_home_ownership  person_emp_length  \\\n",
              "81      27.718044      27.718044             27.718044          27.718044   \n",
              "183     27.718044      27.718044             27.718044          27.718044   \n",
              "575     27.718044      27.718044             27.718044          27.718044   \n",
              "747     27.718044      27.718044             27.718044          27.718044   \n",
              "32297   27.718044      27.718044             27.718044          27.718044   \n",
              "\n",
              "      loan_intent loan_grade  loan_amnt  loan_int_rate  loan_status  \\\n",
              "81      27.718044  27.718044  27.718044      27.718044    27.718044   \n",
              "183     27.718044  27.718044  27.718044      27.718044    27.718044   \n",
              "575     27.718044  27.718044  27.718044      27.718044    27.718044   \n",
              "747     27.718044  27.718044  27.718044      27.718044    27.718044   \n",
              "32297   27.718044  27.718044  27.718044      27.718044    27.718044   \n",
              "\n",
              "       loan_percent_income cb_person_default_on_file  \\\n",
              "81               27.718044                 27.718044   \n",
              "183              27.718044                 27.718044   \n",
              "575              27.718044                 27.718044   \n",
              "747              27.718044                 27.718044   \n",
              "32297            27.718044                 27.718044   \n",
              "\n",
              "       cb_person_cred_hist_length  \n",
              "81                      27.718044  \n",
              "183                     27.718044  \n",
              "575                     27.718044  \n",
              "747                     27.718044  \n",
              "32297                   27.718044  "
            ],
            "text/html": [
              "\n",
              "  <div id=\"df-7d6eab92-caf8-4579-a1bb-76eaa2019bd0\">\n",
              "    <div class=\"colab-df-container\">\n",
              "      <div>\n",
              "<style scoped>\n",
              "    .dataframe tbody tr th:only-of-type {\n",
              "        vertical-align: middle;\n",
              "    }\n",
              "\n",
              "    .dataframe tbody tr th {\n",
              "        vertical-align: top;\n",
              "    }\n",
              "\n",
              "    .dataframe thead th {\n",
              "        text-align: right;\n",
              "    }\n",
              "</style>\n",
              "<table border=\"1\" class=\"dataframe\">\n",
              "  <thead>\n",
              "    <tr style=\"text-align: right;\">\n",
              "      <th></th>\n",
              "      <th>person_age</th>\n",
              "      <th>person_income</th>\n",
              "      <th>person_home_ownership</th>\n",
              "      <th>person_emp_length</th>\n",
              "      <th>loan_intent</th>\n",
              "      <th>loan_grade</th>\n",
              "      <th>loan_amnt</th>\n",
              "      <th>loan_int_rate</th>\n",
              "      <th>loan_status</th>\n",
              "      <th>loan_percent_income</th>\n",
              "      <th>cb_person_default_on_file</th>\n",
              "      <th>cb_person_cred_hist_length</th>\n",
              "    </tr>\n",
              "  </thead>\n",
              "  <tbody>\n",
              "    <tr>\n",
              "      <th>81</th>\n",
              "      <td>27.718044</td>\n",
              "      <td>27.718044</td>\n",
              "      <td>27.718044</td>\n",
              "      <td>27.718044</td>\n",
              "      <td>27.718044</td>\n",
              "      <td>27.718044</td>\n",
              "      <td>27.718044</td>\n",
              "      <td>27.718044</td>\n",
              "      <td>27.718044</td>\n",
              "      <td>27.718044</td>\n",
              "      <td>27.718044</td>\n",
              "      <td>27.718044</td>\n",
              "    </tr>\n",
              "    <tr>\n",
              "      <th>183</th>\n",
              "      <td>27.718044</td>\n",
              "      <td>27.718044</td>\n",
              "      <td>27.718044</td>\n",
              "      <td>27.718044</td>\n",
              "      <td>27.718044</td>\n",
              "      <td>27.718044</td>\n",
              "      <td>27.718044</td>\n",
              "      <td>27.718044</td>\n",
              "      <td>27.718044</td>\n",
              "      <td>27.718044</td>\n",
              "      <td>27.718044</td>\n",
              "      <td>27.718044</td>\n",
              "    </tr>\n",
              "    <tr>\n",
              "      <th>575</th>\n",
              "      <td>27.718044</td>\n",
              "      <td>27.718044</td>\n",
              "      <td>27.718044</td>\n",
              "      <td>27.718044</td>\n",
              "      <td>27.718044</td>\n",
              "      <td>27.718044</td>\n",
              "      <td>27.718044</td>\n",
              "      <td>27.718044</td>\n",
              "      <td>27.718044</td>\n",
              "      <td>27.718044</td>\n",
              "      <td>27.718044</td>\n",
              "      <td>27.718044</td>\n",
              "    </tr>\n",
              "    <tr>\n",
              "      <th>747</th>\n",
              "      <td>27.718044</td>\n",
              "      <td>27.718044</td>\n",
              "      <td>27.718044</td>\n",
              "      <td>27.718044</td>\n",
              "      <td>27.718044</td>\n",
              "      <td>27.718044</td>\n",
              "      <td>27.718044</td>\n",
              "      <td>27.718044</td>\n",
              "      <td>27.718044</td>\n",
              "      <td>27.718044</td>\n",
              "      <td>27.718044</td>\n",
              "      <td>27.718044</td>\n",
              "    </tr>\n",
              "    <tr>\n",
              "      <th>32297</th>\n",
              "      <td>27.718044</td>\n",
              "      <td>27.718044</td>\n",
              "      <td>27.718044</td>\n",
              "      <td>27.718044</td>\n",
              "      <td>27.718044</td>\n",
              "      <td>27.718044</td>\n",
              "      <td>27.718044</td>\n",
              "      <td>27.718044</td>\n",
              "      <td>27.718044</td>\n",
              "      <td>27.718044</td>\n",
              "      <td>27.718044</td>\n",
              "      <td>27.718044</td>\n",
              "    </tr>\n",
              "  </tbody>\n",
              "</table>\n",
              "</div>\n",
              "      <button class=\"colab-df-convert\" onclick=\"convertToInteractive('df-7d6eab92-caf8-4579-a1bb-76eaa2019bd0')\"\n",
              "              title=\"Convert this dataframe to an interactive table.\"\n",
              "              style=\"display:none;\">\n",
              "        \n",
              "  <svg xmlns=\"http://www.w3.org/2000/svg\" height=\"24px\"viewBox=\"0 0 24 24\"\n",
              "       width=\"24px\">\n",
              "    <path d=\"M0 0h24v24H0V0z\" fill=\"none\"/>\n",
              "    <path d=\"M18.56 5.44l.94 2.06.94-2.06 2.06-.94-2.06-.94-.94-2.06-.94 2.06-2.06.94zm-11 1L8.5 8.5l.94-2.06 2.06-.94-2.06-.94L8.5 2.5l-.94 2.06-2.06.94zm10 10l.94 2.06.94-2.06 2.06-.94-2.06-.94-.94-2.06-.94 2.06-2.06.94z\"/><path d=\"M17.41 7.96l-1.37-1.37c-.4-.4-.92-.59-1.43-.59-.52 0-1.04.2-1.43.59L10.3 9.45l-7.72 7.72c-.78.78-.78 2.05 0 2.83L4 21.41c.39.39.9.59 1.41.59.51 0 1.02-.2 1.41-.59l7.78-7.78 2.81-2.81c.8-.78.8-2.07 0-2.86zM5.41 20L4 18.59l7.72-7.72 1.47 1.35L5.41 20z\"/>\n",
              "  </svg>\n",
              "      </button>\n",
              "      \n",
              "  <style>\n",
              "    .colab-df-container {\n",
              "      display:flex;\n",
              "      flex-wrap:wrap;\n",
              "      gap: 12px;\n",
              "    }\n",
              "\n",
              "    .colab-df-convert {\n",
              "      background-color: #E8F0FE;\n",
              "      border: none;\n",
              "      border-radius: 50%;\n",
              "      cursor: pointer;\n",
              "      display: none;\n",
              "      fill: #1967D2;\n",
              "      height: 32px;\n",
              "      padding: 0 0 0 0;\n",
              "      width: 32px;\n",
              "    }\n",
              "\n",
              "    .colab-df-convert:hover {\n",
              "      background-color: #E2EBFA;\n",
              "      box-shadow: 0px 1px 2px rgba(60, 64, 67, 0.3), 0px 1px 3px 1px rgba(60, 64, 67, 0.15);\n",
              "      fill: #174EA6;\n",
              "    }\n",
              "\n",
              "    [theme=dark] .colab-df-convert {\n",
              "      background-color: #3B4455;\n",
              "      fill: #D2E3FC;\n",
              "    }\n",
              "\n",
              "    [theme=dark] .colab-df-convert:hover {\n",
              "      background-color: #434B5C;\n",
              "      box-shadow: 0px 1px 3px 1px rgba(0, 0, 0, 0.15);\n",
              "      filter: drop-shadow(0px 1px 2px rgba(0, 0, 0, 0.3));\n",
              "      fill: #FFFFFF;\n",
              "    }\n",
              "  </style>\n",
              "\n",
              "      <script>\n",
              "        const buttonEl =\n",
              "          document.querySelector('#df-7d6eab92-caf8-4579-a1bb-76eaa2019bd0 button.colab-df-convert');\n",
              "        buttonEl.style.display =\n",
              "          google.colab.kernel.accessAllowed ? 'block' : 'none';\n",
              "\n",
              "        async function convertToInteractive(key) {\n",
              "          const element = document.querySelector('#df-7d6eab92-caf8-4579-a1bb-76eaa2019bd0');\n",
              "          const dataTable =\n",
              "            await google.colab.kernel.invokeFunction('convertToInteractive',\n",
              "                                                     [key], {});\n",
              "          if (!dataTable) return;\n",
              "\n",
              "          const docLinkHtml = 'Like what you see? Visit the ' +\n",
              "            '<a target=\"_blank\" href=https://colab.research.google.com/notebooks/data_table.ipynb>data table notebook</a>'\n",
              "            + ' to learn more about interactive tables.';\n",
              "          element.innerHTML = '';\n",
              "          dataTable['output_type'] = 'display_data';\n",
              "          await google.colab.output.renderOutput(dataTable, element);\n",
              "          const docLink = document.createElement('div');\n",
              "          docLink.innerHTML = docLinkHtml;\n",
              "          element.appendChild(docLink);\n",
              "        }\n",
              "      </script>\n",
              "    </div>\n",
              "  </div>\n",
              "  "
            ]
          },
          "metadata": {},
          "execution_count": 52
        }
      ]
    },
    {
      "cell_type": "markdown",
      "source": [
        "**PARTIAL CONCLUSIONS 4:**\n",
        "\n",
        "* since all the values on the 5 wrongly registered records are just repeating the same value, we cannot use the data, since it would be necessary changing all the predictive values to mean values;\n",
        "* it should be better erase these specific rows;"
      ],
      "metadata": {
        "id": "6HGHKY98jvr9"
      }
    },
    {
      "cell_type": "markdown",
      "source": [
        "**ERASING THE INCONSISTENT ROWS:**"
      ],
      "metadata": {
        "id": "Xq4L7ncgpYKY"
      }
    },
    {
      "cell_type": "code",
      "source": [
        "data = data.drop(data[data['person_income']<28].index)\n",
        "## checking for the inconsistent rows \n",
        "data['loan_status'][data['loan_status']>1]\n",
        "##they were deleted"
      ],
      "metadata": {
        "colab": {
          "base_uri": "https://localhost:8080/"
        },
        "id": "PIEpGijNphG-",
        "outputId": "f6deed6e-6eab-49c2-a143-48416d854827"
      },
      "execution_count": null,
      "outputs": [
        {
          "output_type": "execute_result",
          "data": {
            "text/plain": [
              "Series([], Name: loan_status, dtype: float64)"
            ]
          },
          "metadata": {},
          "execution_count": 53
        }
      ]
    },
    {
      "cell_type": "markdown",
      "source": [
        "**CREATING NUMPY ARRAYS FOR PREDICTIVE ATTRIBUTES AND EXPECTED RESULTS:**"
      ],
      "metadata": {
        "id": "am044wpjrCxE"
      }
    },
    {
      "cell_type": "code",
      "source": [
        "## The first step to use predictive attributes is select parameters\n",
        "## Unique parameters doesn't fit as predictive attributes\n",
        "predictive = data.iloc[:,[0,1,6]].values ## here we are selecting all rows and the columns 0, 2 and 6 (person_age , person_income and loan_amnt)\n",
        "## using .values we transform the values to numpy arrays that contains the 3 selected parameters per id\n"
      ],
      "metadata": {
        "id": "jJGCyDDVil5s"
      },
      "execution_count": null,
      "outputs": []
    },
    {
      "cell_type": "markdown",
      "source": [
        "**EXPECTED RESULTS (LOAN STATUS):**"
      ],
      "metadata": {
        "id": "5OCwx0Q4pn91"
      }
    },
    {
      "cell_type": "code",
      "source": [
        "## Here we capture the loan status (paid or in debt) related to every person in the dataset\n",
        "expected = data.iloc[:,8].values"
      ],
      "metadata": {
        "id": "TW7GWd1zpz9l"
      },
      "execution_count": null,
      "outputs": []
    },
    {
      "cell_type": "markdown",
      "source": [
        "**STANDARDISATION OR NORMALIZATION (TO BENEFIT LEARNING ALGORITHMS):**"
      ],
      "metadata": {
        "id": "O5TsQrkzvMg0"
      }
    },
    {
      "cell_type": "markdown",
      "source": [
        "Note: for predictive values with outlier values it's better to use standardisation;"
      ],
      "metadata": {
        "id": "eHyawWmgw--i"
      }
    },
    {
      "cell_type": "code",
      "source": [
        "predictive[:,0].min(),predictive[:,1].min(),predictive[:,2].min()\n",
        "## checking the scale of the values"
      ],
      "metadata": {
        "colab": {
          "base_uri": "https://localhost:8080/"
        },
        "id": "UTS-8Je-y3FQ",
        "outputId": "cb5766e8-4fcf-45f4-a450-ad0fca4dad5a"
      },
      "execution_count": null,
      "outputs": [
        {
          "output_type": "execute_result",
          "data": {
            "text/plain": [
              "(20.0, 4000.0, 500.0)"
            ]
          },
          "metadata": {},
          "execution_count": 56
        }
      ]
    },
    {
      "cell_type": "code",
      "source": [
        "## standardisation itself\n",
        "scaler_predictive = StandardScaler()\n",
        "predictive = scaler_predictive.fit_transform(predictive)"
      ],
      "metadata": {
        "id": "v_L-hB1Iw7MU"
      },
      "execution_count": null,
      "outputs": []
    },
    {
      "cell_type": "code",
      "source": [
        "predictive[:,0].min(),predictive[:,1].min(),predictive[:,2].min()\n",
        "## checking the new scale of the values"
      ],
      "metadata": {
        "colab": {
          "base_uri": "https://localhost:8080/"
        },
        "id": "Ka6R3YKuyg6g",
        "outputId": "0ab4cfb3-d641-4760-b8da-b8f6f2742a35"
      },
      "execution_count": null,
      "outputs": [
        {
          "output_type": "execute_result",
          "data": {
            "text/plain": [
              "(-1.2438638905517996, -1.1779405316576799, -1.4377443770407878)"
            ]
          },
          "metadata": {},
          "execution_count": 58
        }
      ]
    },
    {
      "cell_type": "markdown",
      "source": [
        "**SPLITTING THE DATA INTO TRAINING AND VALIDATION SETS:**"
      ],
      "metadata": {
        "id": "lUS2nxV2_qCs"
      }
    },
    {
      "cell_type": "code",
      "source": [
        "X_train , X_test , y_train , y_test = train_test_split(predictive,expected,test_size = 0.25,random_state=0)"
      ],
      "metadata": {
        "id": "_yBInm38_0SE"
      },
      "execution_count": null,
      "outputs": []
    },
    {
      "cell_type": "markdown",
      "source": [
        "**SAVING VARIABLES:**"
      ],
      "metadata": {
        "id": "Ed5-Ov3SXXUp"
      }
    },
    {
      "cell_type": "code",
      "source": [
        "with open('credit.pkl',mode = 'wb') as f:\n",
        "  pickle.dump([X_train,y_train,X_test,y_test],f)"
      ],
      "metadata": {
        "id": "bE0Zh8vHXbMR"
      },
      "execution_count": null,
      "outputs": []
    }
  ]
}